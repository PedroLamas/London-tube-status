{
 "cells": [
  {
   "cell_type": "markdown",
   "metadata": {},
   "source": [
    "Check the status of tube lines\n",
    "\n",
    "http://docs.python-requests.org/en/master/\n",
    "\n",
    "http://docs.python-requests.org/en/master/user/quickstart/#make-a-request Tutorial\n",
    "\n",
    "https://github.com/timcnicholls/transport_api_demo/blob/master/harwell_wantage_bus.py\n",
    "\n",
    "23-6 Removed Goodness attribute as just duplicates state"
   ]
  },
  {
   "cell_type": "code",
   "execution_count": 1,
   "metadata": {
    "collapsed": true
   },
   "outputs": [],
   "source": [
    "import requests\n",
    "import requests_mock\n",
    "import json\n",
    "import pprint\n",
    "import unittest\n",
    "import sys"
   ]
  },
  {
   "cell_type": "code",
   "execution_count": 2,
   "metadata": {
    "collapsed": true
   },
   "outputs": [],
   "source": [
    "def print_json(json_data):\n",
    "    pprint.PrettyPrinter().pprint(json_data)"
   ]
  },
  {
   "cell_type": "code",
   "execution_count": 3,
   "metadata": {
    "collapsed": false
   },
   "outputs": [],
   "source": [
    "lines = ['Bakerloo',\n",
    " 'Central',\n",
    " 'Circle',\n",
    " 'District',\n",
    " 'Hammersmith & City',\n",
    " 'Jubilee',\n",
    " 'Metropolitan',\n",
    " 'Northern',\n",
    " 'Piccadilly',\n",
    " 'Victoria',\n",
    " 'Waterloo & City']"
   ]
  },
  {
   "cell_type": "code",
   "execution_count": 4,
   "metadata": {
    "collapsed": false
   },
   "outputs": [
    {
     "name": "stdout",
     "output_type": "stream",
     "text": [
      "Tube requests 26-6-2017.ipynb  hammersmith-city.json\r\n",
      "bakerloo.json                  tube_state.json\r\n",
      "circle.json                    victoria.json\r\n"
     ]
    }
   ],
   "source": [
    "ls"
   ]
  },
  {
   "cell_type": "code",
   "execution_count": 5,
   "metadata": {
    "collapsed": false
   },
   "outputs": [
    {
     "data": {
      "text/plain": [
       "11"
      ]
     },
     "execution_count": 5,
     "metadata": {},
     "output_type": "execute_result"
    }
   ],
   "source": [
    "len(lines)"
   ]
  },
  {
   "cell_type": "markdown",
   "metadata": {},
   "source": [
    "# Basic function of API"
   ]
  },
  {
   "cell_type": "code",
   "execution_count": 6,
   "metadata": {
    "collapsed": false
   },
   "outputs": [
    {
     "name": "stdout",
     "output_type": "stream",
     "text": [
      "11\n",
      "'Bakerloo'\n",
      "'Good Service'\n"
     ]
    }
   ],
   "source": [
    "url = 'https://api.tfl.gov.uk/line/mode/tube/status'\n",
    "#data = requests.get(url).json() # get the response object\n",
    "\n",
    "# Cached data\n",
    "with requests_mock.mock() as m:\n",
    "    m.get(url, text=open('tube_state.json').read())\n",
    "    data = requests.get(url).json()\n",
    "    \n",
    "print_json(len(data))\n",
    "print_json(data[0]['name'])\n",
    "print_json(data[0]['lineStatuses'][0]['statusSeverityDescription'])"
   ]
  },
  {
   "cell_type": "code",
   "execution_count": 7,
   "metadata": {
    "collapsed": false
   },
   "outputs": [
    {
     "data": {
      "text/plain": [
       "{'Bakerloo': None,\n",
       " 'Central': None,\n",
       " 'Circle': None,\n",
       " 'District': None,\n",
       " 'Hammersmith & City': None,\n",
       " 'Jubilee': None,\n",
       " 'Metropolitan': None,\n",
       " 'Northern': None,\n",
       " 'Piccadilly': None,\n",
       " 'Victoria': None,\n",
       " 'Waterloo & City': None}"
      ]
     },
     "execution_count": 7,
     "metadata": {},
     "output_type": "execute_result"
    }
   ],
   "source": [
    "data_dict = dict.fromkeys(lines)    # Create the empty dict for the data\n",
    "data_dict"
   ]
  },
  {
   "cell_type": "markdown",
   "metadata": {},
   "source": [
    "Main logic for parsing the data into a useful dict"
   ]
  },
  {
   "cell_type": "code",
   "execution_count": 8,
   "metadata": {
    "collapsed": false
   },
   "outputs": [
    {
     "name": "stdout",
     "output_type": "stream",
     "text": [
      "{'Bakerloo': {'Description': 'Nothing to report', 'State': 'Good Service'},\n",
      " 'Central': {'Description': 'Nothing to report', 'State': 'Good Service'},\n",
      " 'Circle': {'Description': 'Circle Line: No service Edgware Road to Aldgate '\n",
      "                           'via Embankment while we fix a signal systems '\n",
      "                           'failure.  London Buses, London Overground, Great '\n",
      "                           'Northern accepting valid  London Underground '\n",
      "                           'tickets via any reasonable route. ',\n",
      "            'State': 'Part Suspended'},\n",
      " 'District': {'Description': 'District Line: No service Whitechapel to '\n",
      "                             'Richmond, Ealing Broadway and Wimbledon and '\n",
      "                             'Between Wimbledon and Edgware Road. SEVERE '\n",
      "                             'DELAYS Whitechapel to Upminster while we fix a '\n",
      "                             'signal systems failure at Earls Court. London '\n",
      "                             'Buses, London Overground, DLR, C2C, South West '\n",
      "                             'Train, Greater Anglia accepting valid  London '\n",
      "                             'Underground  tickets via any reasonable route.  '\n",
      "                             '*** District Line: No service Whitechapel to '\n",
      "                             'Richmond, Ealing Broadway and Wimbledon and '\n",
      "                             'Between Wimbledon and Edgware Road. SEVERE '\n",
      "                             'DELAYS Whitechapel to Upminster while we fix a '\n",
      "                             'signal systems failure at Earls Court. London '\n",
      "                             'Buses, London Overground, DLR, C2C, South West '\n",
      "                             'Train, Greater Anglia accepting valid  London '\n",
      "                             'Underground  tickets via any reasonable route. ',\n",
      "              'State': 'Part Suspended + Severe Delays'},\n",
      " 'Hammersmith & City': {'Description': 'Hammersmith and City Line: No service '\n",
      "                                       'Liverpool Street to Barking and SEVERE '\n",
      "                                       'DELAYS Liverpool Street to Hammersmith '\n",
      "                                       'while we fix a signal systems failure '\n",
      "                                       'at Earls Court.  *** Hammersmith and '\n",
      "                                       'City Line: No service Liverpool Street '\n",
      "                                       'to Barking and SEVERE DELAYS Liverpool '\n",
      "                                       'Street to Hammersmith while we fix a '\n",
      "                                       'signal systems failure at Earls '\n",
      "                                       'Court. ',\n",
      "                        'State': 'Part Suspended + Severe Delays'},\n",
      " 'Jubilee': {'Description': 'Nothing to report', 'State': 'Good Service'},\n",
      " 'Metropolitan': {'Description': 'Nothing to report', 'State': 'Good Service'},\n",
      " 'Northern': {'Description': 'Nothing to report', 'State': 'Good Service'},\n",
      " 'Piccadilly': {'Description': 'Piccadilly Line: No service Hyde Park Corner '\n",
      "                               'to Heathrow all terminals and Uxbridge. SEVERE '\n",
      "                               'DELAYS Hyde Park Corner to Cockfosters while '\n",
      "                               'we fix a signal systems failure. London Buses, '\n",
      "                               'London Overground, Heathrow Connect, South '\n",
      "                               'West Train, Great Northern accepting valid  '\n",
      "                               'London Underground  tickets via any reasonable '\n",
      "                               'route.  *** Piccadilly Line: No service Hyde '\n",
      "                               'Park Corner to Heathrow all terminals and '\n",
      "                               'Uxbridge. SEVERE DELAYS Hyde Park Corner to '\n",
      "                               'Cockfosters while we fix a signal systems '\n",
      "                               'failure. London Buses, London Overground, '\n",
      "                               'Heathrow Connect, South West Train, Great '\n",
      "                               'Northern accepting valid  London Underground  '\n",
      "                               'tickets via any reasonable route. ',\n",
      "                'State': 'Part Suspended + Severe Delays'},\n",
      " 'Victoria': {'Description': 'Nothing to report', 'State': 'Good Service'},\n",
      " 'Waterloo & City': {'Description': 'Nothing to report',\n",
      "                     'State': 'Good Service'}}\n"
     ]
    }
   ],
   "source": [
    "for line in data:                     # Assign data via key\n",
    "    statuses = [status['statusSeverityDescription'] for status in line['lineStatuses']]\n",
    "    state = ' + '.join(sorted(set(statuses)))\n",
    "    \n",
    "    if state == 'Good Service':   # if good status, this is the only status returned\n",
    "        reason =  'Nothing to report'\n",
    "    else:\n",
    "        reason = ' *** '.join([status['reason'] for status in line['lineStatuses']])\n",
    "\n",
    "    attr = {'State': state, 'Description': reason}\n",
    "    data_dict[line['name']] = attr\n",
    "    \n",
    "print_json(data_dict)"
   ]
  },
  {
   "cell_type": "code",
   "execution_count": null,
   "metadata": {
    "collapsed": true
   },
   "outputs": [],
   "source": []
  },
  {
   "cell_type": "markdown",
   "metadata": {},
   "source": [
    "# Create tube class"
   ]
  },
  {
   "cell_type": "markdown",
   "metadata": {},
   "source": [
    "Wrap in a class with a method for updating and another for returning line of interest. Follow https://github.com/timcnicholls/home-assistant/blob/transport-api/homeassistant/components/sensor/uk_transport.py"
   ]
  },
  {
   "cell_type": "code",
   "execution_count": 9,
   "metadata": {
    "collapsed": false
   },
   "outputs": [],
   "source": [
    "class LondonTubeSensor():    # Entity\n",
    "    \"\"\"\n",
    "    Sensor that reads the status of a tube lines using the TFL API.\n",
    "    \"\"\"\n",
    "    API_URL_BASE = \"https://api.tfl.gov.uk/line/{}/status\"\n",
    "    ICON = 'mdi:subway'\n",
    "\n",
    "    def __init__(self, name):\n",
    "        \"\"\"Initialize the sensor.\"\"\"\n",
    "        self._name = name             # the name of the line from the allowed list\n",
    "        self._data = {}\n",
    "        self._url = self.API_URL_BASE\n",
    "        self._state = 'Updating'\n",
    "        self._description = ['Updating']\n",
    "\n",
    "    @property\n",
    "    def name(self):\n",
    "        \"\"\"Return the line name of the sensor.\"\"\"\n",
    "        return self._name\n",
    "\n",
    "    @property\n",
    "    def state(self):\n",
    "        \"\"\"Return the state of the sensor.\"\"\"\n",
    "        return self._state\n",
    "\n",
    "    @property\n",
    "    def icon(self):\n",
    "        \"\"\"Icon to use in the frontend, if any.\"\"\"\n",
    "        return self.ICON\n",
    "\n",
    "    @property\n",
    "    def device_state_attributes(self):\n",
    "        \"\"\"Return other details about the sensor state.\"\"\"\n",
    "        attrs = {}  # {'attribution': 'Data provided by transportapi.com'}\n",
    "        attrs['Description'] = self._description # if there is data, append\n",
    "        return attrs\n",
    "\n",
    "    def update(self):\n",
    "        \"\"\"Perform an API request and update the sensor.\"\"\"\n",
    "        response = requests.get(self._url.format(self._name.lower()))    # make a request\n",
    "\n",
    "        if response.status_code != 200:\n",
    "            #_LOGGER.warning(\"Invalid response from API\")\n",
    "            print(\"Invalid response from API\")\n",
    "\n",
    "        else:\n",
    "            self._data = response.json()[0]['lineStatuses']   # convert to json and get statuses list\n",
    "            statuses = [status['statusSeverityDescription'] for status in self._data]   # get all statuses on a line\n",
    "\n",
    "            if 'Good Service' in statuses:   # if good status, this is the only status returned\n",
    "                self._state = 'Good Service'\n",
    "                self._description = 'Nothing to report'\n",
    "            else:\n",
    "                self._state = ' + '.join(sorted(set(statuses)))   # get the unique statuses and join\n",
    "                self._description = [status['reason'] for status in self._data] # get the reasons"
   ]
  },
  {
   "cell_type": "markdown",
   "metadata": {},
   "source": [
    "## Unit test the class\n",
    "Edge cases: good service and bad.\n",
    "Sometimes state is reverse order"
   ]
  },
  {
   "cell_type": "code",
   "execution_count": 10,
   "metadata": {
    "collapsed": false
   },
   "outputs": [
    {
     "name": "stderr",
     "output_type": "stream",
     "text": [
      "test_of_good_description (__main__.TestLondonTubeSensor) ... ok\n",
      "test_of_good_state (__main__.TestLondonTubeSensor) ... ok\n",
      "\n",
      "----------------------------------------------------------------------\n",
      "Ran 2 tests in 0.002s\n",
      "\n",
      "OK\n"
     ]
    },
    {
     "data": {
      "text/plain": [
       "<unittest.main.TestProgram at 0x104e9f0f0>"
      ]
     },
     "execution_count": 10,
     "metadata": {},
     "output_type": "execute_result"
    }
   ],
   "source": [
    "## Mock data\n",
    "with requests_mock.mock() as m:\n",
    "    url = 'https://api.tfl.gov.uk/line/bakerloo/status'\n",
    "    m.get(url, text=open('bakerloo.json').read())\n",
    "    sensor = LondonTubeSensor('Bakerloo')\n",
    "    sensor.update()\n",
    "\n",
    "class TestLondonTubeSensor(unittest.TestCase):\n",
    "\n",
    "    def test_of_good_state(self):\n",
    "        self.assertEqual(sensor.state,'Good Service')\n",
    "        \n",
    "    def test_of_good_description(self):    \n",
    "        self.assertEqual(sensor._description, 'Nothing to report')\n",
    "\n",
    "        \n",
    "unittest.main(argv=['ignored', '-v'], exit=False)"
   ]
  },
  {
   "cell_type": "code",
   "execution_count": 11,
   "metadata": {
    "collapsed": false
   },
   "outputs": [
    {
     "name": "stderr",
     "output_type": "stream",
     "text": [
      "test_name (__main__.TestLondonTubeSensor) ... ok\n",
      "test_of_bad_description (__main__.TestLondonTubeSensor) ... FAIL\n",
      "test_of_bad_state (__main__.TestLondonTubeSensor) ... FAIL\n",
      "\n",
      "======================================================================\n",
      "FAIL: test_of_bad_description (__main__.TestLondonTubeSensor)\n",
      "----------------------------------------------------------------------\n",
      "Traceback (most recent call last):\n",
      "  File \"<ipython-input-11-96e545941aeb>\", line 17, in test_of_bad_description\n",
      "    self.assertEqual(sensor._description, ['Ongoing investigations by Rob', 'More investigations'])\n",
      "AssertionError: 'Nothing to report' != ['Ongoing investigations by Rob', 'More investigations']\n",
      "\n",
      "======================================================================\n",
      "FAIL: test_of_bad_state (__main__.TestLondonTubeSensor)\n",
      "----------------------------------------------------------------------\n",
      "Traceback (most recent call last):\n",
      "  File \"<ipython-input-11-96e545941aeb>\", line 14, in test_of_bad_state\n",
      "    self.assertEqual(sensor.state,'Minor Delays + Part Closure')  # Sometimes comes out in other order\n",
      "AssertionError: 'Good Service' != 'Minor Delays + Part Closure'\n",
      "- Good Service\n",
      "+ Minor Delays + Part Closure\n",
      "\n",
      "\n",
      "----------------------------------------------------------------------\n",
      "Ran 3 tests in 0.003s\n",
      "\n",
      "FAILED (failures=2)\n"
     ]
    },
    {
     "data": {
      "text/plain": [
       "<unittest.main.TestProgram at 0x1044e2358>"
      ]
     },
     "execution_count": 11,
     "metadata": {},
     "output_type": "execute_result"
    }
   ],
   "source": [
    "## Mock data\n",
    "CONF_LINE= 'line' \n",
    "config = {CONF_LINE:['Hammersmith-city']}\n",
    "\n",
    "with requests_mock.mock() as m:\n",
    "    url = 'https://api.tfl.gov.uk/line/hammersmith-city/status'\n",
    "    m.get(url, text=open('tube_state.json').read())   # tube_state.json contains the Hammersmith-city data\n",
    "    sensor = LondonTubeSensor(config[CONF_LINE][0])\n",
    "    sensor.update()\n",
    "\n",
    "class TestLondonTubeSensor(unittest.TestCase):\n",
    "\n",
    "    def test_of_bad_state(self):\n",
    "        self.assertEqual(sensor.state,'Minor Delays + Part Closure')  # Sometimes comes out in other order\n",
    "        \n",
    "    def test_of_bad_description(self):    \n",
    "        self.assertEqual(sensor._description, ['Ongoing investigations by Rob', 'More investigations'])\n",
    "    \n",
    "    def test_name(self):\n",
    "        self.assertEqual(sensor.name, 'Hammersmith-city')\n",
    "\n",
    "        \n",
    "unittest.main(argv=['ignored', '-v'], exit=False)"
   ]
  },
  {
   "cell_type": "markdown",
   "metadata": {
    "collapsed": true
   },
   "source": [
    "## Unused"
   ]
  },
  {
   "cell_type": "code",
   "execution_count": 12,
   "metadata": {
    "collapsed": false
   },
   "outputs": [],
   "source": [
    "url = 'https://api.tfl.gov.uk/line/{}/status'.format('victoria')\n",
    "response = requests.get(url)  # get the response object\n",
    "filename = 'victoria.json'\n",
    "\n",
    "with open(filename, 'wb') as fd:                 # write the response to file. Can format the .json file but no blank lines allowed \n",
    "    for chunk in response.iter_content(chunk_size=128):\n",
    "        fd.write(chunk)\n",
    "\n",
    "data = response.json()[0]['lineStatuses']       # data is a list of statuses on the line\n",
    "#print_json(data)"
   ]
  },
  {
   "cell_type": "code",
   "execution_count": null,
   "metadata": {
    "collapsed": true
   },
   "outputs": [],
   "source": []
  }
 ],
 "metadata": {
  "anaconda-cloud": {},
  "kernelspec": {
   "display_name": "Python [conda root]",
   "language": "python",
   "name": "conda-root-py"
  },
  "language_info": {
   "codemirror_mode": {
    "name": "ipython",
    "version": 3
   },
   "file_extension": ".py",
   "mimetype": "text/x-python",
   "name": "python",
   "nbconvert_exporter": "python",
   "pygments_lexer": "ipython3",
   "version": "3.5.2"
  }
 },
 "nbformat": 4,
 "nbformat_minor": 1
}
