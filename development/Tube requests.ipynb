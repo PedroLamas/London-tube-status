{
 "cells": [
  {
   "cell_type": "markdown",
   "metadata": {},
   "source": [
    "Check the status of tube lines and overground\n",
    "https://api.tfl.gov.uk/line/mode/tube,overground,dlr,tflrail/status\n",
    "\n",
    "29-6 added overground state"
   ]
  },
  {
   "cell_type": "code",
   "execution_count": 1,
   "metadata": {
    "collapsed": true
   },
   "outputs": [],
   "source": [
    "import requests\n",
    "import requests_mock\n",
    "import json\n",
    "import pprint\n",
    "import unittest\n",
    "import sys"
   ]
  },
  {
   "cell_type": "code",
   "execution_count": 2,
   "metadata": {
    "collapsed": true
   },
   "outputs": [],
   "source": [
    "def print_json(json_data):\n",
    "    pprint.PrettyPrinter().pprint(json_data)"
   ]
  },
  {
   "cell_type": "code",
   "execution_count": 3,
   "metadata": {
    "collapsed": false
   },
   "outputs": [],
   "source": [
    "# List of allowed lines\n",
    "lines = ['Bakerloo',\n",
    " 'Central',\n",
    " 'Circle',\n",
    " 'District',\n",
    " 'DLR',\n",
    " 'Hammersmith & City',\n",
    " 'Jubilee',\n",
    " 'London Overground',\n",
    " 'Metropolitan',\n",
    " 'Northern',\n",
    " 'Piccadilly',\n",
    " 'TfL Rail',\n",
    " 'Victoria',\n",
    " 'Waterloo & City']"
   ]
  },
  {
   "cell_type": "code",
   "execution_count": 4,
   "metadata": {
    "collapsed": false
   },
   "outputs": [
    {
     "name": "stdout",
     "output_type": "stream",
     "text": [
      "Testing 2-7-2017.ipynb  Tube requests.ipynb     test_tube_state.py\n"
     ]
    }
   ],
   "source": [
    "ls"
   ]
  },
  {
   "cell_type": "code",
   "execution_count": 5,
   "metadata": {
    "collapsed": false
   },
   "outputs": [
    {
     "data": {
      "text/plain": [
       "14"
      ]
     },
     "execution_count": 5,
     "metadata": {},
     "output_type": "execute_result"
    }
   ],
   "source": [
    "len(lines)"
   ]
  },
  {
   "cell_type": "markdown",
   "metadata": {},
   "source": [
    "# Basic function of API"
   ]
  },
  {
   "cell_type": "code",
   "execution_count": 6,
   "metadata": {
    "collapsed": false
   },
   "outputs": [
    {
     "name": "stdout",
     "output_type": "stream",
     "text": [
      "14\n",
      "'Bakerloo'\n",
      "'Good Service'\n"
     ]
    }
   ],
   "source": [
    "#url = 'https://api.tfl.gov.uk/line/mode/tube/status'   # tube only\n",
    "url = 'https://api.tfl.gov.uk/line/mode/tube,overground,dlr,tflrail/status'\n",
    "data = requests.get(url).json() # get the response object\n",
    "    \n",
    "print_json(len(data))\n",
    "print_json(data[0]['name'])\n",
    "print_json(data[0]['lineStatuses'][0]['statusSeverityDescription'])"
   ]
  },
  {
   "cell_type": "code",
   "execution_count": 7,
   "metadata": {},
   "outputs": [
    {
     "name": "stdout",
     "output_type": "stream",
     "text": [
      "[{'$type': 'Tfl.Api.Presentation.Entities.Line, Tfl.Api.Presentation.Entities',\n",
      "  'created': '2018-12-11T17:06:05.303Z',\n",
      "  'crowding': {'$type': 'Tfl.Api.Presentation.Entities.Crowding, '\n",
      "                        'Tfl.Api.Presentation.Entities'},\n",
      "  'disruptions': [],\n",
      "  'id': 'bakerloo',\n",
      "  'lineStatuses': [{'$type': 'Tfl.Api.Presentation.Entities.LineStatus, '\n",
      "                             'Tfl.Api.Presentation.Entities',\n",
      "                    'created': '0001-01-01T00:00:00',\n",
      "                    'id': 0,\n",
      "                    'lineId': 'bakerloo',\n",
      "                    'statusSeverity': 10,\n",
      "                    'statusSeverityDescription': 'Good Service',\n",
      "                    'validityPeriods': []}],\n",
      "  'modeName': 'tube',\n",
      "  'modified': '2018-12-11T17:06:05.303Z',\n",
      "  'name': 'Bakerloo',\n",
      "  'routeSections': [],\n",
      "  'serviceTypes': [{'$type': 'Tfl.Api.Presentation.Entities.LineServiceTypeInfo, '\n",
      "                             'Tfl.Api.Presentation.Entities',\n",
      "                    'name': 'Regular',\n",
      "                    'uri': '/Line/Route?ids=Bakerloo&serviceTypes=Regular'}]},\n",
      " {'$type': 'Tfl.Api.Presentation.Entities.Line, Tfl.Api.Presentation.Entities',\n",
      "  'created': '2018-12-11T17:06:05.3Z',\n",
      "  'crowding': {'$type': 'Tfl.Api.Presentation.Entities.Crowding, '\n",
      "                        'Tfl.Api.Presentation.Entities'},\n",
      "  'disruptions': [],\n",
      "  'id': 'central',\n",
      "  'lineStatuses': [{'$type': 'Tfl.Api.Presentation.Entities.LineStatus, '\n",
      "                             'Tfl.Api.Presentation.Entities',\n",
      "                    'created': '0001-01-01T00:00:00',\n",
      "                    'id': 0,\n",
      "                    'lineId': 'central',\n",
      "                    'statusSeverity': 10,\n",
      "                    'statusSeverityDescription': 'Good Service',\n",
      "                    'validityPeriods': []}],\n",
      "  'modeName': 'tube',\n",
      "  'modified': '2018-12-11T17:06:05.3Z',\n",
      "  'name': 'Central',\n",
      "  'routeSections': [],\n",
      "  'serviceTypes': [{'$type': 'Tfl.Api.Presentation.Entities.LineServiceTypeInfo, '\n",
      "                             'Tfl.Api.Presentation.Entities',\n",
      "                    'name': 'Regular',\n",
      "                    'uri': '/Line/Route?ids=Central&serviceTypes=Regular'},\n",
      "                   {'$type': 'Tfl.Api.Presentation.Entities.LineServiceTypeInfo, '\n",
      "                             'Tfl.Api.Presentation.Entities',\n",
      "                    'name': 'Night',\n",
      "                    'uri': '/Line/Route?ids=Central&serviceTypes=Night'}]},\n",
      " {'$type': 'Tfl.Api.Presentation.Entities.Line, Tfl.Api.Presentation.Entities',\n",
      "  'created': '2018-12-11T17:06:05.3Z',\n",
      "  'crowding': {'$type': 'Tfl.Api.Presentation.Entities.Crowding, '\n",
      "                        'Tfl.Api.Presentation.Entities'},\n",
      "  'disruptions': [],\n",
      "  'id': 'circle',\n",
      "  'lineStatuses': [{'$type': 'Tfl.Api.Presentation.Entities.LineStatus, '\n",
      "                             'Tfl.Api.Presentation.Entities',\n",
      "                    'created': '0001-01-01T00:00:00',\n",
      "                    'id': 0,\n",
      "                    'lineId': 'circle',\n",
      "                    'statusSeverity': 10,\n",
      "                    'statusSeverityDescription': 'Good Service',\n",
      "                    'validityPeriods': []}],\n",
      "  'modeName': 'tube',\n",
      "  'modified': '2018-12-11T17:06:05.3Z',\n",
      "  'name': 'Circle',\n",
      "  'routeSections': [],\n",
      "  'serviceTypes': [{'$type': 'Tfl.Api.Presentation.Entities.LineServiceTypeInfo, '\n",
      "                             'Tfl.Api.Presentation.Entities',\n",
      "                    'name': 'Regular',\n",
      "                    'uri': '/Line/Route?ids=Circle&serviceTypes=Regular'}]},\n",
      " {'$type': 'Tfl.Api.Presentation.Entities.Line, Tfl.Api.Presentation.Entities',\n",
      "  'created': '2018-12-11T17:06:05.3Z',\n",
      "  'crowding': {'$type': 'Tfl.Api.Presentation.Entities.Crowding, '\n",
      "                        'Tfl.Api.Presentation.Entities'},\n",
      "  'disruptions': [],\n",
      "  'id': 'district',\n",
      "  'lineStatuses': [{'$type': 'Tfl.Api.Presentation.Entities.LineStatus, '\n",
      "                             'Tfl.Api.Presentation.Entities',\n",
      "                    'created': '0001-01-01T00:00:00',\n",
      "                    'id': 0,\n",
      "                    'lineId': 'district',\n",
      "                    'statusSeverity': 10,\n",
      "                    'statusSeverityDescription': 'Good Service',\n",
      "                    'validityPeriods': []}],\n",
      "  'modeName': 'tube',\n",
      "  'modified': '2018-12-11T17:06:05.3Z',\n",
      "  'name': 'District',\n",
      "  'routeSections': [],\n",
      "  'serviceTypes': [{'$type': 'Tfl.Api.Presentation.Entities.LineServiceTypeInfo, '\n",
      "                             'Tfl.Api.Presentation.Entities',\n",
      "                    'name': 'Regular',\n",
      "                    'uri': '/Line/Route?ids=District&serviceTypes=Regular'}]},\n",
      " {'$type': 'Tfl.Api.Presentation.Entities.Line, Tfl.Api.Presentation.Entities',\n",
      "  'created': '2018-12-11T17:06:05.303Z',\n",
      "  'crowding': {'$type': 'Tfl.Api.Presentation.Entities.Crowding, '\n",
      "                        'Tfl.Api.Presentation.Entities'},\n",
      "  'disruptions': [],\n",
      "  'id': 'dlr',\n",
      "  'lineStatuses': [{'$type': 'Tfl.Api.Presentation.Entities.LineStatus, '\n",
      "                             'Tfl.Api.Presentation.Entities',\n",
      "                    'created': '0001-01-01T00:00:00',\n",
      "                    'id': 0,\n",
      "                    'lineId': 'dlr',\n",
      "                    'statusSeverity': 10,\n",
      "                    'statusSeverityDescription': 'Good Service',\n",
      "                    'validityPeriods': []}],\n",
      "  'modeName': 'dlr',\n",
      "  'modified': '2018-12-11T17:06:05.303Z',\n",
      "  'name': 'DLR',\n",
      "  'routeSections': [],\n",
      "  'serviceTypes': [{'$type': 'Tfl.Api.Presentation.Entities.LineServiceTypeInfo, '\n",
      "                             'Tfl.Api.Presentation.Entities',\n",
      "                    'name': 'Regular',\n",
      "                    'uri': '/Line/Route?ids=DLR&serviceTypes=Regular'}]},\n",
      " {'$type': 'Tfl.Api.Presentation.Entities.Line, Tfl.Api.Presentation.Entities',\n",
      "  'created': '2018-12-11T17:06:05.297Z',\n",
      "  'crowding': {'$type': 'Tfl.Api.Presentation.Entities.Crowding, '\n",
      "                        'Tfl.Api.Presentation.Entities'},\n",
      "  'disruptions': [],\n",
      "  'id': 'hammersmith-city',\n",
      "  'lineStatuses': [{'$type': 'Tfl.Api.Presentation.Entities.LineStatus, '\n",
      "                             'Tfl.Api.Presentation.Entities',\n",
      "                    'created': '0001-01-01T00:00:00',\n",
      "                    'id': 0,\n",
      "                    'lineId': 'hammersmith-city',\n",
      "                    'statusSeverity': 10,\n",
      "                    'statusSeverityDescription': 'Good Service',\n",
      "                    'validityPeriods': []}],\n",
      "  'modeName': 'tube',\n",
      "  'modified': '2018-12-11T17:06:05.297Z',\n",
      "  'name': 'Hammersmith & City',\n",
      "  'routeSections': [],\n",
      "  'serviceTypes': [{'$type': 'Tfl.Api.Presentation.Entities.LineServiceTypeInfo, '\n",
      "                             'Tfl.Api.Presentation.Entities',\n",
      "                    'name': 'Regular',\n",
      "                    'uri': '/Line/Route?ids=Hammersmith & '\n",
      "                           'City&serviceTypes=Regular'}]},\n",
      " {'$type': 'Tfl.Api.Presentation.Entities.Line, Tfl.Api.Presentation.Entities',\n",
      "  'created': '2018-12-11T17:06:05.297Z',\n",
      "  'crowding': {'$type': 'Tfl.Api.Presentation.Entities.Crowding, '\n",
      "                        'Tfl.Api.Presentation.Entities'},\n",
      "  'disruptions': [],\n",
      "  'id': 'jubilee',\n",
      "  'lineStatuses': [{'$type': 'Tfl.Api.Presentation.Entities.LineStatus, '\n",
      "                             'Tfl.Api.Presentation.Entities',\n",
      "                    'created': '0001-01-01T00:00:00',\n",
      "                    'id': 0,\n",
      "                    'lineId': 'jubilee',\n",
      "                    'statusSeverity': 10,\n",
      "                    'statusSeverityDescription': 'Good Service',\n",
      "                    'validityPeriods': []}],\n",
      "  'modeName': 'tube',\n",
      "  'modified': '2018-12-11T17:06:05.297Z',\n",
      "  'name': 'Jubilee',\n",
      "  'routeSections': [],\n",
      "  'serviceTypes': [{'$type': 'Tfl.Api.Presentation.Entities.LineServiceTypeInfo, '\n",
      "                             'Tfl.Api.Presentation.Entities',\n",
      "                    'name': 'Regular',\n",
      "                    'uri': '/Line/Route?ids=Jubilee&serviceTypes=Regular'},\n",
      "                   {'$type': 'Tfl.Api.Presentation.Entities.LineServiceTypeInfo, '\n",
      "                             'Tfl.Api.Presentation.Entities',\n",
      "                    'name': 'Night',\n",
      "                    'uri': '/Line/Route?ids=Jubilee&serviceTypes=Night'}]},\n",
      " {'$type': 'Tfl.Api.Presentation.Entities.Line, Tfl.Api.Presentation.Entities',\n",
      "  'created': '2018-12-11T17:06:05.297Z',\n",
      "  'crowding': {'$type': 'Tfl.Api.Presentation.Entities.Crowding, '\n",
      "                        'Tfl.Api.Presentation.Entities'},\n",
      "  'disruptions': [],\n",
      "  'id': 'london-overground',\n",
      "  'lineStatuses': [{'$type': 'Tfl.Api.Presentation.Entities.LineStatus, '\n",
      "                             'Tfl.Api.Presentation.Entities',\n",
      "                    'created': '0001-01-01T00:00:00',\n",
      "                    'disruption': {'$type': 'Tfl.Api.Presentation.Entities.Disruption, '\n",
      "                                            'Tfl.Api.Presentation.Entities',\n",
      "                                   'additionalInfo': 'No service between '\n",
      "                                                     'Edmonton Green and '\n",
      "                                                     'Cheshunt. Use local bus '\n",
      "                                                     'services or services '\n",
      "                                                     'from Ponders End, '\n",
      "                                                     'Brimsdown, Enfield Lock '\n",
      "                                                     'or Waltham Cross, or '\n",
      "                                                     'Greater Anglia services '\n",
      "                                                     'between Liverpool Street '\n",
      "                                                     'and Waltham '\n",
      "                                                     'Cross/Cheshunt via '\n",
      "                                                     'Tottenham Hale. No '\n",
      "                                                     'service between Romford '\n",
      "                                                     'and Upminster. Use local '\n",
      "                                                     'London Buses routes 165 '\n",
      "                                                     '248 and 370.\\r\\n'\n",
      "                                                     'No service between '\n",
      "                                                     'Surrey Quays and Clapham '\n",
      "                                                     'Junction, replacement '\n",
      "                                                     'buses operate.\\r\\n'\n",
      "                                                     'No service between South '\n",
      "                                                     'Tottenham and Barking. '\n",
      "                                                     'Replacement buses '\n",
      "                                                     'operate between '\n",
      "                                                     'Walthamstow Central and '\n",
      "                                                     'Barking. Supplementary '\n",
      "                                                     'buses will operate '\n",
      "                                                     'between Gospel Oak and '\n",
      "                                                     'South Tottenham on '\n",
      "                                                     'Saturday and Sunday.',\n",
      "                                   'affectedRoutes': [],\n",
      "                                   'affectedStops': [],\n",
      "                                   'category': 'Undefined',\n",
      "                                   'categoryDescription': 'Undefined',\n",
      "                                   'closureText': 'Part Closure'},\n",
      "                    'id': 0,\n",
      "                    'lineId': 'london-overground',\n",
      "                    'statusSeverity': 5,\n",
      "                    'statusSeverityDescription': 'Part Closure',\n",
      "                    'validityPeriods': []}],\n",
      "  'modeName': 'overground',\n",
      "  'modified': '2018-12-11T17:06:05.297Z',\n",
      "  'name': 'London Overground',\n",
      "  'routeSections': [],\n",
      "  'serviceTypes': [{'$type': 'Tfl.Api.Presentation.Entities.LineServiceTypeInfo, '\n",
      "                             'Tfl.Api.Presentation.Entities',\n",
      "                    'name': 'Regular',\n",
      "                    'uri': '/Line/Route?ids=London '\n",
      "                           'Overground&serviceTypes=Regular'},\n",
      "                   {'$type': 'Tfl.Api.Presentation.Entities.LineServiceTypeInfo, '\n",
      "                             'Tfl.Api.Presentation.Entities',\n",
      "                    'name': 'Night',\n",
      "                    'uri': '/Line/Route?ids=London '\n",
      "                           'Overground&serviceTypes=Night'}]},\n",
      " {'$type': 'Tfl.Api.Presentation.Entities.Line, Tfl.Api.Presentation.Entities',\n",
      "  'created': '2018-12-11T17:06:05.297Z',\n",
      "  'crowding': {'$type': 'Tfl.Api.Presentation.Entities.Crowding, '\n",
      "                        'Tfl.Api.Presentation.Entities'},\n",
      "  'disruptions': [],\n",
      "  'id': 'metropolitan',\n",
      "  'lineStatuses': [{'$type': 'Tfl.Api.Presentation.Entities.LineStatus, '\n",
      "                             'Tfl.Api.Presentation.Entities',\n",
      "                    'created': '0001-01-01T00:00:00',\n",
      "                    'id': 0,\n",
      "                    'lineId': 'metropolitan',\n",
      "                    'statusSeverity': 10,\n",
      "                    'statusSeverityDescription': 'Good Service',\n",
      "                    'validityPeriods': []}],\n",
      "  'modeName': 'tube',\n",
      "  'modified': '2018-12-11T17:06:05.297Z',\n",
      "  'name': 'Metropolitan',\n",
      "  'routeSections': [],\n",
      "  'serviceTypes': [{'$type': 'Tfl.Api.Presentation.Entities.LineServiceTypeInfo, '\n",
      "                             'Tfl.Api.Presentation.Entities',\n",
      "                    'name': 'Regular',\n",
      "                    'uri': '/Line/Route?ids=Metropolitan&serviceTypes=Regular'}]},\n",
      " {'$type': 'Tfl.Api.Presentation.Entities.Line, Tfl.Api.Presentation.Entities',\n",
      "  'created': '2018-12-11T17:06:05.3Z',\n",
      "  'crowding': {'$type': 'Tfl.Api.Presentation.Entities.Crowding, '\n",
      "                        'Tfl.Api.Presentation.Entities'},\n",
      "  'disruptions': [],\n",
      "  'id': 'northern',\n",
      "  'lineStatuses': [{'$type': 'Tfl.Api.Presentation.Entities.LineStatus, '\n",
      "                             'Tfl.Api.Presentation.Entities',\n",
      "                    'created': '0001-01-01T00:00:00',\n",
      "                    'id': 0,\n",
      "                    'lineId': 'northern',\n",
      "                    'statusSeverity': 10,\n",
      "                    'statusSeverityDescription': 'Good Service',\n",
      "                    'validityPeriods': []}],\n",
      "  'modeName': 'tube',\n",
      "  'modified': '2018-12-11T17:06:05.3Z',\n",
      "  'name': 'Northern',\n",
      "  'routeSections': [],\n",
      "  'serviceTypes': [{'$type': 'Tfl.Api.Presentation.Entities.LineServiceTypeInfo, '\n",
      "                             'Tfl.Api.Presentation.Entities',\n",
      "                    'name': 'Regular',\n",
      "                    'uri': '/Line/Route?ids=Northern&serviceTypes=Regular'},\n",
      "                   {'$type': 'Tfl.Api.Presentation.Entities.LineServiceTypeInfo, '\n",
      "                             'Tfl.Api.Presentation.Entities',\n",
      "                    'name': 'Night',\n",
      "                    'uri': '/Line/Route?ids=Northern&serviceTypes=Night'}]},\n",
      " {'$type': 'Tfl.Api.Presentation.Entities.Line, Tfl.Api.Presentation.Entities',\n",
      "  'created': '2018-12-11T17:06:05.3Z',\n",
      "  'crowding': {'$type': 'Tfl.Api.Presentation.Entities.Crowding, '\n",
      "                        'Tfl.Api.Presentation.Entities'},\n",
      "  'disruptions': [],\n",
      "  'id': 'piccadilly',\n",
      "  'lineStatuses': [{'$type': 'Tfl.Api.Presentation.Entities.LineStatus, '\n",
      "                             'Tfl.Api.Presentation.Entities',\n",
      "                    'created': '0001-01-01T00:00:00',\n",
      "                    'id': 0,\n",
      "                    'lineId': 'piccadilly',\n",
      "                    'statusSeverity': 10,\n",
      "                    'statusSeverityDescription': 'Good Service',\n",
      "                    'validityPeriods': []}],\n",
      "  'modeName': 'tube',\n",
      "  'modified': '2018-12-11T17:06:05.3Z',\n",
      "  'name': 'Piccadilly',\n",
      "  'routeSections': [],\n",
      "  'serviceTypes': [{'$type': 'Tfl.Api.Presentation.Entities.LineServiceTypeInfo, '\n",
      "                             'Tfl.Api.Presentation.Entities',\n",
      "                    'name': 'Regular',\n",
      "                    'uri': '/Line/Route?ids=Piccadilly&serviceTypes=Regular'},\n",
      "                   {'$type': 'Tfl.Api.Presentation.Entities.LineServiceTypeInfo, '\n",
      "                             'Tfl.Api.Presentation.Entities',\n",
      "                    'name': 'Night',\n",
      "                    'uri': '/Line/Route?ids=Piccadilly&serviceTypes=Night'}]},\n",
      " {'$type': 'Tfl.Api.Presentation.Entities.Line, Tfl.Api.Presentation.Entities',\n",
      "  'created': '2018-12-11T17:06:05.323Z',\n",
      "  'crowding': {'$type': 'Tfl.Api.Presentation.Entities.Crowding, '\n",
      "                        'Tfl.Api.Presentation.Entities'},\n",
      "  'disruptions': [],\n",
      "  'id': 'tfl-rail',\n",
      "  'lineStatuses': [{'$type': 'Tfl.Api.Presentation.Entities.LineStatus, '\n",
      "                             'Tfl.Api.Presentation.Entities',\n",
      "                    'created': '0001-01-01T00:00:00',\n",
      "                    'disruption': {'$type': 'Tfl.Api.Presentation.Entities.Disruption, '\n",
      "                                            'Tfl.Api.Presentation.Entities',\n",
      "                                   'additionalInfo': 'No service between '\n",
      "                                                     'Liverpool Street and '\n",
      "                                                     'Romford. Replacement '\n",
      "                                                     'buses operate between '\n",
      "                                                     'Stratford / Newbury Park '\n",
      "                                                     'and Romford.\\r\\n'\n",
      "                                                     'A reduced 30 minute '\n",
      "                                                     'service operates will '\n",
      "                                                     'operate between '\n",
      "                                                     'Paddington and Hayes & '\n",
      "                                                     'Harlington. Trains will '\n",
      "                                                     'not stop at Acton Main '\n",
      "                                                     'Line, West Ealing or '\n",
      "                                                     'Hanwell.',\n",
      "                                   'affectedRoutes': [],\n",
      "                                   'affectedStops': [],\n",
      "                                   'category': 'Undefined',\n",
      "                                   'categoryDescription': 'Undefined',\n",
      "                                   'closureText': 'Part Closure'},\n",
      "                    'id': 0,\n",
      "                    'lineId': 'tfl-rail',\n",
      "                    'statusSeverity': 5,\n",
      "                    'statusSeverityDescription': 'Part Closure',\n",
      "                    'validityPeriods': []}],\n",
      "  'modeName': 'tflrail',\n",
      "  'modified': '2018-12-11T17:06:05.323Z',\n",
      "  'name': 'TfL Rail',\n",
      "  'routeSections': [],\n",
      "  'serviceTypes': [{'$type': 'Tfl.Api.Presentation.Entities.LineServiceTypeInfo, '\n",
      "                             'Tfl.Api.Presentation.Entities',\n",
      "                    'name': 'Regular',\n",
      "                    'uri': '/Line/Route?ids=TfL Rail&serviceTypes=Regular'}]},\n",
      " {'$type': 'Tfl.Api.Presentation.Entities.Line, Tfl.Api.Presentation.Entities',\n",
      "  'created': '2018-12-11T17:06:05.297Z',\n",
      "  'crowding': {'$type': 'Tfl.Api.Presentation.Entities.Crowding, '\n",
      "                        'Tfl.Api.Presentation.Entities'},\n",
      "  'disruptions': [],\n",
      "  'id': 'victoria',\n",
      "  'lineStatuses': [{'$type': 'Tfl.Api.Presentation.Entities.LineStatus, '\n",
      "                             'Tfl.Api.Presentation.Entities',\n",
      "                    'created': '0001-01-01T00:00:00',\n",
      "                    'id': 0,\n",
      "                    'lineId': 'victoria',\n",
      "                    'statusSeverity': 10,\n",
      "                    'statusSeverityDescription': 'Good Service',\n",
      "                    'validityPeriods': []}],\n",
      "  'modeName': 'tube',\n",
      "  'modified': '2018-12-11T17:06:05.297Z',\n",
      "  'name': 'Victoria',\n",
      "  'routeSections': [],\n",
      "  'serviceTypes': [{'$type': 'Tfl.Api.Presentation.Entities.LineServiceTypeInfo, '\n",
      "                             'Tfl.Api.Presentation.Entities',\n",
      "                    'name': 'Regular',\n",
      "                    'uri': '/Line/Route?ids=Victoria&serviceTypes=Regular'},\n",
      "                   {'$type': 'Tfl.Api.Presentation.Entities.LineServiceTypeInfo, '\n",
      "                             'Tfl.Api.Presentation.Entities',\n",
      "                    'name': 'Night',\n",
      "                    'uri': '/Line/Route?ids=Victoria&serviceTypes=Night'}]},\n",
      " {'$type': 'Tfl.Api.Presentation.Entities.Line, Tfl.Api.Presentation.Entities',\n",
      "  'created': '2018-12-11T17:06:05.297Z',\n",
      "  'crowding': {'$type': 'Tfl.Api.Presentation.Entities.Crowding, '\n",
      "                        'Tfl.Api.Presentation.Entities'},\n",
      "  'disruptions': [],\n",
      "  'id': 'waterloo-city',\n",
      "  'lineStatuses': [{'$type': 'Tfl.Api.Presentation.Entities.LineStatus, '\n",
      "                             'Tfl.Api.Presentation.Entities',\n",
      "                    'created': '0001-01-01T00:00:00',\n",
      "                    'id': 0,\n",
      "                    'lineId': 'waterloo-city',\n",
      "                    'statusSeverity': 10,\n",
      "                    'statusSeverityDescription': 'Good Service',\n",
      "                    'validityPeriods': []}],\n",
      "  'modeName': 'tube',\n",
      "  'modified': '2018-12-11T17:06:05.297Z',\n",
      "  'name': 'Waterloo & City',\n",
      "  'routeSections': [],\n",
      "  'serviceTypes': [{'$type': 'Tfl.Api.Presentation.Entities.LineServiceTypeInfo, '\n",
      "                             'Tfl.Api.Presentation.Entities',\n",
      "                    'name': 'Regular',\n",
      "                    'uri': '/Line/Route?ids=Waterloo & '\n",
      "                           'City&serviceTypes=Regular'}]}]\n"
     ]
    }
   ],
   "source": [
    "print_json(data)"
   ]
  },
  {
   "cell_type": "code",
   "execution_count": 8,
   "metadata": {
    "collapsed": false
   },
   "outputs": [
    {
     "data": {
      "text/plain": [
       "['Bakerloo',\n",
       " 'Central',\n",
       " 'Circle',\n",
       " 'District',\n",
       " 'DLR',\n",
       " 'Hammersmith & City',\n",
       " 'Jubilee',\n",
       " 'London Overground',\n",
       " 'Metropolitan',\n",
       " 'Northern',\n",
       " 'Piccadilly',\n",
       " 'TfL Rail',\n",
       " 'Victoria',\n",
       " 'Waterloo & City']"
      ]
     },
     "execution_count": 8,
     "metadata": {},
     "output_type": "execute_result"
    }
   ],
   "source": [
    "_lines = [line['name'] for line in data]\n",
    "_lines"
   ]
  },
  {
   "cell_type": "code",
   "execution_count": 9,
   "metadata": {
    "collapsed": false
   },
   "outputs": [
    {
     "data": {
      "text/plain": [
       "{'Bakerloo': None,\n",
       " 'Central': None,\n",
       " 'Circle': None,\n",
       " 'District': None,\n",
       " 'DLR': None,\n",
       " 'Hammersmith & City': None,\n",
       " 'Jubilee': None,\n",
       " 'London Overground': None,\n",
       " 'Metropolitan': None,\n",
       " 'Northern': None,\n",
       " 'Piccadilly': None,\n",
       " 'TfL Rail': None,\n",
       " 'Victoria': None,\n",
       " 'Waterloo & City': None}"
      ]
     },
     "execution_count": 9,
     "metadata": {},
     "output_type": "execute_result"
    }
   ],
   "source": [
    "data_dict = dict.fromkeys(_lines)    # Create the empty dict for the data\n",
    "data_dict"
   ]
  },
  {
   "cell_type": "markdown",
   "metadata": {},
   "source": [
    "Main logic for parsing the data into a useful dict"
   ]
  },
  {
   "cell_type": "code",
   "execution_count": 10,
   "metadata": {
    "collapsed": false
   },
   "outputs": [
    {
     "name": "stdout",
     "output_type": "stream",
     "text": [
      "{'Bakerloo': {'Description': 'Nothing to report', 'State': 'Good Service'},\n",
      " 'Central': {'Description': 'Nothing to report', 'State': 'Good Service'},\n",
      " 'Circle': {'Description': 'Nothing to report', 'State': 'Good Service'},\n",
      " 'DLR': {'Description': 'Nothing to report', 'State': 'Good Service'},\n",
      " 'District': {'Description': 'Nothing to report', 'State': 'Good Service'},\n",
      " 'Hammersmith & City': {'Description': 'Nothing to report',\n",
      "                        'State': 'Good Service'},\n",
      " 'Jubilee': {'Description': 'Nothing to report', 'State': 'Good Service'},\n",
      " 'London Overground': {'Description': 'No service between Edmonton Green and '\n",
      "                                      'Cheshunt. Use local bus services or '\n",
      "                                      'services from Ponders End, Brimsdown, '\n",
      "                                      'Enfield Lock or Waltham Cross, or '\n",
      "                                      'Greater Anglia services between '\n",
      "                                      'Liverpool Street and Waltham '\n",
      "                                      'Cross/Cheshunt via Tottenham Hale. No '\n",
      "                                      'service between Romford and Upminster. '\n",
      "                                      'Use local London Buses routes 165 248 '\n",
      "                                      'and 370.\\r\\n'\n",
      "                                      'No service between Surrey Quays and '\n",
      "                                      'Clapham Junction, replacement buses '\n",
      "                                      'operate.\\r\\n'\n",
      "                                      'No service between South Tottenham and '\n",
      "                                      'Barking. Replacement buses operate '\n",
      "                                      'between Walthamstow Central and '\n",
      "                                      'Barking. Supplementary buses will '\n",
      "                                      'operate between Gospel Oak and South '\n",
      "                                      'Tottenham on Saturday and Sunday.',\n",
      "                       'State': 'Part Closure'},\n",
      " 'Metropolitan': {'Description': 'Nothing to report', 'State': 'Good Service'},\n",
      " 'Northern': {'Description': 'Nothing to report', 'State': 'Good Service'},\n",
      " 'Piccadilly': {'Description': 'Nothing to report', 'State': 'Good Service'},\n",
      " 'TfL Rail': {'Description': 'No service between Liverpool Street and Romford. '\n",
      "                             'Replacement buses operate between Stratford / '\n",
      "                             'Newbury Park and Romford.\\r\\n'\n",
      "                             'A reduced 30 minute service operates will '\n",
      "                             'operate between Paddington and Hayes & '\n",
      "                             'Harlington. Trains will not stop at Acton Main '\n",
      "                             'Line, West Ealing or Hanwell.',\n",
      "              'State': 'Part Closure'},\n",
      " 'Victoria': {'Description': 'Nothing to report', 'State': 'Good Service'},\n",
      " 'Waterloo & City': {'Description': 'Nothing to report',\n",
      "                     'State': 'Good Service'}}\n"
     ]
    }
   ],
   "source": [
    "for line in data:                     # Assign data via key\n",
    "    try:\n",
    "        statuses = [status['statusSeverityDescription'] for status in line['lineStatuses']]\n",
    "        state = ' + '.join(sorted(set(statuses)))\n",
    "    \n",
    "        if state == 'Good Service':   # if good status, this is the only status returned\n",
    "            reason =  'Nothing to report'\n",
    "        else:\n",
    "            reason = ' *** '.join([status['disruption']['additionalInfo'] for status in line['lineStatuses']])\n",
    "\n",
    "        attr = {'State': state, 'Description': reason}\n",
    "        data_dict[line['name']] = attr\n",
    "        \n",
    "    except Exception as exc:\n",
    "        line_name = line['name']\n",
    "        print(f'Exception for {line_name}!')\n",
    "        print(exc)\n",
    "    \n",
    "print_json(data_dict)"
   ]
  },
  {
   "cell_type": "markdown",
   "metadata": {},
   "source": [
    "## Create function for parsing response data"
   ]
  },
  {
   "cell_type": "code",
   "execution_count": 11,
   "metadata": {
    "collapsed": true
   },
   "outputs": [],
   "source": [
    "def parse_api_response(response):\n",
    "    \"\"\"Take in the TFL API json.\"\"\"\n",
    "    lines = [line['name'] for line in response]    # All available lines\n",
    "    data_dict = dict.fromkeys(lines)\n",
    "    \n",
    "    for line in response:                     # Assign data via key\n",
    "        try:\n",
    "            statuses = [status['statusSeverityDescription'] for status in line['lineStatuses']]\n",
    "            state = ' + '.join(sorted(set(statuses)))\n",
    "    \n",
    "            if state == 'Good Service':   # if good status, this is the only status returned\n",
    "                reason =  'Nothing to report'\n",
    "            else:\n",
    "                reason = ' *** '.join([status['disruption']['additionalInfo'] for status in line['lineStatuses']])\n",
    "                reason = reason.replace('\\r\\n', ' ')\n",
    "\n",
    "            attr = {'State': state, 'Description': reason}\n",
    "            data_dict[line['name']] = attr\n",
    "        \n",
    "        except Exception as exc:\n",
    "            print(exc)\n",
    "    \n",
    "    return data_dict"
   ]
  },
  {
   "cell_type": "markdown",
   "metadata": {},
   "source": [
    "# Create tube class"
   ]
  },
  {
   "cell_type": "markdown",
   "metadata": {},
   "source": [
    "Wrap in a class with a method for updating and another for returning line of interest. Follow\n",
    "https://github.com/robmarkcole/home-assistant/blob/dev/homeassistant/components/sensor/bitcoin.py"
   ]
  },
  {
   "cell_type": "code",
   "execution_count": 12,
   "metadata": {
    "collapsed": false
   },
   "outputs": [],
   "source": [
    "class TubeData(object):\n",
    "    \"\"\"Get the latest tube data from TFL.\"\"\"\n",
    "    url = 'https://api.tfl.gov.uk/line/mode/tube,overground,dlr,tflrail/status'\n",
    "    \n",
    "    def __init__(self):\n",
    "        \"\"\"Initialize the data object.\"\"\"\n",
    "        self.data = None\n",
    "\n",
    "    def update(self):\n",
    "        \"\"\"Get the latest data from TFL.\"\"\"\n",
    "        response = requests.get(url)\n",
    "        \n",
    "        if response.status_code != 200:\n",
    "            #_LOGGER.warning(\"Invalid response from API\")\n",
    "            print(\"Invalid response from API\")\n",
    "        else:\n",
    "            self.data = parse_api_response(response.json())"
   ]
  },
  {
   "cell_type": "code",
   "execution_count": 13,
   "metadata": {
    "collapsed": false
   },
   "outputs": [
    {
     "data": {
      "text/plain": [
       "{'Bakerloo': {'State': 'Good Service', 'Description': 'Nothing to report'},\n",
       " 'Central': {'State': 'Good Service', 'Description': 'Nothing to report'},\n",
       " 'Circle': {'State': 'Good Service', 'Description': 'Nothing to report'},\n",
       " 'District': {'State': 'Good Service', 'Description': 'Nothing to report'},\n",
       " 'DLR': {'State': 'Good Service', 'Description': 'Nothing to report'},\n",
       " 'Hammersmith & City': {'State': 'Good Service',\n",
       "  'Description': 'Nothing to report'},\n",
       " 'Jubilee': {'State': 'Good Service', 'Description': 'Nothing to report'},\n",
       " 'London Overground': {'State': 'Part Closure',\n",
       "  'Description': 'No service between Edmonton Green and Cheshunt. Use local bus services or services from Ponders End, Brimsdown, Enfield Lock or Waltham Cross, or Greater Anglia services between Liverpool Street and Waltham Cross/Cheshunt via Tottenham Hale. No service between Romford and Upminster. Use local London Buses routes 165 248 and 370. No service between Surrey Quays and Clapham Junction, replacement buses operate. No service between South Tottenham and Barking. Replacement buses operate between Walthamstow Central and Barking. Supplementary buses will operate between Gospel Oak and South Tottenham on Saturday and Sunday.'},\n",
       " 'Metropolitan': {'State': 'Good Service', 'Description': 'Nothing to report'},\n",
       " 'Northern': {'State': 'Good Service', 'Description': 'Nothing to report'},\n",
       " 'Piccadilly': {'State': 'Good Service', 'Description': 'Nothing to report'},\n",
       " 'TfL Rail': {'State': 'Part Closure',\n",
       "  'Description': 'No service between Liverpool Street and Romford. Replacement buses operate between Stratford / Newbury Park and Romford. A reduced 30 minute service operates will operate between Paddington and Hayes & Harlington. Trains will not stop at Acton Main Line, West Ealing or Hanwell.'},\n",
       " 'Victoria': {'State': 'Good Service', 'Description': 'Nothing to report'},\n",
       " 'Waterloo & City': {'State': 'Good Service',\n",
       "  'Description': 'Nothing to report'}}"
      ]
     },
     "execution_count": 13,
     "metadata": {},
     "output_type": "execute_result"
    }
   ],
   "source": [
    "test_tube = TubeData()\n",
    "test_tube.update()\n",
    "test_tube.data"
   ]
  },
  {
   "cell_type": "code",
   "execution_count": 14,
   "metadata": {
    "collapsed": true
   },
   "outputs": [],
   "source": [
    "class LondonTubeSensor():    # Entity\n",
    "    \"\"\"\n",
    "    Sensor that reads the status of a tube line.\n",
    "    \"\"\"\n",
    "\n",
    "    ICON = 'mdi:subway'\n",
    "\n",
    "    def __init__(self, name, data):\n",
    "        \"\"\"Initialize the sensor.\"\"\"\n",
    "        self._name = name             # the name of the line from the allowed list\n",
    "        self._data = data\n",
    "        self._state = None\n",
    "        self._description = None\n",
    "\n",
    "    @property\n",
    "    def name(self):\n",
    "        \"\"\"Return the name of the sensor.\"\"\"\n",
    "        return self._name\n",
    "\n",
    "    @property\n",
    "    def state(self):\n",
    "        \"\"\"Return the state of the sensor.\"\"\"\n",
    "        return self._state\n",
    "\n",
    "    @property\n",
    "    def icon(self):\n",
    "        \"\"\"Icon to use in the frontend, if any.\"\"\"\n",
    "        return self.ICON\n",
    "\n",
    "    @property\n",
    "    def device_state_attributes(self):\n",
    "        \"\"\"Return other details about the sensor state.\"\"\"\n",
    "        attrs = {}  # {'attribution': 'Data provided by transportapi.com'}\n",
    "        attrs['Description'] = self._description # if there is data, append\n",
    "        return attrs\n",
    "\n",
    "    def update(self):\n",
    "        \"\"\"Update the sensor.\"\"\"\n",
    "        self._data.update()      # update the data object\n",
    "        self._state = self._data.data[self.name]['State']\n",
    "        self._description = self._data.data[self.name]['Description']"
   ]
  },
  {
   "cell_type": "code",
   "execution_count": 15,
   "metadata": {
    "collapsed": false
   },
   "outputs": [
    {
     "name": "stdout",
     "output_type": "stream",
     "text": [
      "Good Service\n",
      "Nothing to report\n"
     ]
    }
   ],
   "source": [
    "data = TubeData()   # init a data object\n",
    "bakerloo_sensor = LondonTubeSensor('Bakerloo', data)\n",
    "bakerloo_sensor.update()\n",
    "print(bakerloo_sensor.state)\n",
    "print(bakerloo_sensor.device_state_attributes['Description'])"
   ]
  },
  {
   "cell_type": "markdown",
   "metadata": {},
   "source": [
    "## Unit testing"
   ]
  },
  {
   "cell_type": "code",
   "execution_count": 16,
   "metadata": {
    "collapsed": true
   },
   "outputs": [],
   "source": [
    "CONF_LINE = 'line'\n",
    "config = {CONF_LINE:['Bakerloo', 'London Overground']}\n",
    "\n",
    "def example_setup_platform(config):\n",
    "    \"\"\"Set up the Bitcoin sensors.\"\"\"\n",
    "\n",
    "\n",
    "    data = TubeData()\n",
    "    sensors = []\n",
    "    for line in config[CONF_LINE]:\n",
    "        sensors.append(LondonTubeSensor(line, data))\n",
    "\n",
    "    return sensors"
   ]
  },
  {
   "cell_type": "code",
   "execution_count": 17,
   "metadata": {
    "collapsed": false
   },
   "outputs": [
    {
     "name": "stdout",
     "output_type": "stream",
     "text": [
      "Bakerloo\n",
      "Good Service\n",
      "*****\n",
      "London Overground\n",
      "Part Closure\n",
      "*****\n"
     ]
    }
   ],
   "source": [
    "sensors = example_setup_platform(config)\n",
    "\n",
    "for sensor in sensors:\n",
    "    sensor.update()\n",
    "    print(sensor.name)\n",
    "    print(sensor.state)\n",
    "    print('*****')"
   ]
  },
  {
   "cell_type": "code",
   "execution_count": 18,
   "metadata": {},
   "outputs": [],
   "source": [
    "valid_response = [\n",
    "      {\n",
    "    \"id\": \"london-overground\",\n",
    "    \"name\": \"London Overground\",\n",
    "    \"modeName\": \"overground\",\n",
    "    \"disruptions\": [\n",
    "    ],\n",
    "    \"lineStatuses\": [\n",
    "      {\n",
    "        \"statusSeverityDescription\": \"Minor Delays\",\n",
    "\n",
    "        \"disruption\": {\n",
    "\n",
    "          \"additionalInfo\": \"Something\\r\\nelse\"\n",
    "        }\n",
    "      }\n",
    "    ],\n",
    "\n",
    "  },\n",
    "]"
   ]
  },
  {
   "cell_type": "code",
   "execution_count": 19,
   "metadata": {},
   "outputs": [
    {
     "data": {
      "text/plain": [
       "{'London Overground': {'State': 'Minor Delays',\n",
       "  'Description': 'Something else'}}"
      ]
     },
     "execution_count": 19,
     "metadata": {},
     "output_type": "execute_result"
    }
   ],
   "source": [
    "parse_api_response(valid_response)"
   ]
  },
  {
   "cell_type": "code",
   "execution_count": 20,
   "metadata": {},
   "outputs": [
    {
     "data": {
      "text/plain": [
       "'[{\"id\": \"london-overground\", \"name\": \"London Overground\", \"modeName\": \"overground\", \"disruptions\": [], \"lineStatuses\": [{\"statusSeverityDescription\": \"Minor Delays\", \"disruption\": {\"additionalInfo\": \"Something\\\\r\\\\nelse\"}}]}]'"
      ]
     },
     "execution_count": 20,
     "metadata": {},
     "output_type": "execute_result"
    }
   ],
   "source": [
    "json.dumps(valid_response)"
   ]
  },
  {
   "cell_type": "code",
   "execution_count": 21,
   "metadata": {
    "collapsed": false
   },
   "outputs": [
    {
     "name": "stderr",
     "output_type": "stream",
     "text": [
      "test_tube_class (__main__.TestLondonTubeSensor) ... ok\n",
      "\n",
      "----------------------------------------------------------------------\n",
      "Ran 1 test in 0.004s\n",
      "\n",
      "OK\n"
     ]
    },
    {
     "data": {
      "text/plain": [
       "<unittest.main.TestProgram at 0x10b61f128>"
      ]
     },
     "execution_count": 21,
     "metadata": {},
     "output_type": "execute_result"
    }
   ],
   "source": [
    "class TestLondonTubeSensor(unittest.TestCase):\n",
    "    \n",
    "    def test_tube_class(self): \n",
    "    \n",
    "        with requests_mock.mock() as m:\n",
    "            url = 'https://api.tfl.gov.uk/line/mode/tube,overground,dlr,tflrail/status'\n",
    "            m.get(url, text=json.dumps(valid_response))\n",
    "            data = TubeData()\n",
    "            line = 'London Overground'\n",
    "            overgound_sensor = LondonTubeSensor(line, data)\n",
    "            overgound_sensor.update()\n",
    "\n",
    "            self.assertEqual(overgound_sensor.state, 'Minor Delays')\n",
    "            self.assertEqual(overgound_sensor.device_state_attributes['Description'], 'Something else')\n",
    "        \n",
    "        \n",
    "unittest.main(argv=['ignored', '-v'], exit=False)"
   ]
  },
  {
   "cell_type": "code",
   "execution_count": null,
   "metadata": {
    "collapsed": true
   },
   "outputs": [],
   "source": []
  }
 ],
 "metadata": {
  "anaconda-cloud": {},
  "kernelspec": {
   "display_name": "Python 3",
   "language": "python",
   "name": "python3"
  },
  "language_info": {
   "codemirror_mode": {
    "name": "ipython",
    "version": 3
   },
   "file_extension": ".py",
   "mimetype": "text/x-python",
   "name": "python",
   "nbconvert_exporter": "python",
   "pygments_lexer": "ipython3",
   "version": "3.6.5"
  }
 },
 "nbformat": 4,
 "nbformat_minor": 2
}
