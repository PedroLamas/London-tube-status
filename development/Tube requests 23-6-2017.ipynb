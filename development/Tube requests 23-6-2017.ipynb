{
 "cells": [
  {
   "cell_type": "markdown",
   "metadata": {},
   "source": [
    "Check the status of tube lines\n",
    "\n",
    "http://docs.python-requests.org/en/master/\n",
    "\n",
    "http://docs.python-requests.org/en/master/user/quickstart/#make-a-request Tutorial\n",
    "\n",
    "https://github.com/timcnicholls/transport_api_demo/blob/master/harwell_wantage_bus.py\n",
    "\n",
    "23-6 Removed Goodness attribute as just duplicates state"
   ]
  },
  {
   "cell_type": "code",
   "execution_count": 1,
   "metadata": {
    "collapsed": true
   },
   "outputs": [],
   "source": [
    "import requests\n",
    "import json\n",
    "import pprint\n",
    "import unittest\n",
    "import sys"
   ]
  },
  {
   "cell_type": "code",
   "execution_count": 2,
   "metadata": {
    "collapsed": true
   },
   "outputs": [],
   "source": [
    "def print_json(json_data):\n",
    "    pprint.PrettyPrinter().pprint(json_data)"
   ]
  },
  {
   "cell_type": "code",
   "execution_count": 3,
   "metadata": {
    "collapsed": false
   },
   "outputs": [],
   "source": [
    "lines = ['bakerloo',\n",
    " 'central',\n",
    " 'circle',\n",
    " 'district',\n",
    " 'hammersmith-city',\n",
    " 'jubilee',\n",
    " 'metropolitan',\n",
    " 'northern',\n",
    " 'piccadilly',\n",
    " 'victoria',\n",
    " 'waterloo-city']"
   ]
  },
  {
   "cell_type": "markdown",
   "metadata": {},
   "source": [
    "# Basic function of API"
   ]
  },
  {
   "cell_type": "code",
   "execution_count": 4,
   "metadata": {
    "collapsed": false
   },
   "outputs": [
    {
     "name": "stdout",
     "output_type": "stream",
     "text": [
      "bakerloo\n",
      "[{'$type': 'Tfl.Api.Presentation.Entities.LineStatus, '\n",
      "           'Tfl.Api.Presentation.Entities',\n",
      "  'created': '0001-01-01T00:00:00',\n",
      "  'id': 0,\n",
      "  'statusSeverity': 10,\n",
      "  'statusSeverityDescription': 'Good Service',\n",
      "  'validityPeriods': []}]\n"
     ]
    }
   ],
   "source": [
    "lin_num = 0 \n",
    "print(lines[lin_num])\n",
    "\n",
    "url = 'https://api.tfl.gov.uk/line/{}/status'.format(lines[lin_num])\n",
    "response = requests.get(url)  # get the response object\n",
    "\n",
    "bakerloo_data = response.json()[0]['lineStatuses']       # data is a list of statuses on the line\n",
    "print_json(bakerloo_data)"
   ]
  },
  {
   "cell_type": "code",
   "execution_count": 5,
   "metadata": {
    "collapsed": false
   },
   "outputs": [
    {
     "data": {
      "text/plain": [
       "['Good Service']"
      ]
     },
     "execution_count": 5,
     "metadata": {},
     "output_type": "execute_result"
    }
   ],
   "source": [
    "statuses = [status['statusSeverityDescription'] for status in bakerloo_data]\n",
    "statuses"
   ]
  },
  {
   "cell_type": "markdown",
   "metadata": {},
   "source": [
    "## Get list of statuses\n",
    "Statuses is a list of statuses on a line"
   ]
  },
  {
   "cell_type": "code",
   "execution_count": 6,
   "metadata": {
    "collapsed": false
   },
   "outputs": [
    {
     "data": {
      "text/plain": [
       "['Good Service']"
      ]
     },
     "execution_count": 6,
     "metadata": {},
     "output_type": "execute_result"
    }
   ],
   "source": [
    "def get_statuses(data):\n",
    "    \"\"\"Get a list of all statuses on a line.\"\"\"\n",
    "    return [status['statusSeverityDescription'] for status in data]\n",
    "\n",
    "get_statuses(bakerloo_data)"
   ]
  },
  {
   "cell_type": "markdown",
   "metadata": {},
   "source": [
    "# Get state\n",
    "State is a string capturing the overall state of a line. Return 'Good status' if good, else a string of individual states seperated with a +"
   ]
  },
  {
   "cell_type": "code",
   "execution_count": 7,
   "metadata": {
    "collapsed": false
   },
   "outputs": [
    {
     "data": {
      "text/plain": [
       "'Part Closure + Minor Delays'"
      ]
     },
     "execution_count": 7,
     "metadata": {},
     "output_type": "execute_result"
    }
   ],
   "source": [
    "def get_state(statuses):\n",
    "    \"\"\"Return the overall state of a line.\"\"\"\n",
    "    if 'Good Service' in statuses:   # if good status, this is the only status returned\n",
    "        return 'Good Service'\n",
    "    else:\n",
    "        return ' + '.join(set(statuses)) \n",
    "\n",
    "get_state(['Part Closure', 'Minor Delays'])"
   ]
  },
  {
   "cell_type": "markdown",
   "metadata": {},
   "source": [
    "# Get description\n",
    "Return the list of reasons for the not good state"
   ]
  },
  {
   "cell_type": "code",
   "execution_count": 8,
   "metadata": {
    "collapsed": false
   },
   "outputs": [],
   "source": [
    "def get_description(state, data):\n",
    "    \"\"\"Return a description of the resons for the state of a line.\"\"\"\n",
    "    if state == 'Good service':   # if good status, this is the only status returned\n",
    "        return ['Nothing to report']\n",
    "    else:\n",
    "        return [status['reason'] for status in data]"
   ]
  },
  {
   "cell_type": "markdown",
   "metadata": {},
   "source": [
    "## Create unittests"
   ]
  },
  {
   "cell_type": "code",
   "execution_count": 19,
   "metadata": {
    "collapsed": false
   },
   "outputs": [
    {
     "name": "stderr",
     "output_type": "stream",
     "text": [
      "test_of_get_description (__main__.TestStatus) ... ok\n",
      "test_of_get_state (__main__.TestStatus) ... ok\n",
      "test_of_get_statuses (__main__.TestStatus) ... ok\n",
      "\n",
      "----------------------------------------------------------------------\n",
      "Ran 3 tests in 0.003s\n",
      "\n",
      "OK\n"
     ]
    },
    {
     "data": {
      "text/plain": [
       "<unittest.main.TestProgram at 0x1070bc940>"
      ]
     },
     "execution_count": 19,
     "metadata": {},
     "output_type": "execute_result"
    }
   ],
   "source": [
    "## Mock data\n",
    "mock_good_data = [{'statusSeverityDescription':'Good Service'}]\n",
    "\n",
    "mock_bad_data = [{'statusSeverityDescription':'Part Closure', \n",
    "                                     'reason': 'investigations'},\n",
    "                 {'statusSeverityDescription':'Minor Delays', \n",
    "                                     'reason': 'leaves'}]\n",
    "\n",
    "mock_bad_statuses = ['Part Closure', 'Minor Delays']\n",
    "\n",
    "class TestStatus(unittest.TestCase):\n",
    "    def test_of_get_statuses(self):\n",
    "        self.assertEqual(get_statuses(mock_good_data), ['Good Service'])\n",
    "        self.assertEqual(get_statuses(mock_bad_data), mock_bad_statuses)\n",
    "        \n",
    "    def test_of_get_state(self):\n",
    "        self.assertEqual(get_state(mock_bad_statuses), 'Part Closure + Minor Delays')\n",
    "        \n",
    "    def test_of_get_description(self):\n",
    "        self.assertEqual(get_description('Good service', mock_good_data), ['Nothing to report'])\n",
    "        self.assertEqual(get_description(mock_bad_statuses, mock_bad_data), ['investigations', 'leaves'])\n",
    "        \n",
    "unittest.main(argv=['ignored', '-v'], exit=False)"
   ]
  },
  {
   "cell_type": "markdown",
   "metadata": {},
   "source": [
    "# Create tube class"
   ]
  },
  {
   "cell_type": "markdown",
   "metadata": {},
   "source": [
    "Wrap in a class with a method for updating and another for returning line of interest. Follow https://github.com/timcnicholls/home-assistant/blob/transport-api/homeassistant/components/sensor/uk_transport.py"
   ]
  },
  {
   "cell_type": "code",
   "execution_count": 34,
   "metadata": {
    "collapsed": false
   },
   "outputs": [],
   "source": [
    "class LondonTubeSensor():    # Entity\n",
    "    \"\"\"\n",
    "    Sensor that reads the status of a tube lines using the TFL API.\n",
    "    \"\"\"\n",
    "    API_URL_BASE = \"https://api.tfl.gov.uk/line/{}/status\"\n",
    "    ICON = 'mdi:subway'\n",
    "\n",
    "    def __init__(self, name):\n",
    "        \"\"\"Initialize the sensor.\"\"\"\n",
    "        self._name = name             # the name of the line from the allowed list\n",
    "        self._data = {}\n",
    "        self._url = self.API_URL_BASE\n",
    "        self._state = 'Updating'\n",
    "        self._statuses = []\n",
    "        self._description = ['Updating']\n",
    "\n",
    "    @property\n",
    "    def name(self):\n",
    "        \"\"\"Return the line name of the sensor.\"\"\"\n",
    "        return self._name\n",
    "\n",
    "    @property\n",
    "    def state(self):\n",
    "        \"\"\"Return the state of the sensor.\"\"\"\n",
    "        return self._state\n",
    "\n",
    "    @property\n",
    "    def icon(self):\n",
    "        \"\"\"Icon to use in the frontend, if any.\"\"\"\n",
    "        return self.ICON\n",
    "\n",
    "    #@property\n",
    "    #def unit_of_measurement(self):    # Do I need?\n",
    "    #    \"\"\"Return the unit this state is expressed in.\"\"\"\n",
    "    #    return \"\"\n",
    "    \n",
    "    @property\n",
    "    def device_state_attributes(self):\n",
    "        \"\"\"Return other details about the sensor state.\"\"\"\n",
    "        attrs = {}  # {'attribution': 'Data provided by transportapi.com'}\n",
    "        attrs['Goodness'] = self._goodness # if there is data, append\n",
    "        attrs['Statuses'] = self._statuses # if there is data, append\n",
    "        attrs['Description'] = self._description # if there is data, append\n",
    "        return attrs\n",
    "\n",
    "    def update(self):\n",
    "        \"\"\"Perform an API request and update the sensor.\"\"\"\n",
    "        \n",
    "        response = requests.get(self._url.format(self._name.lower()))    # make a request\n",
    "        print(response)\n",
    "        \n",
    "        if response.status_code != 200:\n",
    "            #_LOGGER.warning(\"Invalid response from API\")\n",
    "            print(\"Invalid response from API\")\n",
    "            \n",
    "        else:    \n",
    "            self._data = response.json()[0]['lineStatuses']   # convert to json and get statuses list          \n",
    "            self._statuses = self.get_statuses()\n",
    "            self._state = self.get_state()\n",
    "         #   self._description = self.get_description()\n",
    "\n",
    "            \n",
    "    def get_statuses(self):\n",
    "        \"\"\"Get a list of all statuses on a line.\"\"\"\n",
    "        return [status['statusSeverityDescription'] for status in self._data]\n",
    "    \n",
    "    def get_state(self):\n",
    "        \"\"\"Return the overall state of a line.\"\"\"\n",
    "        if 'Good Service' in self._statuses:   # if good status, this is the only status returned\n",
    "            return 'Good Service'\n",
    "        else:\n",
    "            return ' + '.join(set(self._statuses)) \n",
    "        \n",
    "    def get_description(self):\n",
    "        \"\"\"Return a description of the resons for the state of a line.\"\"\"\n",
    "        if self._state == 'Good service':   # if good status, this is the only status returned\n",
    "            return ['Nothing to report']\n",
    "        else:\n",
    "            return [status['reason'] for status in self._data]"
   ]
  },
  {
   "cell_type": "code",
   "execution_count": 35,
   "metadata": {
    "collapsed": false
   },
   "outputs": [],
   "source": [
    "Bakerloo_sensor = LondonTubeSensor('Bakerloo')"
   ]
  },
  {
   "cell_type": "code",
   "execution_count": 38,
   "metadata": {
    "collapsed": false
   },
   "outputs": [
    {
     "data": {
      "text/plain": [
       "[{'$type': 'Tfl.Api.Presentation.Entities.LineStatus, Tfl.Api.Presentation.Entities',\n",
       "  'created': '0001-01-01T00:00:00',\n",
       "  'id': 0,\n",
       "  'statusSeverity': 10,\n",
       "  'statusSeverityDescription': 'Good Service',\n",
       "  'validityPeriods': []}]"
      ]
     },
     "execution_count": 38,
     "metadata": {},
     "output_type": "execute_result"
    }
   ],
   "source": [
    "#Bakerloo_sensor.update()\n",
    "Bakerloo_sensor._data"
   ]
  },
  {
   "cell_type": "code",
   "execution_count": null,
   "metadata": {
    "collapsed": true
   },
   "outputs": [],
   "source": []
  },
  {
   "cell_type": "code",
   "execution_count": null,
   "metadata": {
    "collapsed": true
   },
   "outputs": [],
   "source": []
  },
  {
   "cell_type": "markdown",
   "metadata": {},
   "source": [
    "# OLD"
   ]
  },
  {
   "cell_type": "code",
   "execution_count": 10,
   "metadata": {
    "collapsed": false
   },
   "outputs": [],
   "source": [
    "class LondonTubeSensorDEPRECATED():    # Entity\n",
    "    \"\"\"\n",
    "    Sensor that reads the status of a tube lines using the TFL API.\n",
    "    \"\"\"\n",
    "\n",
    "    API_URL_BASE = \"https://api.tfl.gov.uk/line/{}/status\"\n",
    "    ICON = 'mdi:subway'\n",
    "\n",
    "    def __init__(self, line):\n",
    "        \"\"\"Initialize the sensor.\"\"\"\n",
    "        self._data = {}\n",
    "        self._url = self.API_URL_BASE\n",
    "        self._line = line\n",
    "        self._state = 'Updating'\n",
    "        self._statuses = []\n",
    "        self._goodness = False\n",
    "        self._description = 'Updating'\n",
    "\n",
    "    @property\n",
    "    def name(self):\n",
    "        \"\"\"Return the line name of the sensor.\"\"\"\n",
    "        return self._line\n",
    "\n",
    "    @property\n",
    "    def state(self):\n",
    "        \"\"\"Return the state of the sensor.\"\"\"\n",
    "        return self._state\n",
    "\n",
    "    @property\n",
    "    def icon(self):\n",
    "        \"\"\"Icon to use in the frontend, if any.\"\"\"\n",
    "        return self.ICON\n",
    "\n",
    "    @property\n",
    "    def unit_of_measurement(self):    # Do I need?\n",
    "        \"\"\"Return the unit this state is expressed in.\"\"\"\n",
    "        return \"\"\n",
    "\n",
    "    def update(self):\n",
    "        \"\"\"Perform an API request.\"\"\"\n",
    "\n",
    "        try:\n",
    "            response = requests.get(self._url.format(self._line.lower()))\n",
    "            response.raise_for_status()\n",
    "            self._data = response.json()[0]['lineStatuses']   # convert to json and get statuses list\n",
    "            self._statuses = [status['statusSeverityDescription'] for status in self._data]\n",
    "\n",
    "            if 'Good Service' in self._statuses:   # if good status, this is the only status returned\n",
    "                self._state = 'Good Service'\n",
    "                self._goodness = True              # convenience attribute to detect good service\n",
    "                self._description = 'Nothing to report'\n",
    "            else:\n",
    "                self._state = ' + '.join(set(self._statuses))   # get the unique statuses and join\n",
    "                self._goodness = False\n",
    "                self._description = [status['reason'] for status in self._data] # get the reasons\n",
    "\n",
    "        except requests.RequestException as req_exc:\n",
    "            print(\n",
    "                'Invalid response from API: %s', req_exc\n",
    "            )\n",
    "\n",
    "    @property\n",
    "    def device_state_attributes(self):\n",
    "        \"\"\"Return other details about the sensor state.\"\"\"\n",
    "        attrs = {}  # {'attribution': 'Data provided by transportapi.com'}\n",
    "        attrs['Goodness'] = self._goodness # if there is data, append\n",
    "        attrs['Statuses'] = self._statuses # if there is data, append\n",
    "        attrs['Description'] = self._description # if there is data, append\n",
    "        return attrs\n"
   ]
  }
 ],
 "metadata": {
  "anaconda-cloud": {},
  "kernelspec": {
   "display_name": "Python [conda root]",
   "language": "python",
   "name": "conda-root-py"
  },
  "language_info": {
   "codemirror_mode": {
    "name": "ipython",
    "version": 3
   },
   "file_extension": ".py",
   "mimetype": "text/x-python",
   "name": "python",
   "nbconvert_exporter": "python",
   "pygments_lexer": "ipython3",
   "version": "3.5.2"
  }
 },
 "nbformat": 4,
 "nbformat_minor": 1
}
