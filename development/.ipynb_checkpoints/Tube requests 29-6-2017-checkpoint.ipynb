{
 "cells": [
  {
   "cell_type": "markdown",
   "metadata": {},
   "source": [
    "Check the status of tube lines and overground\n",
    "https://api.tfl.gov.uk/line/mode/tube,overground,dlr,tflrail/status\n",
    "\n",
    "29-6 added overground state"
   ]
  },
  {
   "cell_type": "code",
   "execution_count": 1,
   "metadata": {
    "collapsed": true
   },
   "outputs": [],
   "source": [
    "import requests\n",
    "import requests_mock\n",
    "import json\n",
    "import pprint\n",
    "import unittest\n",
    "import sys"
   ]
  },
  {
   "cell_type": "code",
   "execution_count": 2,
   "metadata": {
    "collapsed": true
   },
   "outputs": [],
   "source": [
    "def print_json(json_data):\n",
    "    pprint.PrettyPrinter().pprint(json_data)"
   ]
  },
  {
   "cell_type": "code",
   "execution_count": 3,
   "metadata": {
    "collapsed": false
   },
   "outputs": [],
   "source": [
    "# List of allowed lines\n",
    "lines = ['Bakerloo',\n",
    " 'Central',\n",
    " 'Circle',\n",
    " 'District',\n",
    " 'DLR',\n",
    " 'Hammersmith & City',\n",
    " 'Jubilee',\n",
    " 'London Overground',\n",
    " 'Metropolitan',\n",
    " 'Northern',\n",
    " 'Piccadilly',\n",
    " 'TfL Rail',\n",
    " 'Victoria',\n",
    " 'Waterloo & City']"
   ]
  },
  {
   "cell_type": "code",
   "execution_count": 4,
   "metadata": {
    "collapsed": false
   },
   "outputs": [
    {
     "name": "stdout",
     "output_type": "stream",
     "text": [
      "Tube requests 29-6-2017.ipynb  tube_state.json\r\n",
      "test_tube_state.py\r\n"
     ]
    }
   ],
   "source": [
    "ls"
   ]
  },
  {
   "cell_type": "code",
   "execution_count": 5,
   "metadata": {
    "collapsed": false
   },
   "outputs": [
    {
     "data": {
      "text/plain": [
       "14"
      ]
     },
     "execution_count": 5,
     "metadata": {},
     "output_type": "execute_result"
    }
   ],
   "source": [
    "len(lines)"
   ]
  },
  {
   "cell_type": "markdown",
   "metadata": {},
   "source": [
    "# Basic function of API"
   ]
  },
  {
   "cell_type": "code",
   "execution_count": 6,
   "metadata": {
    "collapsed": false
   },
   "outputs": [
    {
     "name": "stdout",
     "output_type": "stream",
     "text": [
      "14\n",
      "'Bakerloo'\n",
      "'Good Service'\n"
     ]
    }
   ],
   "source": [
    "#url = 'https://api.tfl.gov.uk/line/mode/tube/status'   # tube only\n",
    "url = 'https://api.tfl.gov.uk/line/mode/tube,overground,dlr,tflrail/status'\n",
    "data = requests.get(url).json() # get the response object\n",
    "\n",
    "# Cached data\n",
    "with requests_mock.mock() as m:\n",
    "    m.get(url, text=open('tube_state.json').read())\n",
    "    #data = requests.get(url).json()\n",
    "    \n",
    "print_json(len(data))\n",
    "print_json(data[0]['name'])\n",
    "print_json(data[0]['lineStatuses'][0]['statusSeverityDescription'])"
   ]
  },
  {
   "cell_type": "code",
   "execution_count": 7,
   "metadata": {
    "collapsed": false
   },
   "outputs": [
    {
     "data": {
      "text/plain": [
       "['Bakerloo',\n",
       " 'Central',\n",
       " 'Circle',\n",
       " 'District',\n",
       " 'DLR',\n",
       " 'Hammersmith & City',\n",
       " 'Jubilee',\n",
       " 'London Overground',\n",
       " 'Metropolitan',\n",
       " 'Northern',\n",
       " 'Piccadilly',\n",
       " 'TfL Rail',\n",
       " 'Victoria',\n",
       " 'Waterloo & City']"
      ]
     },
     "execution_count": 7,
     "metadata": {},
     "output_type": "execute_result"
    }
   ],
   "source": [
    "_lines = [line['name'] for line in data]\n",
    "_lines"
   ]
  },
  {
   "cell_type": "code",
   "execution_count": 8,
   "metadata": {
    "collapsed": false
   },
   "outputs": [
    {
     "data": {
      "text/plain": [
       "{'Bakerloo': None,\n",
       " 'Central': None,\n",
       " 'Circle': None,\n",
       " 'DLR': None,\n",
       " 'District': None,\n",
       " 'Hammersmith & City': None,\n",
       " 'Jubilee': None,\n",
       " 'London Overground': None,\n",
       " 'Metropolitan': None,\n",
       " 'Northern': None,\n",
       " 'Piccadilly': None,\n",
       " 'TfL Rail': None,\n",
       " 'Victoria': None,\n",
       " 'Waterloo & City': None}"
      ]
     },
     "execution_count": 8,
     "metadata": {},
     "output_type": "execute_result"
    }
   ],
   "source": [
    "data_dict = dict.fromkeys(_lines)    # Create the empty dict for the data\n",
    "data_dict"
   ]
  },
  {
   "cell_type": "markdown",
   "metadata": {},
   "source": [
    "Main logic for parsing the data into a useful dict"
   ]
  },
  {
   "cell_type": "code",
   "execution_count": 9,
   "metadata": {
    "collapsed": false
   },
   "outputs": [
    {
     "name": "stdout",
     "output_type": "stream",
     "text": [
      "{'Bakerloo': {'Description': 'Nothing to report', 'State': 'Good Service'},\n",
      " 'Central': {'Description': 'Nothing to report', 'State': 'Good Service'},\n",
      " 'Circle': {'Description': 'Nothing to report', 'State': 'Good Service'},\n",
      " 'DLR': {'Description': 'Nothing to report', 'State': 'Good Service'},\n",
      " 'District': {'Description': 'Nothing to report', 'State': 'Good Service'},\n",
      " 'Hammersmith & City': {'Description': 'Nothing to report',\n",
      "                        'State': 'Good Service'},\n",
      " 'Jubilee': {'Description': 'Nothing to report', 'State': 'Good Service'},\n",
      " 'London Overground': {'Description': 'London Overground: Minor delays '\n",
      "                                      'Richmond to Stratford and Willesden '\n",
      "                                      'Junction to Clapham Junction while we '\n",
      "                                      'fix a faulty train at Richmond, GOOD '\n",
      "                                      'SERVICE all other routes. ',\n",
      "                       'State': 'Minor Delays'},\n",
      " 'Metropolitan': {'Description': 'Nothing to report', 'State': 'Good Service'},\n",
      " 'Northern': {'Description': 'Nothing to report', 'State': 'Good Service'},\n",
      " 'Piccadilly': {'Description': 'Nothing to report', 'State': 'Good Service'},\n",
      " 'TfL Rail': {'Description': 'Nothing to report', 'State': 'Good Service'},\n",
      " 'Victoria': {'Description': 'Nothing to report', 'State': 'Good Service'},\n",
      " 'Waterloo & City': {'Description': 'Nothing to report',\n",
      "                     'State': 'Good Service'}}\n"
     ]
    }
   ],
   "source": [
    "for line in data:                     # Assign data via key\n",
    "    statuses = [status['statusSeverityDescription'] for status in line['lineStatuses']]\n",
    "    state = ' + '.join(sorted(set(statuses)))\n",
    "    \n",
    "    if state == 'Good Service':   # if good status, this is the only status returned\n",
    "        reason =  'Nothing to report'\n",
    "    else:\n",
    "        reason = ' *** '.join([status['reason'] for status in line['lineStatuses']])\n",
    "\n",
    "    attr = {'State': state, 'Description': reason}\n",
    "    data_dict[line['name']] = attr\n",
    "    \n",
    "print_json(data_dict)"
   ]
  },
  {
   "cell_type": "markdown",
   "metadata": {},
   "source": [
    "## Create function for parsing response data"
   ]
  },
  {
   "cell_type": "code",
   "execution_count": 10,
   "metadata": {
    "collapsed": true
   },
   "outputs": [],
   "source": [
    "def parse_api_response(response):\n",
    "    \"\"\"Take in the TFL API json.\"\"\"\n",
    "    lines = [line['name'] for line in response]    # All available lines\n",
    "    data_dict = dict.fromkeys(lines)\n",
    "    \n",
    "    for line in response:                     # Assign data via key\n",
    "        statuses = [status['statusSeverityDescription'] for status in line['lineStatuses']]\n",
    "        state = ' + '.join(sorted(set(statuses)))\n",
    "    \n",
    "        if state == 'Good Service':   # if good status, this is the only status returned\n",
    "            reason =  'Nothing to report'\n",
    "        else:\n",
    "            reason = ' *** '.join([status['reason'] for status in line['lineStatuses']])\n",
    "\n",
    "        attr = {'State': state, 'Description': reason}\n",
    "        data_dict[line['name']] = attr\n",
    "    \n",
    "    return data_dict"
   ]
  },
  {
   "cell_type": "code",
   "execution_count": 11,
   "metadata": {
    "collapsed": false
   },
   "outputs": [
    {
     "name": "stderr",
     "output_type": "stream",
     "text": [
      "test_parse_API_response (__main__.TestLondonTubeSensor) ... ok\n",
      "\n",
      "----------------------------------------------------------------------\n",
      "Ran 1 test in 0.001s\n",
      "\n",
      "OK\n"
     ]
    },
    {
     "data": {
      "text/plain": [
       "<unittest.main.TestProgram at 0x104e9f048>"
      ]
     },
     "execution_count": 11,
     "metadata": {},
     "output_type": "execute_result"
    }
   ],
   "source": [
    "## Mock data\n",
    "with requests_mock.mock() as m:\n",
    "    url = 'https://api.tfl.gov.uk/line/mode/tube,overground,dlr,tflrail/status'\n",
    "    m.get(url, text=open('tube_state.json').read())\n",
    "    response = requests.get(url).json()\n",
    "\n",
    "class TestLondonTubeSensor(unittest.TestCase):\n",
    "\n",
    "    def test_parse_API_response(self):\n",
    "        data = parse_api_response(response)\n",
    "        \n",
    "        self.assertEqual(data['London Overground']['State'],\n",
    "                        'Minor Delays')\n",
    "        \n",
    "        \n",
    "unittest.main(argv=['ignored', '-v'], exit=False)"
   ]
  },
  {
   "cell_type": "markdown",
   "metadata": {},
   "source": [
    "# Create tube class"
   ]
  },
  {
   "cell_type": "markdown",
   "metadata": {},
   "source": [
    "Wrap in a class with a method for updating and another for returning line of interest. Follow\n",
    "https://github.com/robmarkcole/home-assistant/blob/dev/homeassistant/components/sensor/bitcoin.py"
   ]
  },
  {
   "cell_type": "code",
   "execution_count": 12,
   "metadata": {
    "collapsed": false
   },
   "outputs": [],
   "source": [
    "class TubeData(object):\n",
    "    \"\"\"Get the latest tube data from TFL.\"\"\"\n",
    "    url = 'https://api.tfl.gov.uk/line/mode/tube/status'\n",
    "    \n",
    "    def __init__(self):\n",
    "        \"\"\"Initialize the data object.\"\"\"\n",
    "        self.data = None\n",
    "\n",
    "    def update(self):\n",
    "        \"\"\"Get the latest data from TFL.\"\"\"\n",
    "        response = requests.get(url)\n",
    "        \n",
    "        if response.status_code != 200:\n",
    "            #_LOGGER.warning(\"Invalid response from API\")\n",
    "            print(\"Invalid response from API\")\n",
    "        else:\n",
    "            self.data = parse_api_response(response.json())"
   ]
  },
  {
   "cell_type": "code",
   "execution_count": 13,
   "metadata": {
    "collapsed": false
   },
   "outputs": [
    {
     "data": {
      "text/plain": [
       "{'Bakerloo': {'Description': 'Nothing to report', 'State': 'Good Service'},\n",
       " 'Central': {'Description': 'Nothing to report', 'State': 'Good Service'},\n",
       " 'Circle': {'Description': 'Nothing to report', 'State': 'Good Service'},\n",
       " 'DLR': {'Description': 'Nothing to report', 'State': 'Good Service'},\n",
       " 'District': {'Description': 'Nothing to report', 'State': 'Good Service'},\n",
       " 'Hammersmith & City': {'Description': 'Nothing to report',\n",
       "  'State': 'Good Service'},\n",
       " 'Jubilee': {'Description': 'Nothing to report', 'State': 'Good Service'},\n",
       " 'London Overground': {'Description': 'London Overground: Minor delays Richmond to Stratford and Willesden Junction to Clapham Junction while we fix a faulty train at Richmond, GOOD SERVICE all other routes. ',\n",
       "  'State': 'Minor Delays'},\n",
       " 'Metropolitan': {'Description': 'Nothing to report', 'State': 'Good Service'},\n",
       " 'Northern': {'Description': 'Nothing to report', 'State': 'Good Service'},\n",
       " 'Piccadilly': {'Description': 'Nothing to report', 'State': 'Good Service'},\n",
       " 'TfL Rail': {'Description': 'Nothing to report', 'State': 'Good Service'},\n",
       " 'Victoria': {'Description': 'Nothing to report', 'State': 'Good Service'},\n",
       " 'Waterloo & City': {'Description': 'Nothing to report',\n",
       "  'State': 'Good Service'}}"
      ]
     },
     "execution_count": 13,
     "metadata": {},
     "output_type": "execute_result"
    }
   ],
   "source": [
    "test_tube = TubeData()\n",
    "test_tube.update()\n",
    "test_tube.data"
   ]
  },
  {
   "cell_type": "code",
   "execution_count": 14,
   "metadata": {
    "collapsed": true
   },
   "outputs": [],
   "source": [
    "class LondonTubeSensor():    # Entity\n",
    "    \"\"\"\n",
    "    Sensor that reads the status of a tube line.\n",
    "    \"\"\"\n",
    "\n",
    "    ICON = 'mdi:subway'\n",
    "\n",
    "    def __init__(self, name, data):\n",
    "        \"\"\"Initialize the sensor.\"\"\"\n",
    "        self._name = name             # the name of the line from the allowed list\n",
    "        self._data = data\n",
    "        self._state = None\n",
    "        self._description = None\n",
    "\n",
    "    @property\n",
    "    def name(self):\n",
    "        \"\"\"Return the name of the sensor.\"\"\"\n",
    "        return self._name\n",
    "\n",
    "    @property\n",
    "    def state(self):\n",
    "        \"\"\"Return the state of the sensor.\"\"\"\n",
    "        return self._state\n",
    "\n",
    "    @property\n",
    "    def icon(self):\n",
    "        \"\"\"Icon to use in the frontend, if any.\"\"\"\n",
    "        return self.ICON\n",
    "\n",
    "    @property\n",
    "    def device_state_attributes(self):\n",
    "        \"\"\"Return other details about the sensor state.\"\"\"\n",
    "        attrs = {}  # {'attribution': 'Data provided by transportapi.com'}\n",
    "        attrs['Description'] = self._description # if there is data, append\n",
    "        return attrs\n",
    "\n",
    "    def update(self):\n",
    "        \"\"\"Update the sensor.\"\"\"\n",
    "        self._data.update()      # update the data object\n",
    "        self._state = self._data.data[self.name]['State']\n",
    "        self._description = self._data.data[self.name]['Description']"
   ]
  },
  {
   "cell_type": "code",
   "execution_count": 15,
   "metadata": {
    "collapsed": false
   },
   "outputs": [
    {
     "name": "stdout",
     "output_type": "stream",
     "text": [
      "Good Service\n",
      "Nothing to report\n"
     ]
    }
   ],
   "source": [
    "data = TubeData()   # init a data object\n",
    "bakerloo_sensor = LondonTubeSensor('Bakerloo', data)\n",
    "bakerloo_sensor.update()\n",
    "print(bakerloo_sensor.state)\n",
    "print(bakerloo_sensor.device_state_attributes['Description'])"
   ]
  },
  {
   "cell_type": "markdown",
   "metadata": {},
   "source": [
    "## Example usage"
   ]
  },
  {
   "cell_type": "code",
   "execution_count": 16,
   "metadata": {
    "collapsed": true
   },
   "outputs": [],
   "source": [
    "CONF_LINE = 'line'\n",
    "config = {CONF_LINE:['Bakerloo', 'District']}\n",
    "\n",
    "def example_setup_platform(config):\n",
    "    \"\"\"Set up the Bitcoin sensors.\"\"\"\n",
    "\n",
    "\n",
    "    data = TubeData()\n",
    "    sensors = []\n",
    "    for line in config[CONF_LINE]:\n",
    "        sensors.append(LondonTubeSensor(line, data))\n",
    "\n",
    "    return sensors"
   ]
  },
  {
   "cell_type": "code",
   "execution_count": 17,
   "metadata": {
    "collapsed": false
   },
   "outputs": [
    {
     "name": "stdout",
     "output_type": "stream",
     "text": [
      "Bakerloo\n",
      "Good Service\n",
      "*****\n",
      "District\n",
      "Good Service\n",
      "*****\n"
     ]
    }
   ],
   "source": [
    "sensors = example_setup_platform(config)\n",
    "\n",
    "for sensor in sensors:\n",
    "    sensor.update()\n",
    "    print(sensor.name)\n",
    "    print(sensor.state)\n",
    "    print('*****')"
   ]
  },
  {
   "cell_type": "code",
   "execution_count": 18,
   "metadata": {
    "collapsed": false
   },
   "outputs": [
    {
     "data": {
      "text/plain": [
       "{'Bakerloo': {'Description': 'Nothing to report', 'State': 'Good Service'},\n",
       " 'Central': {'Description': 'Nothing to report', 'State': 'Good Service'},\n",
       " 'Circle': {'Description': 'Nothing to report', 'State': 'Good Service'},\n",
       " 'DLR': {'Description': 'Nothing to report', 'State': 'Good Service'},\n",
       " 'District': {'Description': 'Nothing to report', 'State': 'Good Service'},\n",
       " 'Hammersmith & City': {'Description': 'Nothing to report',\n",
       "  'State': 'Good Service'},\n",
       " 'Jubilee': {'Description': 'Nothing to report', 'State': 'Good Service'},\n",
       " 'London Overground': {'Description': 'London Overground: Minor delays Richmond to Stratford and Willesden Junction to Clapham Junction while we fix a faulty train at Richmond, GOOD SERVICE all other routes. ',\n",
       "  'State': 'Minor Delays'},\n",
       " 'Metropolitan': {'Description': 'Nothing to report', 'State': 'Good Service'},\n",
       " 'Northern': {'Description': 'Nothing to report', 'State': 'Good Service'},\n",
       " 'Piccadilly': {'Description': 'Nothing to report', 'State': 'Good Service'},\n",
       " 'TfL Rail': {'Description': 'Nothing to report', 'State': 'Good Service'},\n",
       " 'Victoria': {'Description': 'Nothing to report', 'State': 'Good Service'},\n",
       " 'Waterloo & City': {'Description': 'Nothing to report',\n",
       "  'State': 'Good Service'}}"
      ]
     },
     "execution_count": 18,
     "metadata": {},
     "output_type": "execute_result"
    }
   ],
   "source": [
    "sensors[0]._data.data"
   ]
  },
  {
   "cell_type": "code",
   "execution_count": 19,
   "metadata": {
    "collapsed": false
   },
   "outputs": [
    {
     "data": {
      "text/plain": [
       "'test'"
      ]
     },
     "execution_count": 19,
     "metadata": {},
     "output_type": "execute_result"
    }
   ],
   "source": [
    "sensors[0]._data.data = 'test'\n",
    "sensors[0]._data.data"
   ]
  },
  {
   "cell_type": "code",
   "execution_count": 20,
   "metadata": {
    "collapsed": false
   },
   "outputs": [
    {
     "data": {
      "text/plain": [
       "'test'"
      ]
     },
     "execution_count": 20,
     "metadata": {},
     "output_type": "execute_result"
    }
   ],
   "source": [
    "sensors[1]._data.data"
   ]
  },
  {
   "cell_type": "markdown",
   "metadata": {
    "collapsed": true
   },
   "source": [
    "## Save response to json for testing"
   ]
  },
  {
   "cell_type": "code",
   "execution_count": 21,
   "metadata": {
    "collapsed": false
   },
   "outputs": [],
   "source": [
    "url = 'https://api.tfl.gov.uk/line/mode/tube,overground,dlr,tflrail/status'\n",
    "response = requests.get(url)  # get the response object\n",
    "filename = 'tube_state.json'\n",
    "\n",
    "with open(filename, 'wb') as fd:                 # write the response to file. Can format the .json file but no blank lines allowed \n",
    "    for chunk in response.iter_content(chunk_size=128):\n",
    "        fd.write(chunk)\n",
    "\n",
    "data = response.json()[0]['lineStatuses']       # data is a list of statuses on the line\n",
    "#print_json(data)"
   ]
  },
  {
   "cell_type": "code",
   "execution_count": null,
   "metadata": {
    "collapsed": true
   },
   "outputs": [],
   "source": []
  }
 ],
 "metadata": {
  "anaconda-cloud": {},
  "kernelspec": {
   "display_name": "Python [conda root]",
   "language": "python",
   "name": "conda-root-py"
  },
  "language_info": {
   "codemirror_mode": {
    "name": "ipython",
    "version": 3
   },
   "file_extension": ".py",
   "mimetype": "text/x-python",
   "name": "python",
   "nbconvert_exporter": "python",
   "pygments_lexer": "ipython3",
   "version": "3.5.2"
  }
 },
 "nbformat": 4,
 "nbformat_minor": 1
}
