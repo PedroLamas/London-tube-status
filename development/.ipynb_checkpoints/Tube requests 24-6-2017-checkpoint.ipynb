{
 "cells": [
  {
   "cell_type": "markdown",
   "metadata": {},
   "source": [
    "Check the status of tube lines\n",
    "\n",
    "http://docs.python-requests.org/en/master/\n",
    "\n",
    "http://docs.python-requests.org/en/master/user/quickstart/#make-a-request Tutorial\n",
    "\n",
    "https://github.com/timcnicholls/transport_api_demo/blob/master/harwell_wantage_bus.py\n",
    "\n",
    "23-6 Removed Goodness attribute as just duplicates state"
   ]
  },
  {
   "cell_type": "code",
   "execution_count": 1,
   "metadata": {
    "collapsed": true
   },
   "outputs": [],
   "source": [
    "import requests\n",
    "import requests_mock\n",
    "import json\n",
    "import pprint\n",
    "import unittest\n",
    "import sys"
   ]
  },
  {
   "cell_type": "code",
   "execution_count": 2,
   "metadata": {
    "collapsed": true
   },
   "outputs": [],
   "source": [
    "def print_json(json_data):\n",
    "    pprint.PrettyPrinter().pprint(json_data)"
   ]
  },
  {
   "cell_type": "code",
   "execution_count": 3,
   "metadata": {
    "collapsed": false
   },
   "outputs": [],
   "source": [
    "lines = ['bakerloo',\n",
    " 'central',\n",
    " 'circle',\n",
    " 'district',\n",
    " 'hammersmith-city',\n",
    " 'jubilee',\n",
    " 'metropolitan',\n",
    " 'northern',\n",
    " 'piccadilly',\n",
    " 'victoria',\n",
    " 'waterloo-city']"
   ]
  },
  {
   "cell_type": "code",
   "execution_count": 4,
   "metadata": {
    "collapsed": false
   },
   "outputs": [
    {
     "name": "stdout",
     "output_type": "stream",
     "text": [
      "Tube requests 24-6-2017.ipynb  hammersmith-city.json\r\n",
      "bakerloo.json                  victoria.json\r\n",
      "circle.json\r\n"
     ]
    }
   ],
   "source": [
    "ls"
   ]
  },
  {
   "cell_type": "markdown",
   "metadata": {},
   "source": [
    "# Basic function of API"
   ]
  },
  {
   "cell_type": "code",
   "execution_count": 5,
   "metadata": {
    "collapsed": false
   },
   "outputs": [],
   "source": [
    "url = 'https://api.tfl.gov.uk/line/{}/status'.format('victoria')\n",
    "response = requests.get(url)  # get the response object\n",
    "filename = 'victoria.json'\n",
    "\n",
    "with open(filename, 'wb') as fd:                 # write the response to file. Can format the .json file but no blank lines allowed \n",
    "    for chunk in response.iter_content(chunk_size=128):\n",
    "        fd.write(chunk)\n",
    "\n",
    "data = response.json()[0]['lineStatuses']       # data is a list of statuses on the line\n",
    "#print_json(data)"
   ]
  },
  {
   "cell_type": "code",
   "execution_count": 6,
   "metadata": {
    "collapsed": false
   },
   "outputs": [
    {
     "data": {
      "text/plain": [
       "['Good Service']"
      ]
     },
     "execution_count": 6,
     "metadata": {},
     "output_type": "execute_result"
    }
   ],
   "source": [
    "statuses = [status['statusSeverityDescription'] for status in data]\n",
    "statuses"
   ]
  },
  {
   "cell_type": "markdown",
   "metadata": {},
   "source": [
    "## Get list of statuses\n",
    "Statuses is a list of statuses on a line"
   ]
  },
  {
   "cell_type": "code",
   "execution_count": 7,
   "metadata": {
    "collapsed": false
   },
   "outputs": [
    {
     "data": {
      "text/plain": [
       "['Good Service']"
      ]
     },
     "execution_count": 7,
     "metadata": {},
     "output_type": "execute_result"
    }
   ],
   "source": [
    "def get_statuses(data):\n",
    "    \"\"\"Get a list of all statuses on a line.\"\"\"\n",
    "    return [status['statusSeverityDescription'] for status in data]\n",
    "\n",
    "get_statuses(data)"
   ]
  },
  {
   "cell_type": "markdown",
   "metadata": {},
   "source": [
    "# Get state\n",
    "State is a string capturing the overall state of a line. Return 'Good status' if good, else a string of individual states seperated with a +"
   ]
  },
  {
   "cell_type": "code",
   "execution_count": 8,
   "metadata": {
    "collapsed": false
   },
   "outputs": [
    {
     "data": {
      "text/plain": [
       "'Minor Delays + Part Closure'"
      ]
     },
     "execution_count": 8,
     "metadata": {},
     "output_type": "execute_result"
    }
   ],
   "source": [
    "def get_state(statuses):\n",
    "    \"\"\"Return the overall state of a line.\"\"\"\n",
    "    if 'Good Service' in statuses:   # if good status, this is the only status returned\n",
    "        return 'Good Service'\n",
    "    else:\n",
    "        return ' + '.join(set(statuses)) \n",
    "\n",
    "get_state(['Part Closure', 'Minor Delays'])"
   ]
  },
  {
   "cell_type": "markdown",
   "metadata": {},
   "source": [
    "# Get description\n",
    "Return the list of reasons for the not good state"
   ]
  },
  {
   "cell_type": "code",
   "execution_count": 9,
   "metadata": {
    "collapsed": false
   },
   "outputs": [],
   "source": [
    "def get_description(state, data):\n",
    "    \"\"\"Return a description of the resons for the state of a line.\"\"\"\n",
    "    if state == 'Good service':   # if good status, this is the only status returned\n",
    "        return ['Nothing to report']\n",
    "    else:\n",
    "        return [status['reason'] for status in data]"
   ]
  },
  {
   "cell_type": "markdown",
   "metadata": {},
   "source": [
    "## Mock a request\n",
    "Using a response saved in a .json file"
   ]
  },
  {
   "cell_type": "code",
   "execution_count": 10,
   "metadata": {
    "collapsed": false
   },
   "outputs": [
    {
     "data": {
      "text/plain": [
       "'Good Service'"
      ]
     },
     "execution_count": 10,
     "metadata": {},
     "output_type": "execute_result"
    }
   ],
   "source": [
    "url = 'https://api.tfl.gov.uk/line/victoria/status'\n",
    "\n",
    "with requests_mock.mock() as m:\n",
    "    m.get(url, text=open('victoria.json').read())\n",
    "    response = requests.get(url)\n",
    "\n",
    "data = response.json()[0]['lineStatuses']\n",
    "statuses = [status['statusSeverityDescription'] for status in data]\n",
    "get_state(statuses)"
   ]
  },
  {
   "cell_type": "markdown",
   "metadata": {},
   "source": [
    "# Create tube class"
   ]
  },
  {
   "cell_type": "markdown",
   "metadata": {},
   "source": [
    "Wrap in a class with a method for updating and another for returning line of interest. Follow https://github.com/timcnicholls/home-assistant/blob/transport-api/homeassistant/components/sensor/uk_transport.py"
   ]
  },
  {
   "cell_type": "code",
   "execution_count": 15,
   "metadata": {
    "collapsed": false
   },
   "outputs": [],
   "source": [
    "class LondonTubeSensor():    # Entity\n",
    "    \"\"\"\n",
    "    Sensor that reads the status of a tube lines using the TFL API.\n",
    "    \"\"\"\n",
    "    API_URL_BASE = \"https://api.tfl.gov.uk/line/{}/status\"\n",
    "    ICON = 'mdi:subway'\n",
    "\n",
    "    def __init__(self, name):\n",
    "        \"\"\"Initialize the sensor.\"\"\"\n",
    "        self._name = name             # the name of the line from the allowed list\n",
    "        self._data = {}\n",
    "        self._url = self.API_URL_BASE\n",
    "        self._state = 'Updating'\n",
    "        self._description = ['Updating']\n",
    "\n",
    "    @property\n",
    "    def name(self):\n",
    "        \"\"\"Return the line name of the sensor.\"\"\"\n",
    "        return self._name\n",
    "\n",
    "    @property\n",
    "    def state(self):\n",
    "        \"\"\"Return the state of the sensor.\"\"\"\n",
    "        return self._state\n",
    "\n",
    "    @property\n",
    "    def icon(self):\n",
    "        \"\"\"Icon to use in the frontend, if any.\"\"\"\n",
    "        return self.ICON\n",
    "\n",
    "    @property\n",
    "    def device_state_attributes(self):\n",
    "        \"\"\"Return other details about the sensor state.\"\"\"\n",
    "        attrs = {}  # {'attribution': 'Data provided by transportapi.com'}\n",
    "        attrs['Description'] = self._description # if there is data, append\n",
    "        return attrs\n",
    "\n",
    "    def update(self):\n",
    "        \"\"\"Perform an API request and update the sensor.\"\"\"\n",
    "        response = requests.get(self._url.format(self._name.lower()))    # make a request\n",
    "\n",
    "        if response.status_code != 200:\n",
    "            #_LOGGER.warning(\"Invalid response from API\")\n",
    "            print(\"Invalid response from API\")\n",
    "\n",
    "        else:\n",
    "            self._data = response.json()[0]['lineStatuses']   # convert to json and get statuses list\n",
    "            statuses = [status['statusSeverityDescription'] for status in self._data]   # get all statuses on a line\n",
    "\n",
    "            if 'Good Service' in statuses:   # if good status, this is the only status returned\n",
    "                self._state = 'Good Service'\n",
    "                self._description = 'Nothing to report'\n",
    "            else:\n",
    "                self._state = ' + '.join(sorted(set(statuses)))   # get the unique statuses and join\n",
    "                self._description = [status['reason'] for status in self._data] # get the reasons"
   ]
  },
  {
   "cell_type": "markdown",
   "metadata": {},
   "source": [
    "## Unit test the class\n",
    "Edge cases: good service and bad.\n",
    "Sometimes state is reverse order"
   ]
  },
  {
   "cell_type": "code",
   "execution_count": 16,
   "metadata": {
    "collapsed": false
   },
   "outputs": [
    {
     "name": "stderr",
     "output_type": "stream",
     "text": [
      "test_of_good_description (__main__.TestLondonTubeSensor) ... ok\n",
      "test_of_good_state (__main__.TestLondonTubeSensor) ... ok\n",
      "\n",
      "----------------------------------------------------------------------\n",
      "Ran 2 tests in 0.001s\n",
      "\n",
      "OK\n"
     ]
    },
    {
     "data": {
      "text/plain": [
       "<unittest.main.TestProgram at 0x104e92588>"
      ]
     },
     "execution_count": 16,
     "metadata": {},
     "output_type": "execute_result"
    }
   ],
   "source": [
    "## Mock data\n",
    "with requests_mock.mock() as m:\n",
    "    url = 'https://api.tfl.gov.uk/line/bakerloo/status'\n",
    "    m.get(url, text=open('bakerloo.json').read())\n",
    "    sensor = LondonTubeSensor('Bakerloo')\n",
    "    sensor.update()\n",
    "\n",
    "class TestLondonTubeSensor(unittest.TestCase):\n",
    "\n",
    "    def test_of_good_state(self):\n",
    "        self.assertEqual(sensor.state,'Good Service')\n",
    "        \n",
    "    def test_of_good_description(self):    \n",
    "        self.assertEqual(sensor._description, 'Nothing to report')\n",
    "\n",
    "        \n",
    "unittest.main(argv=['ignored', '-v'], exit=False)"
   ]
  },
  {
   "cell_type": "code",
   "execution_count": 18,
   "metadata": {
    "collapsed": false
   },
   "outputs": [
    {
     "name": "stderr",
     "output_type": "stream",
     "text": [
      "test_of_bad_description (__main__.TestLondonTubeSensor) ... ok\n",
      "test_of_bad_state (__main__.TestLondonTubeSensor) ... ok\n",
      "\n",
      "----------------------------------------------------------------------\n",
      "Ran 2 tests in 0.002s\n",
      "\n",
      "OK\n"
     ]
    },
    {
     "data": {
      "text/plain": [
       "<unittest.main.TestProgram at 0x104480198>"
      ]
     },
     "execution_count": 18,
     "metadata": {},
     "output_type": "execute_result"
    }
   ],
   "source": [
    "## Mock data\n",
    "with requests_mock.mock() as m:\n",
    "    url = 'https://api.tfl.gov.uk/line/hammersmith-city/status'\n",
    "    m.get(url, text=open('hammersmith-city.json').read())\n",
    "    sensor = LondonTubeSensor('Hammersmith-city')\n",
    "    sensor.update()\n",
    "\n",
    "class TestLondonTubeSensor(unittest.TestCase):\n",
    "\n",
    "    def test_of_bad_state(self):\n",
    "        self.assertEqual(sensor.state,'Minor Delays + Part Closure')  # Sometimes comes out in other order\n",
    "        \n",
    "    def test_of_bad_description(self):    \n",
    "        self.assertEqual(sensor._description, ['Ongoing investigations by Rob', 'More investigations'])\n",
    "\n",
    "        \n",
    "unittest.main(argv=['ignored', '-v'], exit=False)"
   ]
  },
  {
   "cell_type": "code",
   "execution_count": null,
   "metadata": {
    "collapsed": true
   },
   "outputs": [],
   "source": []
  }
 ],
 "metadata": {
  "anaconda-cloud": {},
  "kernelspec": {
   "display_name": "Python [conda root]",
   "language": "python",
   "name": "conda-root-py"
  },
  "language_info": {
   "codemirror_mode": {
    "name": "ipython",
    "version": 3
   },
   "file_extension": ".py",
   "mimetype": "text/x-python",
   "name": "python",
   "nbconvert_exporter": "python",
   "pygments_lexer": "ipython3",
   "version": "3.5.2"
  }
 },
 "nbformat": 4,
 "nbformat_minor": 1
}
