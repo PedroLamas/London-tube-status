{
 "cells": [
  {
   "cell_type": "markdown",
   "metadata": {},
   "source": [
    "Check the status of tube lines\n",
    "\n",
    "http://docs.python-requests.org/en/master/\n",
    "\n",
    "http://docs.python-requests.org/en/master/user/quickstart/#make-a-request Tutorial\n",
    "\n",
    "https://github.com/timcnicholls/transport_api_demo/blob/master/harwell_wantage_bus.py\n",
    "\n",
    "23-6 Removed Goodness attribute as just duplicates state"
   ]
  },
  {
   "cell_type": "code",
   "execution_count": 17,
   "metadata": {
    "collapsed": true
   },
   "outputs": [],
   "source": [
    "import requests\n",
    "import requests_mock\n",
    "import json\n",
    "import pprint\n",
    "import unittest\n",
    "import sys"
   ]
  },
  {
   "cell_type": "code",
   "execution_count": 2,
   "metadata": {
    "collapsed": true
   },
   "outputs": [],
   "source": [
    "def print_json(json_data):\n",
    "    pprint.PrettyPrinter().pprint(json_data)"
   ]
  },
  {
   "cell_type": "code",
   "execution_count": 3,
   "metadata": {
    "collapsed": false
   },
   "outputs": [],
   "source": [
    "lines = ['bakerloo',\n",
    " 'central',\n",
    " 'circle',\n",
    " 'district',\n",
    " 'hammersmith-city',\n",
    " 'jubilee',\n",
    " 'metropolitan',\n",
    " 'northern',\n",
    " 'piccadilly',\n",
    " 'victoria',\n",
    " 'waterloo-city']"
   ]
  },
  {
   "cell_type": "code",
   "execution_count": 18,
   "metadata": {
    "collapsed": false
   },
   "outputs": [
    {
     "name": "stdout",
     "output_type": "stream",
     "text": [
      "Tube requests 24-6-2017.ipynb  circle.json\r\n"
     ]
    }
   ],
   "source": [
    "ls"
   ]
  },
  {
   "cell_type": "markdown",
   "metadata": {},
   "source": [
    "# Basic function of API"
   ]
  },
  {
   "cell_type": "code",
   "execution_count": 49,
   "metadata": {
    "collapsed": false
   },
   "outputs": [],
   "source": [
    "url = 'https://api.tfl.gov.uk/line/{}/status'.format('hammersmith-city')\n",
    "response = requests.get(url)  # get the response object\n",
    "filename = 'hammersmith-city.json'\n",
    "\n",
    "with open(filename, 'wb') as fd:                 # write the response to file. Can format the .json file but no blank lines allowed \n",
    "    for chunk in response.iter_content(chunk_size=128):\n",
    "        fd.write(chunk)\n",
    "\n",
    "data = response.json()[0]['lineStatuses']       # data is a list of statuses on the line\n",
    "#print_json(data)"
   ]
  },
  {
   "cell_type": "code",
   "execution_count": 50,
   "metadata": {
    "collapsed": false
   },
   "outputs": [
    {
     "data": {
      "text/plain": [
       "['Part Closure', 'Minor Delays']"
      ]
     },
     "execution_count": 50,
     "metadata": {},
     "output_type": "execute_result"
    }
   ],
   "source": [
    "statuses = [status['statusSeverityDescription'] for status in data]\n",
    "statuses"
   ]
  },
  {
   "cell_type": "markdown",
   "metadata": {},
   "source": [
    "## Get list of statuses\n",
    "Statuses is a list of statuses on a line"
   ]
  },
  {
   "cell_type": "code",
   "execution_count": 46,
   "metadata": {
    "collapsed": false
   },
   "outputs": [
    {
     "data": {
      "text/plain": [
       "['Part Closure', 'Minor Delays']"
      ]
     },
     "execution_count": 46,
     "metadata": {},
     "output_type": "execute_result"
    }
   ],
   "source": [
    "def get_statuses(data):\n",
    "    \"\"\"Get a list of all statuses on a line.\"\"\"\n",
    "    return [status['statusSeverityDescription'] for status in data]\n",
    "\n",
    "get_statuses(data)"
   ]
  },
  {
   "cell_type": "markdown",
   "metadata": {},
   "source": [
    "# Get state\n",
    "State is a string capturing the overall state of a line. Return 'Good status' if good, else a string of individual states seperated with a +"
   ]
  },
  {
   "cell_type": "code",
   "execution_count": 7,
   "metadata": {
    "collapsed": false
   },
   "outputs": [
    {
     "data": {
      "text/plain": [
       "'Minor Delays + Part Closure'"
      ]
     },
     "execution_count": 7,
     "metadata": {},
     "output_type": "execute_result"
    }
   ],
   "source": [
    "def get_state(statuses):\n",
    "    \"\"\"Return the overall state of a line.\"\"\"\n",
    "    if 'Good Service' in statuses:   # if good status, this is the only status returned\n",
    "        return 'Good Service'\n",
    "    else:\n",
    "        return ' + '.join(set(statuses)) \n",
    "\n",
    "get_state(['Part Closure', 'Minor Delays'])"
   ]
  },
  {
   "cell_type": "markdown",
   "metadata": {},
   "source": [
    "# Get description\n",
    "Return the list of reasons for the not good state"
   ]
  },
  {
   "cell_type": "code",
   "execution_count": 8,
   "metadata": {
    "collapsed": false
   },
   "outputs": [],
   "source": [
    "def get_description(state, data):\n",
    "    \"\"\"Return a description of the resons for the state of a line.\"\"\"\n",
    "    if state == 'Good service':   # if good status, this is the only status returned\n",
    "        return ['Nothing to report']\n",
    "    else:\n",
    "        return [status['reason'] for status in data]"
   ]
  },
  {
   "cell_type": "markdown",
   "metadata": {},
   "source": [
    "## Mock a request\n",
    "Using a response saved in a .json file"
   ]
  },
  {
   "cell_type": "code",
   "execution_count": 51,
   "metadata": {
    "collapsed": false
   },
   "outputs": [
    {
     "data": {
      "text/plain": [
       "['Part Closure', 'Minor Delays']"
      ]
     },
     "execution_count": 51,
     "metadata": {},
     "output_type": "execute_result"
    }
   ],
   "source": [
    "url = 'https://api.tfl.gov.uk/line/hammersmith-city/status'\n",
    "\n",
    "with requests_mock.mock() as m:\n",
    "    m.get(url, text=open('hammersmith-city.json').read())\n",
    "    response = requests.get(url)\n",
    "\n",
    "data = response.json()[0]['lineStatuses']\n",
    "statuses = [status['statusSeverityDescription'] for status in data]\n",
    "statuses"
   ]
  },
  {
   "cell_type": "markdown",
   "metadata": {},
   "source": [
    "## Create unittests"
   ]
  },
  {
   "cell_type": "code",
   "execution_count": 9,
   "metadata": {
    "collapsed": false
   },
   "outputs": [
    {
     "name": "stderr",
     "output_type": "stream",
     "text": [
      "test_of_get_description (__main__.TestStatus) ... ok\n",
      "test_of_get_state (__main__.TestStatus) ... FAIL\n",
      "test_of_get_statuses (__main__.TestStatus) ... ok\n",
      "\n",
      "======================================================================\n",
      "FAIL: test_of_get_state (__main__.TestStatus)\n",
      "----------------------------------------------------------------------\n",
      "Traceback (most recent call last):\n",
      "  File \"<ipython-input-9-109c9e41b234>\", line 17, in test_of_get_state\n",
      "    self.assertEqual(get_state(mock_bad_statuses), 'Part Closure + Minor Delays')\n",
      "AssertionError: 'Minor Delays + Part Closure' != 'Part Closure + Minor Delays'\n",
      "- Minor Delays + Part Closure\n",
      "+ Part Closure + Minor Delays\n",
      "\n",
      "\n",
      "----------------------------------------------------------------------\n",
      "Ran 3 tests in 0.003s\n",
      "\n",
      "FAILED (failures=1)\n"
     ]
    },
    {
     "data": {
      "text/plain": [
       "<unittest.main.TestProgram at 0x104eac748>"
      ]
     },
     "execution_count": 9,
     "metadata": {},
     "output_type": "execute_result"
    }
   ],
   "source": [
    "## Mock data\n",
    "mock_good_data = [{'statusSeverityDescription':'Good Service'}]\n",
    "\n",
    "mock_bad_data = [{'statusSeverityDescription':'Part Closure', \n",
    "                                     'reason': 'investigations'},\n",
    "                 {'statusSeverityDescription':'Minor Delays', \n",
    "                                     'reason': 'leaves'}]\n",
    "\n",
    "mock_bad_statuses = ['Part Closure', 'Minor Delays']\n",
    "\n",
    "class TestStatus(unittest.TestCase):\n",
    "    def test_of_get_statuses(self):\n",
    "        self.assertEqual(get_statuses(mock_good_data), ['Good Service'])\n",
    "        self.assertEqual(get_statuses(mock_bad_data), mock_bad_statuses)\n",
    "        \n",
    "    def test_of_get_state(self):\n",
    "        self.assertEqual(get_state(mock_bad_statuses), 'Part Closure + Minor Delays')\n",
    "        \n",
    "    def test_of_get_description(self):\n",
    "        self.assertEqual(get_description('Good service', mock_good_data), ['Nothing to report'])\n",
    "        self.assertEqual(get_description(mock_bad_statuses, mock_bad_data), ['investigations', 'leaves'])\n",
    "        \n",
    "unittest.main(argv=['ignored', '-v'], exit=False)"
   ]
  },
  {
   "cell_type": "markdown",
   "metadata": {},
   "source": [
    "# Create tube class"
   ]
  },
  {
   "cell_type": "markdown",
   "metadata": {},
   "source": [
    "Wrap in a class with a method for updating and another for returning line of interest. Follow https://github.com/timcnicholls/home-assistant/blob/transport-api/homeassistant/components/sensor/uk_transport.py"
   ]
  },
  {
   "cell_type": "code",
   "execution_count": 10,
   "metadata": {
    "collapsed": false
   },
   "outputs": [],
   "source": [
    "class LondonTubeSensor():    # Entity\n",
    "    \"\"\"\n",
    "    Sensor that reads the status of a tube lines using the TFL API.\n",
    "    \"\"\"\n",
    "    API_URL_BASE = \"https://api.tfl.gov.uk/line/{}/status\"\n",
    "    ICON = 'mdi:subway'\n",
    "\n",
    "    def __init__(self, name):\n",
    "        \"\"\"Initialize the sensor.\"\"\"\n",
    "        self._name = name             # the name of the line from the allowed list\n",
    "        self._data = {}\n",
    "        self._url = self.API_URL_BASE\n",
    "        self._state = 'Updating'\n",
    "        self._statuses = []\n",
    "        self._description = ['Updating']\n",
    "\n",
    "    @property\n",
    "    def name(self):\n",
    "        \"\"\"Return the line name of the sensor.\"\"\"\n",
    "        return self._name\n",
    "\n",
    "    @property\n",
    "    def state(self):\n",
    "        \"\"\"Return the state of the sensor.\"\"\"\n",
    "        return self._state\n",
    "\n",
    "    @property\n",
    "    def icon(self):\n",
    "        \"\"\"Icon to use in the frontend, if any.\"\"\"\n",
    "        return self.ICON\n",
    "\n",
    "    #@property\n",
    "    #def unit_of_measurement(self):    # Do I need?\n",
    "    #    \"\"\"Return the unit this state is expressed in.\"\"\"\n",
    "    #    return \"\"\n",
    "\n",
    "    @property\n",
    "    def device_state_attributes(self):\n",
    "        \"\"\"Return other details about the sensor state.\"\"\"\n",
    "        attrs = {}  # {'attribution': 'Data provided by transportapi.com'}\n",
    "        attrs['Statuses'] = self._statuses # if there is data, append\n",
    "        attrs['Description'] = self._description # if there is data, append\n",
    "        return attrs\n",
    "\n",
    "    def update(self):\n",
    "        \"\"\"Perform an API request and update the sensor.\"\"\"\n",
    "        response = requests.get(self._url.format(self._name.lower()))    # make a request\n",
    "\n",
    "        if response.status_code != 200:\n",
    "            #_LOGGER.warning(\"Invalid response from API\")\n",
    "            print(\"Invalid response from API\")\n",
    "\n",
    "        else:\n",
    "            self._data = response.json()[0]['lineStatuses']   # convert to json and get statuses list\n",
    "            self._statuses = [status['statusSeverityDescription'] for status in self._data]\n",
    "\n",
    "            if 'Good Service' in self._statuses:   # if good status, this is the only status returned\n",
    "                self._state = 'Good Service'\n",
    "                self._description = 'Nothing to report'\n",
    "            else:\n",
    "                self._state = ' + '.join(set(self._statuses))   # get the unique statuses and join\n",
    "                self._description = [status['reason'] for status in self._data] # get the reasons\n"
   ]
  },
  {
   "cell_type": "code",
   "execution_count": 15,
   "metadata": {
    "collapsed": false
   },
   "outputs": [
    {
     "data": {
      "text/plain": [
       "'Good Service'"
      ]
     },
     "execution_count": 15,
     "metadata": {},
     "output_type": "execute_result"
    }
   ],
   "source": [
    "Bakerloo_sensor = LondonTubeSensor('Bakerloo')\n",
    "Bakerloo_sensor.update()\n",
    "Bakerloo_sensor._state"
   ]
  },
  {
   "cell_type": "code",
   "execution_count": 16,
   "metadata": {
    "collapsed": false
   },
   "outputs": [
    {
     "data": {
      "text/plain": [
       "'Part Closure'"
      ]
     },
     "execution_count": 16,
     "metadata": {},
     "output_type": "execute_result"
    }
   ],
   "source": [
    "Circle_sensor = LondonTubeSensor('Circle')\n",
    "Circle_sensor.update()\n",
    "Circle_sensor._state"
   ]
  }
 ],
 "metadata": {
  "anaconda-cloud": {},
  "kernelspec": {
   "display_name": "Python [conda root]",
   "language": "python",
   "name": "conda-root-py"
  },
  "language_info": {
   "codemirror_mode": {
    "name": "ipython",
    "version": 3
   },
   "file_extension": ".py",
   "mimetype": "text/x-python",
   "name": "python",
   "nbconvert_exporter": "python",
   "pygments_lexer": "ipython3",
   "version": "3.5.2"
  }
 },
 "nbformat": 4,
 "nbformat_minor": 1
}
