{
 "cells": [
  {
   "cell_type": "markdown",
   "metadata": {},
   "source": [
    "Check the status of tube lines\n",
    "\n",
    "http://docs.python-requests.org/en/master/\n",
    "\n",
    "http://docs.python-requests.org/en/master/user/quickstart/#make-a-request Tutorial\n",
    "\n",
    "https://github.com/timcnicholls/transport_api_demo/blob/master/harwell_wantage_bus.py"
   ]
  },
  {
   "cell_type": "code",
   "execution_count": 1,
   "metadata": {
    "collapsed": true
   },
   "outputs": [],
   "source": [
    "import requests\n",
    "import json\n",
    "import pprint\n",
    "import unittest\n",
    "import sys"
   ]
  },
  {
   "cell_type": "code",
   "execution_count": 2,
   "metadata": {
    "collapsed": true
   },
   "outputs": [],
   "source": [
    "def print_json(json_data):\n",
    "    pprint.PrettyPrinter().pprint(json_data)"
   ]
  },
  {
   "cell_type": "code",
   "execution_count": 3,
   "metadata": {
    "collapsed": false
   },
   "outputs": [],
   "source": [
    "lines = ['bakerloo',\n",
    " 'central',\n",
    " 'circle',\n",
    " 'district',\n",
    " 'hammersmith-city',\n",
    " 'jubilee',\n",
    " 'metropolitan',\n",
    " 'northern',\n",
    " 'piccadilly',\n",
    " 'victoria',\n",
    " 'waterloo-city']"
   ]
  },
  {
   "cell_type": "markdown",
   "metadata": {},
   "source": [
    "## Get a good status"
   ]
  },
  {
   "cell_type": "code",
   "execution_count": 4,
   "metadata": {
    "collapsed": false
   },
   "outputs": [
    {
     "name": "stdout",
     "output_type": "stream",
     "text": [
      "bakerloo\n",
      "[{'$type': 'Tfl.Api.Presentation.Entities.LineStatus, '\n",
      "           'Tfl.Api.Presentation.Entities',\n",
      "  'created': '0001-01-01T00:00:00',\n",
      "  'id': 0,\n",
      "  'statusSeverity': 10,\n",
      "  'statusSeverityDescription': 'Good Service',\n",
      "  'validityPeriods': []}]\n"
     ]
    }
   ],
   "source": [
    "lin_num = 0 \n",
    "print(lines[lin_num])\n",
    "\n",
    "url = 'https://api.tfl.gov.uk/line/{}/status'.format(lines[lin_num])\n",
    "response = requests.get(url)  # get the response object\n",
    "\n",
    "bakerloo_data = response.json()[0]['lineStatuses']       # data is a list of statuses on the line\n",
    "print_json(bakerloo_data)"
   ]
  },
  {
   "cell_type": "code",
   "execution_count": 5,
   "metadata": {
    "collapsed": false
   },
   "outputs": [
    {
     "data": {
      "text/plain": [
       "['Good Service']"
      ]
     },
     "execution_count": 5,
     "metadata": {},
     "output_type": "execute_result"
    }
   ],
   "source": [
    "statuses = [status['statusSeverityDescription'] for status in bakerloo_data]\n",
    "statuses"
   ]
  },
  {
   "cell_type": "code",
   "execution_count": 6,
   "metadata": {
    "collapsed": false
   },
   "outputs": [
    {
     "data": {
      "text/plain": [
       "['Good Service']"
      ]
     },
     "execution_count": 6,
     "metadata": {},
     "output_type": "execute_result"
    }
   ],
   "source": [
    "def get_statuses(data):\n",
    "    return [status['statusSeverityDescription'] for status in data]\n",
    "\n",
    "get_statuses(bakerloo_data)"
   ]
  },
  {
   "cell_type": "code",
   "execution_count": 7,
   "metadata": {
    "collapsed": false
   },
   "outputs": [],
   "source": [
    "mock_good_service = [{'statusSeverityDescription':'Good Service'}]"
   ]
  },
  {
   "cell_type": "markdown",
   "metadata": {},
   "source": [
    "Unittest get_good()"
   ]
  },
  {
   "cell_type": "markdown",
   "metadata": {},
   "source": [
    "## Get not good status\n",
    "If not a good status, we get a list of statuses and their reasons"
   ]
  },
  {
   "cell_type": "code",
   "execution_count": 11,
   "metadata": {
    "collapsed": false
   },
   "outputs": [
    {
     "name": "stdout",
     "output_type": "stream",
     "text": [
      "[{'$type': 'Tfl.Api.Presentation.Entities.LineStatus, '\n",
      "           'Tfl.Api.Presentation.Entities',\n",
      "  'created': '0001-01-01T00:00:00',\n",
      "  'disruption': {'$type': 'Tfl.Api.Presentation.Entities.Disruption, '\n",
      "                          'Tfl.Api.Presentation.Entities',\n",
      "                 'additionalInfo': 'For the latest updates and for help '\n",
      "                                   'planning your journey follow us on '\n",
      "                                   'Twitter\\xa0<a '\n",
      "                                   'href=\"https://twitter.com/circleline\">@circleline</a> '\n",
      "                                   'and\\xa0<a '\n",
      "                                   'href=\"https://twitter.com/hamandcityline/\">@hamandcityline</a> '\n",
      "                                   'or call us on 0343 222 1234.',\n",
      "                 'affectedRoutes': [],\n",
      "                 'affectedStops': [],\n",
      "                 'category': 'RealTime',\n",
      "                 'categoryDescription': 'RealTime',\n",
      "                 'closureText': 'partClosure',\n",
      "                 'created': '2017-06-20T01:55:00Z',\n",
      "                 'description': 'Circle and Hammersmith & City lines - due to '\n",
      "                                'ongoing investigations at the site of the '\n",
      "                                'building fire near Latimer Road, the Circle '\n",
      "                                'and Hammersmith & City lines are suspended '\n",
      "                                'between Wood Lane and Edgware Road until '\n",
      "                                'further notice.\\r\\n'\n",
      "                                '<P>\\r\\n'\n",
      "                                'Trains will operate between Hammersmith and '\n",
      "                                'Wood Lane approximately every 15 minutes. '\n",
      "                                'Tickets are being accepted on local buses. '\n",
      "                                'Please check here for the latest information '\n",
      "                                'before you travel.\\r\\n'\n",
      "                                '</P>',\n",
      "                 'isBlocking': True},\n",
      "  'id': 0,\n",
      "  'lineId': 'circle',\n",
      "  'reason': 'Circle and Hammersmith & City lines - due to ongoing '\n",
      "            'investigations at the site of the building fire near Latimer '\n",
      "            'Road, the Circle and Hammersmith & City lines are suspended '\n",
      "            'between Wood Lane and Edgware Road until further notice.\\r\\n'\n",
      "            '<P>\\r\\n'\n",
      "            'Trains will operate between Hammersmith and Wood Lane '\n",
      "            'approximately every 15 minutes. Tickets are being accepted on '\n",
      "            'local buses. Please check here for the latest information before '\n",
      "            'you travel.\\r\\n'\n",
      "            '</P>',\n",
      "  'statusSeverity': 5,\n",
      "  'statusSeverityDescription': 'Part Closure',\n",
      "  'validityPeriods': [{'$type': 'Tfl.Api.Presentation.Entities.ValidityPeriod, '\n",
      "                                'Tfl.Api.Presentation.Entities',\n",
      "                       'fromDate': '2017-06-22T04:30:00Z',\n",
      "                       'isNow': True,\n",
      "                       'toDate': '2017-06-22T23:59:00Z'}]}]\n"
     ]
    }
   ],
   "source": [
    "lin_num = 2   # Circle is bad today\n",
    "url2 = 'https://api.tfl.gov.uk/line/{}/status'.format(lines[lin_num])\n",
    "response2 = requests.get(url2)  # get the response object\n",
    "\n",
    "circle_data = response2.json()[0]['lineStatuses'] \n",
    "print_json(circle_data)"
   ]
  },
  {
   "cell_type": "code",
   "execution_count": 12,
   "metadata": {
    "collapsed": false
   },
   "outputs": [
    {
     "data": {
      "text/plain": [
       "['Part Closure']"
      ]
     },
     "execution_count": 12,
     "metadata": {},
     "output_type": "execute_result"
    }
   ],
   "source": [
    "get_statuses(circle_data)"
   ]
  },
  {
   "cell_type": "code",
   "execution_count": 16,
   "metadata": {
    "collapsed": false
   },
   "outputs": [
    {
     "data": {
      "text/plain": [
       "['Circle and Hammersmith & City lines - due to ongoing investigations at the site of the building fire near Latimer Road, the Circle and Hammersmith & City lines are suspended between Wood Lane and Edgware Road until further notice.\\r\\n<P>\\r\\nTrains will operate between Hammersmith and Wood Lane approximately every 15 minutes. Tickets are being accepted on local buses. Please check here for the latest information before you travel.\\r\\n</P>']"
      ]
     },
     "execution_count": 16,
     "metadata": {},
     "output_type": "execute_result"
    }
   ],
   "source": [
    "def get_reasons(data):\n",
    "    return [status['reason'] for status in data]\n",
    "\n",
    "get_reasons(circle_data)"
   ]
  },
  {
   "cell_type": "code",
   "execution_count": 17,
   "metadata": {
    "collapsed": true
   },
   "outputs": [],
   "source": [
    "mock_bad_service = [{'statusSeverityDescription':'Part Closure', \n",
    "                                        'reason': 'ongoing investigations'}]"
   ]
  },
  {
   "cell_type": "code",
   "execution_count": 18,
   "metadata": {
    "collapsed": false
   },
   "outputs": [
    {
     "data": {
      "text/plain": [
       "['ongoing investigations']"
      ]
     },
     "execution_count": 18,
     "metadata": {},
     "output_type": "execute_result"
    }
   ],
   "source": [
    "get_reasons(mock_bad_service)"
   ]
  },
  {
   "cell_type": "markdown",
   "metadata": {},
   "source": [
    "## Get multiple statuses"
   ]
  },
  {
   "cell_type": "markdown",
   "metadata": {},
   "source": [
    "Can have more than one status, including Part Closure, Part Suspended and Minor Delays "
   ]
  },
  {
   "cell_type": "code",
   "execution_count": 19,
   "metadata": {
    "collapsed": true
   },
   "outputs": [],
   "source": [
    "mock_multiple_service = [{'statusSeverityDescription':'Part Closure', \n",
    "                                             'reason': 'ongoing investigations'},\n",
    "                         {'statusSeverityDescription':'Minor Delays', \n",
    "                                             'reason': 'leaves on the line'}\n",
    "                        ]"
   ]
  },
  {
   "cell_type": "code",
   "execution_count": 20,
   "metadata": {
    "collapsed": false
   },
   "outputs": [
    {
     "data": {
      "text/plain": [
       "['Part Closure', 'Minor Delays']"
      ]
     },
     "execution_count": 20,
     "metadata": {},
     "output_type": "execute_result"
    }
   ],
   "source": [
    "get_statuses(mock_multiple_service)"
   ]
  },
  {
   "cell_type": "code",
   "execution_count": 21,
   "metadata": {
    "collapsed": false
   },
   "outputs": [
    {
     "data": {
      "text/plain": [
       "['ongoing investigations', 'leaves on the line']"
      ]
     },
     "execution_count": 21,
     "metadata": {},
     "output_type": "execute_result"
    }
   ],
   "source": [
    "get_reasons(mock_multiple_service)"
   ]
  },
  {
   "cell_type": "markdown",
   "metadata": {},
   "source": [
    "## Create unittests"
   ]
  },
  {
   "cell_type": "code",
   "execution_count": 23,
   "metadata": {
    "collapsed": false
   },
   "outputs": [
    {
     "name": "stderr",
     "output_type": "stream",
     "text": [
      "test_of_get_reasons (__main__.TestStatus) ... ok\n",
      "test_of_get_statuses (__main__.TestStatus) ... ok\n",
      "\n",
      "----------------------------------------------------------------------\n",
      "Ran 2 tests in 0.003s\n",
      "\n",
      "OK\n"
     ]
    },
    {
     "data": {
      "text/plain": [
       "<unittest.main.TestProgram at 0x1070e8908>"
      ]
     },
     "execution_count": 23,
     "metadata": {},
     "output_type": "execute_result"
    }
   ],
   "source": [
    "class TestStatus(unittest.TestCase):\n",
    "    # Create the unit test\n",
    "    def test_of_get_statuses(self):\n",
    "        # Test if mock good is OK\n",
    "        self.assertEqual(get_statuses(mock_multiple_service), ['Part Closure', 'Minor Delays'])\n",
    "    def test_of_get_reasons(self):\n",
    "        # Test if mock good is OK\n",
    "        self.assertEqual(get_reasons(mock_multiple_service), ['ongoing investigations', 'leaves on the line'])\n",
    "\n",
    "unittest.main(argv=['ignored', '-v'], exit=False)"
   ]
  },
  {
   "cell_type": "markdown",
   "metadata": {},
   "source": [
    "# Create tube class"
   ]
  },
  {
   "cell_type": "markdown",
   "metadata": {},
   "source": [
    "Wrap in a class with a method for updating and another for returning line of interest. Follow https://github.com/timcnicholls/home-assistant/blob/transport-api/homeassistant/components/sensor/uk_transport.py"
   ]
  },
  {
   "cell_type": "code",
   "execution_count": null,
   "metadata": {
    "collapsed": false
   },
   "outputs": [],
   "source": [
    "class LondonTubeSensor():    # Entity\n",
    "    \"\"\"\n",
    "    Sensor that reads the status of a tube lines using the TFL API.\n",
    "    \"\"\"\n",
    "\n",
    "    API_URL_BASE = \"https://api.tfl.gov.uk/line/{}/status\"\n",
    "    ICON = 'mdi:subway'\n",
    "\n",
    "    def __init__(self, line):\n",
    "        \"\"\"Initialize the sensor.\"\"\"\n",
    "        self._data = {}\n",
    "        self._url = self.API_URL_BASE\n",
    "        self._line = line\n",
    "        self._state = 'Updating'\n",
    "        self._statuses = []\n",
    "        self._goodness = False\n",
    "        self._description = 'Updating'\n",
    "\n",
    "    @property\n",
    "    def name(self):\n",
    "        \"\"\"Return the line name of the sensor.\"\"\"\n",
    "        return self._line\n",
    "\n",
    "    @property\n",
    "    def state(self):\n",
    "        \"\"\"Return the state of the sensor.\"\"\"\n",
    "        return self._state\n",
    "\n",
    "    @property\n",
    "    def icon(self):\n",
    "        \"\"\"Icon to use in the frontend, if any.\"\"\"\n",
    "        return self.ICON\n",
    "\n",
    "    @property\n",
    "    def unit_of_measurement(self):    # Do I need?\n",
    "        \"\"\"Return the unit this state is expressed in.\"\"\"\n",
    "        return \"\"\n",
    "\n",
    "    def update(self):\n",
    "        \"\"\"Perform an API request.\"\"\"\n",
    "\n",
    "        try:\n",
    "            response = requests.get(self._url.format(self._line.lower()))\n",
    "            response.raise_for_status()\n",
    "            self._data = response.json()[0]['lineStatuses']   # convert to json and get statuses list\n",
    "            self._statuses = [status['statusSeverityDescription'] for status in self._data]\n",
    "\n",
    "            if 'Good Service' in self._statuses:   # if good status, this is the only status returned\n",
    "                self._state = 'Good Service'\n",
    "                self._goodness = True              # convenience attribute to detect good service\n",
    "                self._description = 'Nothing to report'\n",
    "            else:\n",
    "                self._state = ' + '.join(set(self._statuses))   # get the unique statuses and join\n",
    "                self._goodness = False\n",
    "                self._description = [status['reason'] for status in self._data] # get the reasons\n",
    "\n",
    "        except requests.RequestException as req_exc:\n",
    "            print(\n",
    "                'Invalid response from API: %s', req_exc\n",
    "            )\n",
    "\n",
    "    @property\n",
    "    def device_state_attributes(self):\n",
    "        \"\"\"Return other details about the sensor state.\"\"\"\n",
    "        attrs = {}  # {'attribution': 'Data provided by transportapi.com'}\n",
    "        attrs['Goodness'] = self._goodness # if there is data, append\n",
    "        attrs['Statuses'] = self._statuses # if there is data, append\n",
    "        attrs['Description'] = self._description # if there is data, append\n",
    "        return attrs\n"
   ]
  },
  {
   "cell_type": "code",
   "execution_count": null,
   "metadata": {
    "collapsed": false
   },
   "outputs": [],
   "source": [
    "bakerloo_sensor = LondonTubeSensor('Bakerloo')\n",
    "circle_sensor = LondonTubeSensor('Circle')"
   ]
  },
  {
   "cell_type": "code",
   "execution_count": null,
   "metadata": {
    "collapsed": false
   },
   "outputs": [],
   "source": [
    "circle_sensor.update()\n",
    "print(circle_sensor.state)\n",
    "print(circle_sensor._statuses)\n",
    "print(circle_sensor._description)"
   ]
  },
  {
   "cell_type": "code",
   "execution_count": null,
   "metadata": {
    "collapsed": false
   },
   "outputs": [],
   "source": [
    "circle_sensor._data"
   ]
  },
  {
   "cell_type": "code",
   "execution_count": null,
   "metadata": {
    "collapsed": false
   },
   "outputs": [],
   "source": [
    "len(circle_sensor._description)"
   ]
  },
  {
   "cell_type": "code",
   "execution_count": null,
   "metadata": {
    "collapsed": false
   },
   "outputs": [],
   "source": [
    "circle_sensor._statuses"
   ]
  },
  {
   "cell_type": "code",
   "execution_count": null,
   "metadata": {
    "collapsed": false
   },
   "outputs": [],
   "source": [
    "bakerloo_sensor.update()\n",
    "print(bakerloo_sensor._statuses)"
   ]
  },
  {
   "cell_type": "code",
   "execution_count": null,
   "metadata": {
    "collapsed": false
   },
   "outputs": [],
   "source": [
    "len(circle_sensor._data[0])"
   ]
  },
  {
   "cell_type": "code",
   "execution_count": null,
   "metadata": {
    "collapsed": false
   },
   "outputs": [],
   "source": [
    "len(circle_sensor._data[0]['lineStatuses'])"
   ]
  },
  {
   "cell_type": "code",
   "execution_count": null,
   "metadata": {
    "collapsed": false
   },
   "outputs": [],
   "source": [
    "hammer_sensor = LondonTubeSensor('Hammersmith-City')\n",
    "hammer_sensor.update()\n",
    "hammer_sensor.state"
   ]
  },
  {
   "cell_type": "code",
   "execution_count": null,
   "metadata": {
    "collapsed": false
   },
   "outputs": [],
   "source": [
    "response = requests.get('https://api.tfl.gov.uk/line/bakerloo/status').json()\n",
    "response"
   ]
  },
  {
   "cell_type": "code",
   "execution_count": null,
   "metadata": {
    "collapsed": false
   },
   "outputs": [],
   "source": [
    "bakerloo_sensor.name"
   ]
  }
 ],
 "metadata": {
  "anaconda-cloud": {},
  "kernelspec": {
   "display_name": "Python [conda root]",
   "language": "python",
   "name": "conda-root-py"
  },
  "language_info": {
   "codemirror_mode": {
    "name": "ipython",
    "version": 3
   },
   "file_extension": ".py",
   "mimetype": "text/x-python",
   "name": "python",
   "nbconvert_exporter": "python",
   "pygments_lexer": "ipython3",
   "version": "3.5.2"
  }
 },
 "nbformat": 4,
 "nbformat_minor": 1
}
