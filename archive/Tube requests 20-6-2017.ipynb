{
 "cells": [
  {
   "cell_type": "markdown",
   "metadata": {},
   "source": [
    "Check the status of tube lines\n",
    "\n",
    "http://docs.python-requests.org/en/master/\n",
    "\n",
    "http://docs.python-requests.org/en/master/user/quickstart/#make-a-request Tutorial\n",
    "\n",
    "https://github.com/timcnicholls/transport_api_demo/blob/master/harwell_wantage_bus.py"
   ]
  },
  {
   "cell_type": "code",
   "execution_count": 1,
   "metadata": {
    "collapsed": true
   },
   "outputs": [],
   "source": [
    "import requests\n",
    "import json\n",
    "import pprint"
   ]
  },
  {
   "cell_type": "code",
   "execution_count": 2,
   "metadata": {
    "collapsed": true
   },
   "outputs": [],
   "source": [
    "#url = 'https://api.tfl.gov.uk/line/mode/tube/status'\n",
    "url = 'https://api.tfl.gov.uk/line/{}/status'.format('bakerloo')\n",
    "r = requests.get(url)  # get the response object"
   ]
  },
  {
   "cell_type": "code",
   "execution_count": 3,
   "metadata": {
    "collapsed": true
   },
   "outputs": [],
   "source": [
    "def print_json(json_data):\n",
    "    pprint.PrettyPrinter().pprint(json_data)"
   ]
  },
  {
   "cell_type": "code",
   "execution_count": 4,
   "metadata": {
    "collapsed": false
   },
   "outputs": [
    {
     "name": "stdout",
     "output_type": "stream",
     "text": [
      "{'$type': 'Tfl.Api.Presentation.Entities.Line, Tfl.Api.Presentation.Entities',\n",
      " 'created': '2017-06-15T12:37:35.513Z',\n",
      " 'crowding': {'$type': 'Tfl.Api.Presentation.Entities.Crowding, '\n",
      "                       'Tfl.Api.Presentation.Entities'},\n",
      " 'disruptions': [],\n",
      " 'id': 'bakerloo',\n",
      " 'lineStatuses': [{'$type': 'Tfl.Api.Presentation.Entities.LineStatus, '\n",
      "                            'Tfl.Api.Presentation.Entities',\n",
      "                   'created': '0001-01-01T00:00:00',\n",
      "                   'id': 0,\n",
      "                   'statusSeverity': 10,\n",
      "                   'statusSeverityDescription': 'Good Service',\n",
      "                   'validityPeriods': []}],\n",
      " 'modeName': 'tube',\n",
      " 'modified': '2017-06-15T12:37:35.513Z',\n",
      " 'name': 'Bakerloo',\n",
      " 'routeSections': [],\n",
      " 'serviceTypes': [{'$type': 'Tfl.Api.Presentation.Entities.LineServiceTypeInfo, '\n",
      "                            'Tfl.Api.Presentation.Entities',\n",
      "                   'name': 'Regular',\n",
      "                   'uri': '/Line/Route?ids=Bakerloo&serviceTypes=Regular'}]}\n"
     ]
    }
   ],
   "source": [
    "bakerloo_dict = r.json()[0]\n",
    "print_json(bakerloo_dict)"
   ]
  },
  {
   "cell_type": "code",
   "execution_count": 5,
   "metadata": {
    "collapsed": false
   },
   "outputs": [
    {
     "data": {
      "text/plain": [
       "[{'$type': 'Tfl.Api.Presentation.Entities.LineStatus, Tfl.Api.Presentation.Entities',\n",
       "  'created': '0001-01-01T00:00:00',\n",
       "  'id': 0,\n",
       "  'statusSeverity': 10,\n",
       "  'statusSeverityDescription': 'Good Service',\n",
       "  'validityPeriods': []}]"
      ]
     },
     "execution_count": 5,
     "metadata": {},
     "output_type": "execute_result"
    }
   ],
   "source": [
    "bakerloo_dict['lineStatuses']"
   ]
  },
  {
   "cell_type": "code",
   "execution_count": 6,
   "metadata": {
    "collapsed": false
   },
   "outputs": [
    {
     "data": {
      "text/plain": [
       "'Good Service'"
      ]
     },
     "execution_count": 6,
     "metadata": {},
     "output_type": "execute_result"
    }
   ],
   "source": [
    "bakerloo_dict['lineStatuses'][0]['statusSeverityDescription']"
   ]
  },
  {
   "cell_type": "code",
   "execution_count": 7,
   "metadata": {
    "collapsed": false
   },
   "outputs": [],
   "source": [
    "lines = ['bakerloo',\n",
    " 'central',\n",
    " 'circle',\n",
    " 'district',\n",
    " 'hammersmith-city',\n",
    " 'jubilee',\n",
    " 'metropolitan',\n",
    " 'northern',\n",
    " 'piccadilly',\n",
    " 'victoria',\n",
    " 'waterloo-city']"
   ]
  },
  {
   "cell_type": "markdown",
   "metadata": {},
   "source": [
    "Wrap in a class with a method for updating and another for returning line of interest. Follow https://github.com/timcnicholls/home-assistant/blob/transport-api/homeassistant/components/sensor/uk_transport.py"
   ]
  },
  {
   "cell_type": "code",
   "execution_count": 8,
   "metadata": {
    "collapsed": false
   },
   "outputs": [],
   "source": [
    "class LondonTubeSensor():    # Entity\n",
    "    \"\"\"\n",
    "    Sensor that reads the status of a tube lines.\n",
    "    \"\"\"\n",
    "\n",
    "    API_URL_BASE = \"https://api.tfl.gov.uk/line/{}/status\"\n",
    "    ICON = 'mdi:subway'\n",
    "\n",
    "    def __init__(self, line):\n",
    "        \"\"\"Initialize the sensor.\"\"\"\n",
    "        self._data = {}\n",
    "        self._url = self.API_URL_BASE\n",
    "        self._line = line\n",
    "        self._state = 'Updating'\n",
    "\n",
    "    @property\n",
    "    def name(self):\n",
    "        \"\"\"Return the line name of the sensor.\"\"\"\n",
    "        return self._line\n",
    "\n",
    "    @property\n",
    "    def state(self):\n",
    "        \"\"\"Return the state of the sensor.\"\"\"\n",
    "        return self._state\n",
    "\n",
    "    @property\n",
    "    def icon(self):\n",
    "        \"\"\"Icon to use in the frontend, if any.\"\"\"\n",
    "        return self.ICON\n",
    "\n",
    "    @property\n",
    "    def unit_of_measurement(self):    # Do I need?\n",
    "        \"\"\"Return the unit this state is expressed in.\"\"\"\n",
    "        return \"\"\n",
    "\n",
    "    def update(self):\n",
    "        \"\"\"Perform an API request.\"\"\"\n",
    "\n",
    "        try:\n",
    "            response = requests.get(self._url.format(self._line.lower()))\n",
    "            response.raise_for_status()\n",
    "            self._data = response.json()[0]['lineStatuses']   # convert to json\n",
    "            self._statuses = [status['statusSeverityDescription'] for status in self._data]            \n",
    "\n",
    "            if 'Good Service' in self._statuses:   # if good status, this is the only status returned\n",
    "                self._state = 'Good Service'\n",
    "                self._description = 'Nothing to report'\n",
    "            else:\n",
    "                self._state = 'Disruptions' \n",
    "                self._description = [status['reason'] for status in self._data] # get the reasons\n",
    "                \n",
    "        except requests.RequestException as req_exc:\n",
    "            print(\n",
    "                'Invalid response from API: %s', req_exc\n",
    "            )\n"
   ]
  },
  {
   "cell_type": "code",
   "execution_count": 9,
   "metadata": {
    "collapsed": false
   },
   "outputs": [],
   "source": [
    "bakerloo_sensor = LondonTubeSensor('Bakerloo')\n",
    "circle_sensor = LondonTubeSensor('Circle')"
   ]
  },
  {
   "cell_type": "code",
   "execution_count": 10,
   "metadata": {
    "collapsed": false
   },
   "outputs": [
    {
     "name": "stdout",
     "output_type": "stream",
     "text": [
      "Disruptions\n",
      "['Part Suspended', 'Minor Delays']\n",
      "['Circle and Hammersmith & City lines - due to ongoing investigations at the site of the building fire near Latimer Road, the Circle and Hammersmith & City lines are suspended between Wood Lane and Edgware Road until further notice.\\r\\n<P>\\r\\nTrains will operate between Hammersmith and Wood Lane approximately every 15 minutes. Tickets are being accepted on local buses. Please check here for the latest information before you travel.\\r\\n</P>', 'Circle Line: No service between Wood Lane and  Edgware Road due to ongoing investigations at the site of the building fire near Latimer Road. Tickets are being accepted on local buses. MINOR DELAYS on the rest of the line. ']\n"
     ]
    }
   ],
   "source": [
    "circle_sensor.update()\n",
    "print(circle_sensor.state)\n",
    "print(circle_sensor._statuses)\n",
    "print(circle_sensor._description)"
   ]
  },
  {
   "cell_type": "code",
   "execution_count": 11,
   "metadata": {
    "collapsed": false
   },
   "outputs": [
    {
     "data": {
      "text/plain": [
       "[{'$type': 'Tfl.Api.Presentation.Entities.LineStatus, Tfl.Api.Presentation.Entities',\n",
       "  'created': '0001-01-01T00:00:00',\n",
       "  'disruption': {'$type': 'Tfl.Api.Presentation.Entities.Disruption, Tfl.Api.Presentation.Entities',\n",
       "   'additionalInfo': 'For the latest updates and for help planning your journey follow us on Twitter\\xa0<a href=\"https://twitter.com/circleline\">@circleline</a> and\\xa0<a href=\"https://twitter.com/hamandcityline/\">@hamandcityline</a> or call us on 0343 222 1234.',\n",
       "   'affectedRoutes': [],\n",
       "   'affectedStops': [],\n",
       "   'category': 'RealTime',\n",
       "   'categoryDescription': 'RealTime',\n",
       "   'closureText': 'partSuspended',\n",
       "   'created': '2017-06-20T01:55:00Z',\n",
       "   'description': 'Circle and Hammersmith & City lines - due to ongoing investigations at the site of the building fire near Latimer Road, the Circle and Hammersmith & City lines are suspended between Wood Lane and Edgware Road until further notice.\\r\\n<P>\\r\\nTrains will operate between Hammersmith and Wood Lane approximately every 15 minutes. Tickets are being accepted on local buses. Please check here for the latest information before you travel.\\r\\n</P>',\n",
       "   'isBlocking': True},\n",
       "  'id': 0,\n",
       "  'lineId': 'circle',\n",
       "  'reason': 'Circle and Hammersmith & City lines - due to ongoing investigations at the site of the building fire near Latimer Road, the Circle and Hammersmith & City lines are suspended between Wood Lane and Edgware Road until further notice.\\r\\n<P>\\r\\nTrains will operate between Hammersmith and Wood Lane approximately every 15 minutes. Tickets are being accepted on local buses. Please check here for the latest information before you travel.\\r\\n</P>',\n",
       "  'statusSeverity': 3,\n",
       "  'statusSeverityDescription': 'Part Suspended',\n",
       "  'validityPeriods': [{'$type': 'Tfl.Api.Presentation.Entities.ValidityPeriod, Tfl.Api.Presentation.Entities',\n",
       "    'fromDate': '2017-06-18T15:43:00Z',\n",
       "    'isNow': True,\n",
       "    'toDate': '2017-06-23T01:30:00Z'}]},\n",
       " {'$type': 'Tfl.Api.Presentation.Entities.LineStatus, Tfl.Api.Presentation.Entities',\n",
       "  'created': '0001-01-01T00:00:00',\n",
       "  'disruption': {'$type': 'Tfl.Api.Presentation.Entities.Disruption, Tfl.Api.Presentation.Entities',\n",
       "   'affectedRoutes': [],\n",
       "   'affectedStops': [],\n",
       "   'category': 'RealTime',\n",
       "   'categoryDescription': 'RealTime',\n",
       "   'closureText': 'minorDelays',\n",
       "   'description': 'Circle Line: No service between Wood Lane and  Edgware Road due to ongoing investigations at the site of the building fire near Latimer Road. Tickets are being accepted on local buses. MINOR DELAYS on the rest of the line. ',\n",
       "   'isWholeLine': True},\n",
       "  'id': 0,\n",
       "  'lineId': 'circle',\n",
       "  'reason': 'Circle Line: No service between Wood Lane and  Edgware Road due to ongoing investigations at the site of the building fire near Latimer Road. Tickets are being accepted on local buses. MINOR DELAYS on the rest of the line. ',\n",
       "  'statusSeverity': 9,\n",
       "  'statusSeverityDescription': 'Minor Delays',\n",
       "  'validityPeriods': [{'$type': 'Tfl.Api.Presentation.Entities.ValidityPeriod, Tfl.Api.Presentation.Entities',\n",
       "    'fromDate': '2017-06-21T04:40:15Z',\n",
       "    'isNow': True,\n",
       "    'toDate': '2017-06-22T01:29:00Z'}]}]"
      ]
     },
     "execution_count": 11,
     "metadata": {},
     "output_type": "execute_result"
    }
   ],
   "source": [
    "circle_sensor._data"
   ]
  },
  {
   "cell_type": "code",
   "execution_count": 12,
   "metadata": {
    "collapsed": false
   },
   "outputs": [
    {
     "data": {
      "text/plain": [
       "2"
      ]
     },
     "execution_count": 12,
     "metadata": {},
     "output_type": "execute_result"
    }
   ],
   "source": [
    "len(circle_sensor._description)"
   ]
  },
  {
   "cell_type": "code",
   "execution_count": 13,
   "metadata": {
    "collapsed": false
   },
   "outputs": [
    {
     "data": {
      "text/plain": [
       "['Part Suspended', 'Minor Delays']"
      ]
     },
     "execution_count": 13,
     "metadata": {},
     "output_type": "execute_result"
    }
   ],
   "source": [
    "circle_sensor._statuses"
   ]
  },
  {
   "cell_type": "code",
   "execution_count": 14,
   "metadata": {
    "collapsed": false
   },
   "outputs": [
    {
     "name": "stdout",
     "output_type": "stream",
     "text": [
      "['Good Service']\n"
     ]
    }
   ],
   "source": [
    "bakerloo_sensor.update()\n",
    "print(bakerloo_sensor._statuses)"
   ]
  },
  {
   "cell_type": "code",
   "execution_count": 15,
   "metadata": {
    "collapsed": false
   },
   "outputs": [
    {
     "data": {
      "text/plain": [
       "9"
      ]
     },
     "execution_count": 15,
     "metadata": {},
     "output_type": "execute_result"
    }
   ],
   "source": [
    "len(circle_sensor._data[0])"
   ]
  },
  {
   "cell_type": "code",
   "execution_count": 16,
   "metadata": {
    "collapsed": false
   },
   "outputs": [
    {
     "ename": "KeyError",
     "evalue": "'lineStatuses'",
     "output_type": "error",
     "traceback": [
      "\u001b[0;31m---------------------------------------------------------------------------\u001b[0m",
      "\u001b[0;31mKeyError\u001b[0m                                  Traceback (most recent call last)",
      "\u001b[0;32m<ipython-input-16-6e566bac10f5>\u001b[0m in \u001b[0;36m<module>\u001b[0;34m()\u001b[0m\n\u001b[0;32m----> 1\u001b[0;31m \u001b[0mlen\u001b[0m\u001b[0;34m(\u001b[0m\u001b[0mcircle_sensor\u001b[0m\u001b[0;34m.\u001b[0m\u001b[0m_data\u001b[0m\u001b[0;34m[\u001b[0m\u001b[0;36m0\u001b[0m\u001b[0;34m]\u001b[0m\u001b[0;34m[\u001b[0m\u001b[0;34m'lineStatuses'\u001b[0m\u001b[0;34m]\u001b[0m\u001b[0;34m)\u001b[0m\u001b[0;34m\u001b[0m\u001b[0m\n\u001b[0m",
      "\u001b[0;31mKeyError\u001b[0m: 'lineStatuses'"
     ]
    }
   ],
   "source": [
    "len(circle_sensor._data[0]['lineStatuses'])"
   ]
  },
  {
   "cell_type": "code",
   "execution_count": null,
   "metadata": {
    "collapsed": false
   },
   "outputs": [],
   "source": [
    "hammer_sensor = LondonTubeSensor('Hammersmith-City')\n",
    "hammer_sensor.update()\n",
    "hammer_sensor.state"
   ]
  },
  {
   "cell_type": "code",
   "execution_count": null,
   "metadata": {
    "collapsed": false
   },
   "outputs": [],
   "source": [
    "response = requests.get('https://api.tfl.gov.uk/line/bakerloo/status').json()\n",
    "response"
   ]
  },
  {
   "cell_type": "code",
   "execution_count": null,
   "metadata": {
    "collapsed": false
   },
   "outputs": [],
   "source": [
    "bakerloo_sensor.name"
   ]
  },
  {
   "cell_type": "markdown",
   "metadata": {},
   "source": [
    "Place sensors in list"
   ]
  },
  {
   "cell_type": "code",
   "execution_count": null,
   "metadata": {
    "collapsed": false
   },
   "outputs": [],
   "source": [
    "desired_tubes = ['district', 'circle']\n",
    "sensors = []\n",
    "\n",
    "for tube in desired_tubes:\n",
    "    sensors.append(LondonTubeSensor(tube))"
   ]
  },
  {
   "cell_type": "code",
   "execution_count": null,
   "metadata": {
    "collapsed": false
   },
   "outputs": [],
   "source": [
    "desired_tubes"
   ]
  },
  {
   "cell_type": "code",
   "execution_count": null,
   "metadata": {
    "collapsed": false
   },
   "outputs": [],
   "source": [
    "sensors   # for add_devices"
   ]
  },
  {
   "cell_type": "code",
   "execution_count": null,
   "metadata": {
    "collapsed": true
   },
   "outputs": [],
   "source": [
    "sensors[0].update()"
   ]
  },
  {
   "cell_type": "code",
   "execution_count": null,
   "metadata": {
    "collapsed": false
   },
   "outputs": [],
   "source": [
    "sensors[0].state"
   ]
  },
  {
   "cell_type": "code",
   "execution_count": null,
   "metadata": {
    "collapsed": true
   },
   "outputs": [],
   "source": []
  }
 ],
 "metadata": {
  "anaconda-cloud": {},
  "kernelspec": {
   "display_name": "Python [conda root]",
   "language": "python",
   "name": "conda-root-py"
  },
  "language_info": {
   "codemirror_mode": {
    "name": "ipython",
    "version": 3
   },
   "file_extension": ".py",
   "mimetype": "text/x-python",
   "name": "python",
   "nbconvert_exporter": "python",
   "pygments_lexer": "ipython3",
   "version": "3.5.2"
  }
 },
 "nbformat": 4,
 "nbformat_minor": 1
}
