{
 "cells": [
  {
   "cell_type": "code",
   "execution_count": 1,
   "metadata": {},
   "outputs": [],
   "source": [
    "from london_tube_status import TubeData\n",
    "import pprint"
   ]
  },
  {
   "cell_type": "code",
   "execution_count": 2,
   "metadata": {},
   "outputs": [],
   "source": [
    "def print_json(json_data):\n",
    "    pprint.PrettyPrinter().pprint(json_data)"
   ]
  },
  {
   "cell_type": "code",
   "execution_count": 3,
   "metadata": {},
   "outputs": [],
   "source": [
    "tube_data = TubeData()"
   ]
  },
  {
   "cell_type": "code",
   "execution_count": 4,
   "metadata": {},
   "outputs": [],
   "source": [
    "tube_data.update()"
   ]
  },
  {
   "cell_type": "code",
   "execution_count": 5,
   "metadata": {},
   "outputs": [
    {
     "name": "stdout",
     "output_type": "stream",
     "text": [
      "{'Bakerloo': {'Description': 'Nothing to report', 'State': 'Good Service'},\n",
      " 'Central': {'Description': 'Nothing to report', 'State': 'Good Service'},\n",
      " 'Circle': {'Description': 'Nothing to report', 'State': 'Good Service'},\n",
      " 'DLR': {'Description': \"DLR: New Year's Eve, Monday 31 December. A special \"\n",
      "                        'all-night service will operate. Trains will run every '\n",
      "                        '15 minutes on all routes from 00:30 until 08:00 on '\n",
      "                        \"New Year's Day\",\n",
      "         'State': 'Special Service'},\n",
      " 'District': {'Description': 'DISTRICT LINE: Monday 31 December, and New '\n",
      "                             \"Year's Day 1 January, no service between Earls \"\n",
      "                             'Court and Kensington Olympia',\n",
      "              'State': 'Part Closure'},\n",
      " 'Hammersmith & City': {'Description': 'Nothing to report',\n",
      "                        'State': 'Good Service'},\n",
      " 'Jubilee': {'Description': 'Nothing to report', 'State': 'Good Service'},\n",
      " 'London Overground': {'Description': 'LONDON OVERGROUND: Thursday 27 December '\n",
      "                                      'to Tuesday 1 January, amended service '\n",
      "                                      'between Liverpool Street and Chingford, '\n",
      "                                      'trains will run every 20 minutes, not '\n",
      "                                      'stopping at Bethnal Green, Hackney '\n",
      "                                      'Downs or Clapton. *** LONDON '\n",
      "                                      'OVERGROUND: Friday 28 December to '\n",
      "                                      'Tuesday 1 January, no service between '\n",
      "                                      'Edmonton Green and Cheshunt, please use '\n",
      "                                      'local bus services or services from '\n",
      "                                      'Ponders End, Brimsdown, Enfield Lock or '\n",
      "                                      'Waltham Cross, or Greater Anglia '\n",
      "                                      'services between Liverpool Street and '\n",
      "                                      'Waltham Cross/Cheshunt via Tottenham '\n",
      "                                      'Hale, instead. *** LONDON OVERGROUND: '\n",
      "                                      'Thursday 27 December to Tuesday 1 '\n",
      "                                      'January, amended service between '\n",
      "                                      'Liverpool Street and Enfield Town - '\n",
      "                                      'trains will run every 20 minutes, not '\n",
      "                                      'stopping at Bethnal Green, Cambridge '\n",
      "                                      'Heath, London Fields or Hackney Downs. '\n",
      "                                      '*** LONDON OVERGROUND: Sunday 23 '\n",
      "                                      'December to Tuesday 1 January, no '\n",
      "                                      'service between Romford and Upminster. '\n",
      "                                      'Use local London Buses routes 165 248 '\n",
      "                                      'and 370 instead. *** LONDON OVERGROUND: '\n",
      "                                      'Saturday 29 December to Tuesday 1 '\n",
      "                                      'January, no service between South '\n",
      "                                      'Tottenham and Barking. Replacement '\n",
      "                                      'buses operate between Walthamstow '\n",
      "                                      'Central and Barking. Supplementary '\n",
      "                                      'buses will operate between Gospel Oak '\n",
      "                                      'and South Tottenham on Saturday and '\n",
      "                                      'Sunday.',\n",
      "                       'State': 'Part Closure'},\n",
      " 'Metropolitan': {'Description': 'Nothing to report', 'State': 'Good Service'},\n",
      " 'Northern': {'Description': 'Nothing to report', 'State': 'Good Service'},\n",
      " 'Piccadilly': {'Description': 'PICCADILLY LINE: Monday 31 December, no '\n",
      "                               'service between Rayners Lane and Uxbridge. '\n",
      "                               'Please use the Metropolitan line instead.',\n",
      "                'State': 'Part Closure'},\n",
      " 'TfL Rail': {'Description': 'TFL RAIL: Monday 31 December, a reduced 30 '\n",
      "                             'minute service will operate between Paddington '\n",
      "                             'and Hayes & Harlington. Train will not stop at '\n",
      "                             'Acton Main Line, West Ealing or Hanwell. *** TFL '\n",
      "                             'RAIL: Friday 28, Saturday 29, Sunday 30, Monday '\n",
      "                             '31 December and Tuesday 1 January, no service '\n",
      "                             'between Liverpool Street and Romford. '\n",
      "                             'Replacement buses operate between Stratford / '\n",
      "                             'Newbury Park and Romford.',\n",
      "              'State': 'Part Closure + Reduced Service'},\n",
      " 'Victoria': {'Description': 'Nothing to report', 'State': 'Good Service'},\n",
      " 'Waterloo & City': {'Description': 'Nothing to report',\n",
      "                     'State': 'Good Service'}}\n"
     ]
    }
   ],
   "source": [
    "print_json(tube_data.data)"
   ]
  },
  {
   "cell_type": "code",
   "execution_count": 6,
   "metadata": {},
   "outputs": [
    {
     "data": {
      "text/plain": [
       "'2018-12-31 08:38:27'"
      ]
     },
     "execution_count": 6,
     "metadata": {},
     "output_type": "execute_result"
    }
   ],
   "source": [
    "tube_data.last_updated"
   ]
  },
  {
   "cell_type": "code",
   "execution_count": null,
   "metadata": {},
   "outputs": [],
   "source": []
  }
 ],
 "metadata": {
  "kernelspec": {
   "display_name": "Python 3",
   "language": "python",
   "name": "python3"
  },
  "language_info": {
   "codemirror_mode": {
    "name": "ipython",
    "version": 3
   },
   "file_extension": ".py",
   "mimetype": "text/x-python",
   "name": "python",
   "nbconvert_exporter": "python",
   "pygments_lexer": "ipython3",
   "version": "3.6.5"
  }
 },
 "nbformat": 4,
 "nbformat_minor": 2
}
