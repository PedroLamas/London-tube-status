{
 "cells": [
  {
   "cell_type": "markdown",
   "metadata": {},
   "source": [
    "Check the status of tube lines\n",
    "\n",
    "http://docs.python-requests.org/en/master/\n",
    "\n",
    "http://docs.python-requests.org/en/master/user/quickstart/#make-a-request Tutorial\n",
    "\n",
    "https://github.com/timcnicholls/transport_api_demo/blob/master/harwell_wantage_bus.py"
   ]
  },
  {
   "cell_type": "code",
   "execution_count": 1,
   "metadata": {
    "collapsed": true
   },
   "outputs": [],
   "source": [
    "import requests\n",
    "import json\n",
    "import pprint"
   ]
  },
  {
   "cell_type": "code",
   "execution_count": 2,
   "metadata": {
    "collapsed": true
   },
   "outputs": [],
   "source": [
    "#url = 'https://api.tfl.gov.uk/line/mode/tube/status'\n",
    "url = 'https://api.tfl.gov.uk/line/{}/status'.format('bakerloo')\n",
    "r = requests.get(url)  # get the response object"
   ]
  },
  {
   "cell_type": "code",
   "execution_count": 3,
   "metadata": {
    "collapsed": true
   },
   "outputs": [],
   "source": [
    "def print_json(json_data):\n",
    "    pprint.PrettyPrinter().pprint(json_data)"
   ]
  },
  {
   "cell_type": "code",
   "execution_count": 7,
   "metadata": {
    "collapsed": false
   },
   "outputs": [
    {
     "name": "stdout",
     "output_type": "stream",
     "text": [
      "{'$type': 'Tfl.Api.Presentation.Entities.Line, Tfl.Api.Presentation.Entities',\n",
      " 'created': '2017-06-15T12:37:35.513Z',\n",
      " 'crowding': {'$type': 'Tfl.Api.Presentation.Entities.Crowding, '\n",
      "                       'Tfl.Api.Presentation.Entities'},\n",
      " 'disruptions': [],\n",
      " 'id': 'bakerloo',\n",
      " 'lineStatuses': [{'$type': 'Tfl.Api.Presentation.Entities.LineStatus, '\n",
      "                            'Tfl.Api.Presentation.Entities',\n",
      "                   'created': '0001-01-01T00:00:00',\n",
      "                   'id': 0,\n",
      "                   'statusSeverity': 10,\n",
      "                   'statusSeverityDescription': 'Good Service',\n",
      "                   'validityPeriods': []}],\n",
      " 'modeName': 'tube',\n",
      " 'modified': '2017-06-15T12:37:35.513Z',\n",
      " 'name': 'Bakerloo',\n",
      " 'routeSections': [],\n",
      " 'serviceTypes': [{'$type': 'Tfl.Api.Presentation.Entities.LineServiceTypeInfo, '\n",
      "                            'Tfl.Api.Presentation.Entities',\n",
      "                   'name': 'Regular',\n",
      "                   'uri': '/Line/Route?ids=Bakerloo&serviceTypes=Regular'}]}\n"
     ]
    }
   ],
   "source": [
    "bakerloo_dict = r.json()[0]\n",
    "print_json(bakerloo_dict)"
   ]
  },
  {
   "cell_type": "code",
   "execution_count": 8,
   "metadata": {
    "collapsed": false
   },
   "outputs": [
    {
     "data": {
      "text/plain": [
       "[{'$type': 'Tfl.Api.Presentation.Entities.LineStatus, Tfl.Api.Presentation.Entities',\n",
       "  'created': '0001-01-01T00:00:00',\n",
       "  'id': 0,\n",
       "  'statusSeverity': 10,\n",
       "  'statusSeverityDescription': 'Good Service',\n",
       "  'validityPeriods': []}]"
      ]
     },
     "execution_count": 8,
     "metadata": {},
     "output_type": "execute_result"
    }
   ],
   "source": [
    "bakerloo_dict['lineStatuses']"
   ]
  },
  {
   "cell_type": "code",
   "execution_count": 10,
   "metadata": {
    "collapsed": false
   },
   "outputs": [
    {
     "data": {
      "text/plain": [
       "'Good Service'"
      ]
     },
     "execution_count": 10,
     "metadata": {},
     "output_type": "execute_result"
    }
   ],
   "source": [
    "bakerloo_dict['lineStatuses'][0]['statusSeverityDescription']"
   ]
  },
  {
   "cell_type": "code",
   "execution_count": 11,
   "metadata": {
    "collapsed": false
   },
   "outputs": [],
   "source": [
    "lines = ['bakerloo',\n",
    " 'central',\n",
    " 'circle',\n",
    " 'district',\n",
    " 'hammersmith-city',\n",
    " 'jubilee',\n",
    " 'metropolitan',\n",
    " 'northern',\n",
    " 'piccadilly',\n",
    " 'victoria',\n",
    " 'waterloo-city']"
   ]
  },
  {
   "cell_type": "markdown",
   "metadata": {},
   "source": [
    "Wrap in a class with a method for updating and another for returning line of interest. Follow https://github.com/timcnicholls/home-assistant/blob/transport-api/homeassistant/components/sensor/uk_transport.py"
   ]
  },
  {
   "cell_type": "code",
   "execution_count": 103,
   "metadata": {
    "collapsed": false
   },
   "outputs": [],
   "source": [
    "class LondonTubeSensor():    # Entity\n",
    "    \"\"\"\n",
    "    Sensor that reads the status of a tube lines.\n",
    "    \"\"\"\n",
    "\n",
    "    API_URL_BASE = \"https://api.tfl.gov.uk/line/{}/status\"\n",
    "    ICON = 'mdi:subway'\n",
    "\n",
    "    def __init__(self, line):\n",
    "        \"\"\"Initialize the sensor.\"\"\"\n",
    "        self._data = {}\n",
    "        self._url = self.API_URL_BASE\n",
    "        self._line = line\n",
    "        self._state = 'Updating'\n",
    "\n",
    "    @property\n",
    "    def name(self):\n",
    "        \"\"\"Return the line name of the sensor.\"\"\"\n",
    "        return self._line\n",
    "\n",
    "    @property\n",
    "    def state(self):\n",
    "        \"\"\"Return the state of the sensor.\"\"\"\n",
    "        return self._state\n",
    "\n",
    "    @property\n",
    "    def icon(self):\n",
    "        \"\"\"Icon to use in the frontend, if any.\"\"\"\n",
    "        return self.ICON\n",
    "\n",
    "    @property\n",
    "    def unit_of_measurement(self):    # Do I need?\n",
    "        \"\"\"Return the unit this state is expressed in.\"\"\"\n",
    "        return \"\"\n",
    "\n",
    "    def update(self):\n",
    "        \"\"\"Perform an API request.\"\"\"\n",
    "\n",
    "        try:\n",
    "            response = requests.get(self._url.format(self._line.lower()))\n",
    "            response.raise_for_status()\n",
    "            self._data = response.json()[0]['lineStatuses']   # convert to json\n",
    "            self._statuses = [status['statusSeverityDescription'] for status in self._data]            \n",
    "\n",
    "            if 'Good Service' in self._statuses:   # if good status, this is the only status returned\n",
    "                self._state = 'Good Service'\n",
    "                self._description = 'Nothing to report'\n",
    "            else:\n",
    "                self._state = 'Disruptions' \n",
    "                self._description = [status['reason'] for status in self._data] # get the reasons\n",
    "                \n",
    "        except requests.RequestException as req_exc:\n",
    "            print(\n",
    "                'Invalid response from API: %s', req_exc\n",
    "            )\n"
   ]
  },
  {
   "cell_type": "code",
   "execution_count": 104,
   "metadata": {
    "collapsed": false
   },
   "outputs": [],
   "source": [
    "bakerloo_sensor = LondonTubeSensor('Bakerloo')\n",
    "circle_sensor = LondonTubeSensor('Circle')"
   ]
  },
  {
   "cell_type": "code",
   "execution_count": 105,
   "metadata": {
    "collapsed": false
   },
   "outputs": [
    {
     "name": "stdout",
     "output_type": "stream",
     "text": [
      "Disruptions\n",
      "['Part Suspended', 'Minor Delays', 'Part Suspended']\n",
      "['Circle and Hammersmith & City lines - due to ongoing investigations at the '\n",
      " 'site of the building fire near Latimer Road, the Circle and Hammersmith & '\n",
      " 'City lines are suspended between Wood Lane and Edgware Road until further '\n",
      " 'notice.\\r\\n'\n",
      " '<P>\\r\\n'\n",
      " 'Trains will operate between Hammersmith and Wood Lane approximately every 15 '\n",
      " 'minutes. Tickets are being accepted on local buses. Please check here for '\n",
      " 'the latest information before you travel.\\r\\n'\n",
      " '</P>',\n",
      " 'Circle Line: No service Wood Lane and  Edgware Road due to ongoing '\n",
      " 'investigations at the site of the building fire near Latimer Road. MINOR '\n",
      " 'DELAYS on the rest of the line. ',\n",
      " 'Circle Line: No service Wood Lane and  Edgware Road due to ongoing '\n",
      " 'investigations at the site of the building fire near Latimer Road. MINOR '\n",
      " 'DELAYS on the rest of the line. ']\n"
     ]
    }
   ],
   "source": [
    "circle_sensor.update()\n",
    "print(circle_sensor.state)\n",
    "print(circle_sensor._statuses)\n",
    "print_json(circle_sensor._description)"
   ]
  },
  {
   "cell_type": "code",
   "execution_count": 106,
   "metadata": {
    "collapsed": false
   },
   "outputs": [
    {
     "data": {
      "text/plain": [
       "3"
      ]
     },
     "execution_count": 106,
     "metadata": {},
     "output_type": "execute_result"
    }
   ],
   "source": [
    "len(circle_sensor._description)"
   ]
  },
  {
   "cell_type": "code",
   "execution_count": 99,
   "metadata": {
    "collapsed": false
   },
   "outputs": [
    {
     "data": {
      "text/plain": [
       "['Part Suspended', 'Minor Delays', 'Part Suspended']"
      ]
     },
     "execution_count": 99,
     "metadata": {},
     "output_type": "execute_result"
    }
   ],
   "source": [
    "circle_sensor._statuses"
   ]
  },
  {
   "cell_type": "code",
   "execution_count": 81,
   "metadata": {
    "collapsed": false
   },
   "outputs": [
    {
     "name": "stdout",
     "output_type": "stream",
     "text": [
      "['Good Service']\n"
     ]
    }
   ],
   "source": [
    "bakerloo_sensor.update()\n",
    "print(bakerloo_sensor._statuses)"
   ]
  },
  {
   "cell_type": "code",
   "execution_count": 67,
   "metadata": {
    "collapsed": false
   },
   "outputs": [
    {
     "data": {
      "text/plain": [
       "11"
      ]
     },
     "execution_count": 67,
     "metadata": {},
     "output_type": "execute_result"
    }
   ],
   "source": [
    "len(circle_sensor._data[0])"
   ]
  },
  {
   "cell_type": "code",
   "execution_count": 72,
   "metadata": {
    "collapsed": false
   },
   "outputs": [
    {
     "data": {
      "text/plain": [
       "4"
      ]
     },
     "execution_count": 72,
     "metadata": {},
     "output_type": "execute_result"
    }
   ],
   "source": [
    "len(circle_sensor._data[0]['lineStatuses'])"
   ]
  },
  {
   "cell_type": "code",
   "execution_count": 41,
   "metadata": {
    "collapsed": false
   },
   "outputs": [
    {
     "data": {
      "text/plain": [
       "'Part Suspended'"
      ]
     },
     "execution_count": 41,
     "metadata": {},
     "output_type": "execute_result"
    }
   ],
   "source": [
    "hammer_sensor = LondonTubeSensor('Hammersmith-City')\n",
    "hammer_sensor.update()\n",
    "hammer_sensor.state"
   ]
  },
  {
   "cell_type": "code",
   "execution_count": 34,
   "metadata": {
    "collapsed": false
   },
   "outputs": [
    {
     "data": {
      "text/plain": [
       "[{'$type': 'Tfl.Api.Presentation.Entities.Line, Tfl.Api.Presentation.Entities',\n",
       "  'created': '2017-06-15T12:37:35.513Z',\n",
       "  'crowding': {'$type': 'Tfl.Api.Presentation.Entities.Crowding, Tfl.Api.Presentation.Entities'},\n",
       "  'disruptions': [],\n",
       "  'id': 'bakerloo',\n",
       "  'lineStatuses': [{'$type': 'Tfl.Api.Presentation.Entities.LineStatus, Tfl.Api.Presentation.Entities',\n",
       "    'created': '0001-01-01T00:00:00',\n",
       "    'id': 0,\n",
       "    'statusSeverity': 10,\n",
       "    'statusSeverityDescription': 'Good Service',\n",
       "    'validityPeriods': []}],\n",
       "  'modeName': 'tube',\n",
       "  'modified': '2017-06-15T12:37:35.513Z',\n",
       "  'name': 'Bakerloo',\n",
       "  'routeSections': [],\n",
       "  'serviceTypes': [{'$type': 'Tfl.Api.Presentation.Entities.LineServiceTypeInfo, Tfl.Api.Presentation.Entities',\n",
       "    'name': 'Regular',\n",
       "    'uri': '/Line/Route?ids=Bakerloo&serviceTypes=Regular'}]}]"
      ]
     },
     "execution_count": 34,
     "metadata": {},
     "output_type": "execute_result"
    }
   ],
   "source": [
    "response = requests.get('https://api.tfl.gov.uk/line/bakerloo/status').json()\n",
    "response"
   ]
  },
  {
   "cell_type": "code",
   "execution_count": 33,
   "metadata": {
    "collapsed": false
   },
   "outputs": [
    {
     "data": {
      "text/plain": [
       "'Tube sensor'"
      ]
     },
     "execution_count": 33,
     "metadata": {},
     "output_type": "execute_result"
    }
   ],
   "source": [
    "bakerloo_sensor.name"
   ]
  },
  {
   "cell_type": "markdown",
   "metadata": {},
   "source": [
    "Place sensors in list"
   ]
  },
  {
   "cell_type": "code",
   "execution_count": 21,
   "metadata": {
    "collapsed": false
   },
   "outputs": [],
   "source": [
    "desired_tubes = ['district', 'circle']\n",
    "sensors = []\n",
    "\n",
    "for tube in desired_tubes:\n",
    "    sensors.append(LondonTubeSensor(tube))"
   ]
  },
  {
   "cell_type": "code",
   "execution_count": 22,
   "metadata": {
    "collapsed": false
   },
   "outputs": [
    {
     "data": {
      "text/plain": [
       "['district', 'circle']"
      ]
     },
     "execution_count": 22,
     "metadata": {},
     "output_type": "execute_result"
    }
   ],
   "source": [
    "desired_tubes"
   ]
  },
  {
   "cell_type": "code",
   "execution_count": 23,
   "metadata": {
    "collapsed": false
   },
   "outputs": [
    {
     "data": {
      "text/plain": [
       "[<__main__.LondonTubeSensor at 0x104dd32e8>,\n",
       " <__main__.LondonTubeSensor at 0x104dd3f60>]"
      ]
     },
     "execution_count": 23,
     "metadata": {},
     "output_type": "execute_result"
    }
   ],
   "source": [
    "sensors   # for add_devices"
   ]
  },
  {
   "cell_type": "code",
   "execution_count": 24,
   "metadata": {
    "collapsed": true
   },
   "outputs": [],
   "source": [
    "sensors[0].update()"
   ]
  },
  {
   "cell_type": "code",
   "execution_count": 25,
   "metadata": {
    "collapsed": false
   },
   "outputs": [
    {
     "data": {
      "text/plain": [
       "'Good Service'"
      ]
     },
     "execution_count": 25,
     "metadata": {},
     "output_type": "execute_result"
    }
   ],
   "source": [
    "sensors[0].state"
   ]
  },
  {
   "cell_type": "code",
   "execution_count": null,
   "metadata": {
    "collapsed": true
   },
   "outputs": [],
   "source": []
  }
 ],
 "metadata": {
  "anaconda-cloud": {},
  "kernelspec": {
   "display_name": "Python [conda root]",
   "language": "python",
   "name": "conda-root-py"
  },
  "language_info": {
   "codemirror_mode": {
    "name": "ipython",
    "version": 3
   },
   "file_extension": ".py",
   "mimetype": "text/x-python",
   "name": "python",
   "nbconvert_exporter": "python",
   "pygments_lexer": "ipython3",
   "version": "3.5.2"
  }
 },
 "nbformat": 4,
 "nbformat_minor": 1
}
