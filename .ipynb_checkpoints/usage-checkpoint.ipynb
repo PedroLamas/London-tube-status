{
 "cells": [
  {
   "cell_type": "code",
   "execution_count": 9,
   "metadata": {},
   "outputs": [],
   "source": [
    "from london_tube_status import TubeData"
   ]
  },
  {
   "cell_type": "code",
   "execution_count": 10,
   "metadata": {},
   "outputs": [],
   "source": [
    "tube_data = TubeData()"
   ]
  },
  {
   "cell_type": "code",
   "execution_count": 11,
   "metadata": {},
   "outputs": [],
   "source": [
    "tube_data.update()"
   ]
  },
  {
   "cell_type": "code",
   "execution_count": 12,
   "metadata": {},
   "outputs": [
    {
     "data": {
      "text/plain": [
       "{'Bakerloo': {'State': 'Good Service', 'Description': 'Nothing to report'},\n",
       " 'Central': {'State': 'Good Service', 'Description': 'Nothing to report'},\n",
       " 'Circle': {'State': 'Good Service', 'Description': 'Nothing to report'},\n",
       " 'District': {'State': 'Part Closure',\n",
       "  'Description': \"DISTRICT LINE: Monday 31 December, and New Year's Day 1 January, no service between Earls Court and Kensington Olympia\"},\n",
       " 'DLR': {'State': 'Special Service',\n",
       "  'Description': \"DLR: New Year's Eve, Monday 31 December. A special all-night service will operate. Trains will run every 15 minutes on all routes from 00:30 until 08:00 on New Year's Day\"},\n",
       " 'Hammersmith & City': {'State': 'Good Service',\n",
       "  'Description': 'Nothing to report'},\n",
       " 'Jubilee': {'State': 'Good Service', 'Description': 'Nothing to report'},\n",
       " 'London Overground': {'State': 'Part Closure',\n",
       "  'Description': 'LONDON OVERGROUND: Thursday 27 December to Tuesday 1 January, amended service between Liverpool Street and Chingford, trains will run every 20 minutes, not stopping at Bethnal Green, Hackney Downs or Clapton. *** LONDON OVERGROUND: Friday 28 December to Tuesday 1 January, no service between Edmonton Green and Cheshunt, please use local bus services or services from Ponders End, Brimsdown, Enfield Lock or Waltham Cross, or Greater Anglia services between Liverpool Street and Waltham Cross/Cheshunt via Tottenham Hale, instead. *** LONDON OVERGROUND: Thursday 27 December to Tuesday 1 January, amended service between Liverpool Street and Enfield Town - trains will run every 20 minutes, not stopping at Bethnal Green, Cambridge Heath, London Fields or Hackney Downs. *** LONDON OVERGROUND: Sunday 23 December to Tuesday 1 January, no service between Romford and Upminster. Use local London Buses routes 165 248 and 370 instead. *** LONDON OVERGROUND: Saturday 29 December to Tuesday 1 January, no service between South Tottenham and Barking. Replacement buses operate between Walthamstow Central and Barking. Supplementary buses will operate between Gospel Oak and South Tottenham on Saturday and Sunday.'},\n",
       " 'Metropolitan': {'State': 'Good Service', 'Description': 'Nothing to report'},\n",
       " 'Northern': {'State': 'Good Service', 'Description': 'Nothing to report'},\n",
       " 'Piccadilly': {'State': 'Part Closure',\n",
       "  'Description': 'PICCADILLY LINE: Monday 31 December, no service between Rayners Lane and Uxbridge. Please use the Metropolitan line instead.'},\n",
       " 'TfL Rail': {'State': 'Part Closure + Reduced Service',\n",
       "  'Description': 'TFL RAIL: Monday 31 December, a reduced 30 minute service will operate between Paddington and Hayes & Harlington. Train will not stop at Acton Main Line, West Ealing or Hanwell. *** TFL RAIL: Friday 28, Saturday 29, Sunday 30, Monday 31 December and Tuesday 1 January, no service between Liverpool Street and Romford. Replacement buses operate between Stratford / Newbury Park and Romford.'},\n",
       " 'Victoria': {'State': 'Good Service', 'Description': 'Nothing to report'},\n",
       " 'Waterloo & City': {'State': 'Good Service',\n",
       "  'Description': 'Nothing to report'}}"
      ]
     },
     "execution_count": 12,
     "metadata": {},
     "output_type": "execute_result"
    }
   ],
   "source": [
    "tube_data.data"
   ]
  },
  {
   "cell_type": "code",
   "execution_count": null,
   "metadata": {},
   "outputs": [],
   "source": []
  },
  {
   "cell_type": "code",
   "execution_count": null,
   "metadata": {},
   "outputs": [],
   "source": []
  }
 ],
 "metadata": {
  "kernelspec": {
   "display_name": "Python 3",
   "language": "python",
   "name": "python3"
  },
  "language_info": {
   "codemirror_mode": {
    "name": "ipython",
    "version": 3
   },
   "file_extension": ".py",
   "mimetype": "text/x-python",
   "name": "python",
   "nbconvert_exporter": "python",
   "pygments_lexer": "ipython3",
   "version": "3.6.5"
  }
 },
 "nbformat": 4,
 "nbformat_minor": 2
}
