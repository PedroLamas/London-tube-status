{
 "cells": [
  {
   "cell_type": "code",
   "execution_count": 1,
   "metadata": {},
   "outputs": [],
   "source": [
    "from london_tube_status import TubeData"
   ]
  },
  {
   "cell_type": "code",
   "execution_count": 2,
   "metadata": {},
   "outputs": [],
   "source": [
    "tube_data = TubeData()"
   ]
  },
  {
   "cell_type": "code",
   "execution_count": 3,
   "metadata": {},
   "outputs": [],
   "source": [
    "tube_data.update()"
   ]
  },
  {
   "cell_type": "code",
   "execution_count": 4,
   "metadata": {},
   "outputs": [
    {
     "data": {
      "text/plain": [
       "{'Bakerloo': {'State': 'Minor Delays',\n",
       "  'Description': \"Bakerloo Line: Minor delays between Queen's Park and Elephant & Castle due to a signal failure at Waterloo. GOOD SERVICE on the rest of the line. \"},\n",
       " 'Central': {'State': 'Good Service', 'Description': 'Nothing to report'},\n",
       " 'Circle': {'State': 'Good Service', 'Description': 'Nothing to report'},\n",
       " 'District': {'State': 'Good Service', 'Description': 'Nothing to report'},\n",
       " 'DLR': {'State': 'Good Service', 'Description': 'Nothing to report'},\n",
       " 'Hammersmith & City': {'State': 'Good Service',\n",
       "  'Description': 'Nothing to report'},\n",
       " 'Jubilee': {'State': 'Good Service', 'Description': 'Nothing to report'},\n",
       " 'London Overground': {'State': 'Part Closure',\n",
       "  'Description': 'LONDON OVERGROUND: Saturday 29 and Sunday 30 December, no service between Surrey Quays and Clapham Junction, replacement buses operate. *** LONDON OVERGROUND: Thursday 27 December to Tuesday 1 January, amended service between Liverpool Street and Chingford, trains will run every 20 minutes, not stopping at Bethnal Green, Hackney Downs or Clapton. *** LONDON OVERGROUND: Friday 28 December to Tuesday 1 January, no service between Edmonton Green and Cheshunt, please use local bus services or services from Ponders End, Brimsdown, Enfield Lock or Waltham Cross, or Greater Anglia services between Liverpool Street and Waltham Cross/Cheshunt via Tottenham Hale, instead. *** LONDON OVERGROUND: Thursday 27 December to Tuesday 1 January, amended service between Liverpool Street and Enfield Town - trains will run every 20 minutes, not stopping at Bethnal Green, Cambridge Heath, London Fields or Hackney Downs. *** LONDON OVERGROUND: Sunday 23 December to Tuesday 1 January, no service between Romford and Upminster. Use local London Buses routes 165 248 and 370 instead. *** LONDON OVERGROUND: Saturday 29 December to Tuesday 1 January, no service between South Tottenham and Barking. Replacement buses operate between Walthamstow Central and Barking. Supplementary buses will operate between Gospel Oak and South Tottenham on Saturday and Sunday.'},\n",
       " 'Metropolitan': {'State': 'Good Service', 'Description': 'Nothing to report'},\n",
       " 'Northern': {'State': 'Good Service', 'Description': 'Nothing to report'},\n",
       " 'Piccadilly': {'State': 'Good Service', 'Description': 'Nothing to report'},\n",
       " 'TfL Rail': {'State': 'Part Closure',\n",
       "  'Description': 'TFL RAIL: Sunday 30 December, no service between Paddington and Heathrow Terminal 4. A GWR Rail Replacement bus service will be operating between Slough and Ealing Broadway (30 min service) calling at all stations apart from Iver, Hanwell and West Ealing. A GWR replacement bus service will also be operating between Langley and West Drayton calling at Iver. *** TFL RAIL: Friday 28, Saturday 29, Sunday 30, Monday 31 December and Tuesday 1 January, no service between Liverpool Street and Romford. Replacement buses operate between Stratford / Newbury Park and Romford.'},\n",
       " 'Victoria': {'State': 'Good Service', 'Description': 'Nothing to report'},\n",
       " 'Waterloo & City': {'State': 'Service Closed',\n",
       "  'Description': 'Waterloo and City Line: Train service will resume at 06:00 tomorrow. '}}"
      ]
     },
     "execution_count": 4,
     "metadata": {},
     "output_type": "execute_result"
    }
   ],
   "source": [
    "tube_data.data"
   ]
  },
  {
   "cell_type": "code",
   "execution_count": null,
   "metadata": {},
   "outputs": [],
   "source": []
  }
 ],
 "metadata": {
  "kernelspec": {
   "display_name": "Python 3",
   "language": "python",
   "name": "python3"
  },
  "language_info": {
   "codemirror_mode": {
    "name": "ipython",
    "version": 3
   },
   "file_extension": ".py",
   "mimetype": "text/x-python",
   "name": "python",
   "nbconvert_exporter": "python",
   "pygments_lexer": "ipython3",
   "version": "3.6.5"
  }
 },
 "nbformat": 4,
 "nbformat_minor": 2
}
