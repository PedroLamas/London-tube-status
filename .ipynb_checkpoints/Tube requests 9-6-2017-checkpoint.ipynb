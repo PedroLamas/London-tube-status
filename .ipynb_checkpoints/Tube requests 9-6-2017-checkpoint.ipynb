{
 "cells": [
  {
   "cell_type": "markdown",
   "metadata": {},
   "source": [
    "Check the status of tube lines\n",
    "\n",
    "http://docs.python-requests.org/en/master/\n",
    "\n",
    "http://docs.python-requests.org/en/master/user/quickstart/#make-a-request Tutorial\n",
    "\n",
    "https://github.com/timcnicholls/transport_api_demo/blob/master/harwell_wantage_bus.py"
   ]
  },
  {
   "cell_type": "code",
   "execution_count": 1,
   "metadata": {
    "collapsed": true
   },
   "outputs": [],
   "source": [
    "import requests\n",
    "import json\n",
    "import pprint"
   ]
  },
  {
   "cell_type": "code",
   "execution_count": 2,
   "metadata": {
    "collapsed": true
   },
   "outputs": [],
   "source": [
    "url = 'https://api.tfl.gov.uk/line/mode/tube/status'\n",
    "r = requests.get(url)  # get the response object"
   ]
  },
  {
   "cell_type": "code",
   "execution_count": 3,
   "metadata": {
    "collapsed": true
   },
   "outputs": [],
   "source": [
    "def print_json(json_data):\n",
    "    pprint.PrettyPrinter().pprint(json_data)"
   ]
  },
  {
   "cell_type": "code",
   "execution_count": 4,
   "metadata": {
    "collapsed": false
   },
   "outputs": [
    {
     "name": "stdout",
     "output_type": "stream",
     "text": [
      "{'$type': 'Tfl.Api.Presentation.Entities.Line, Tfl.Api.Presentation.Entities',\n",
      " 'created': '2017-06-06T19:09:32.977Z',\n",
      " 'crowding': {'$type': 'Tfl.Api.Presentation.Entities.Crowding, '\n",
      "                       'Tfl.Api.Presentation.Entities'},\n",
      " 'disruptions': [],\n",
      " 'id': 'bakerloo',\n",
      " 'lineStatuses': [{'$type': 'Tfl.Api.Presentation.Entities.LineStatus, '\n",
      "                            'Tfl.Api.Presentation.Entities',\n",
      "                   'created': '0001-01-01T00:00:00',\n",
      "                   'id': 0,\n",
      "                   'statusSeverity': 10,\n",
      "                   'statusSeverityDescription': 'Good Service',\n",
      "                   'validityPeriods': []}],\n",
      " 'modeName': 'tube',\n",
      " 'modified': '2017-06-06T19:09:32.977Z',\n",
      " 'name': 'Bakerloo',\n",
      " 'routeSections': [],\n",
      " 'serviceTypes': [{'$type': 'Tfl.Api.Presentation.Entities.LineServiceTypeInfo, '\n",
      "                            'Tfl.Api.Presentation.Entities',\n",
      "                   'name': 'Regular',\n",
      "                   'uri': '/Line/Route?ids=Bakerloo&serviceTypes=Regular'}]}\n"
     ]
    }
   ],
   "source": [
    "bakerloo_dict = r.json()[0]\n",
    "print_json(bakerloo_dict)"
   ]
  },
  {
   "cell_type": "code",
   "execution_count": 5,
   "metadata": {
    "collapsed": false
   },
   "outputs": [
    {
     "data": {
      "text/plain": [
       "dict_keys(['modified', 'name', 'lineStatuses', 'serviceTypes', 'crowding', '$type', 'routeSections', 'modeName', 'created', 'disruptions', 'id'])"
      ]
     },
     "execution_count": 5,
     "metadata": {},
     "output_type": "execute_result"
    }
   ],
   "source": [
    "bakerloo_dict.keys()"
   ]
  },
  {
   "cell_type": "code",
   "execution_count": 6,
   "metadata": {
    "collapsed": false
   },
   "outputs": [
    {
     "data": {
      "text/plain": [
       "dict_keys(['statusSeverityDescription', 'validityPeriods', 'statusSeverity', '$type', 'created', 'id'])"
      ]
     },
     "execution_count": 6,
     "metadata": {},
     "output_type": "execute_result"
    }
   ],
   "source": [
    "bakerloo_dict['lineStatuses'][0].keys()"
   ]
  },
  {
   "cell_type": "code",
   "execution_count": 7,
   "metadata": {
    "collapsed": false
   },
   "outputs": [
    {
     "data": {
      "text/plain": [
       "'Good Service'"
      ]
     },
     "execution_count": 7,
     "metadata": {},
     "output_type": "execute_result"
    }
   ],
   "source": [
    "bakerloo_dict['lineStatuses'][0]['statusSeverityDescription']"
   ]
  },
  {
   "cell_type": "code",
   "execution_count": 8,
   "metadata": {
    "collapsed": false
   },
   "outputs": [
    {
     "data": {
      "text/plain": [
       "['bakerloo',\n",
       " 'central',\n",
       " 'circle',\n",
       " 'district',\n",
       " 'hammersmith-city',\n",
       " 'jubilee',\n",
       " 'metropolitan',\n",
       " 'northern',\n",
       " 'piccadilly',\n",
       " 'victoria',\n",
       " 'waterloo-city']"
      ]
     },
     "execution_count": 8,
     "metadata": {},
     "output_type": "execute_result"
    }
   ],
   "source": [
    "lines = [line['id'] for line in r.json()]\n",
    "lines"
   ]
  },
  {
   "cell_type": "code",
   "execution_count": 9,
   "metadata": {
    "collapsed": false
   },
   "outputs": [
    {
     "data": {
      "text/plain": [
       "['Good Service',\n",
       " 'Good Service',\n",
       " 'Good Service',\n",
       " 'Good Service',\n",
       " 'Good Service',\n",
       " 'Good Service',\n",
       " 'Good Service',\n",
       " 'Good Service',\n",
       " 'Good Service',\n",
       " 'Good Service',\n",
       " 'Good Service']"
      ]
     },
     "execution_count": 9,
     "metadata": {},
     "output_type": "execute_result"
    }
   ],
   "source": [
    "statuses = [line['lineStatuses'][0]['statusSeverityDescription'] for line in r.json()]\n",
    "statuses"
   ]
  },
  {
   "cell_type": "markdown",
   "metadata": {},
   "source": [
    "Use a comprehension \n",
    "\n",
    " {value:key for key, value in a_dict.items()}"
   ]
  },
  {
   "cell_type": "code",
   "execution_count": 10,
   "metadata": {
    "collapsed": true
   },
   "outputs": [],
   "source": [
    "line_statuses =  {key:value for key, value in zip(lines, statuses)}"
   ]
  },
  {
   "cell_type": "code",
   "execution_count": 11,
   "metadata": {
    "collapsed": false
   },
   "outputs": [
    {
     "data": {
      "text/plain": [
       "dict_keys(['northern', 'district', 'hammersmith-city', 'metropolitan', 'circle', 'jubilee', 'victoria', 'waterloo-city', 'bakerloo', 'piccadilly', 'central'])"
      ]
     },
     "execution_count": 11,
     "metadata": {},
     "output_type": "execute_result"
    }
   ],
   "source": [
    "line_statuses.keys()"
   ]
  },
  {
   "cell_type": "code",
   "execution_count": 12,
   "metadata": {
    "collapsed": false
   },
   "outputs": [
    {
     "data": {
      "text/plain": [
       "'Good Service'"
      ]
     },
     "execution_count": 12,
     "metadata": {},
     "output_type": "execute_result"
    }
   ],
   "source": [
    "line_statuses['district']"
   ]
  },
  {
   "cell_type": "code",
   "execution_count": 17,
   "metadata": {
    "collapsed": false
   },
   "outputs": [
    {
     "data": {
      "text/plain": [
       "{'bakerloo': 'Good Service',\n",
       " 'central': 'Good Service',\n",
       " 'circle': 'Good Service',\n",
       " 'district': 'Good Service',\n",
       " 'hammersmith-city': 'Good Service',\n",
       " 'jubilee': 'Good Service',\n",
       " 'metropolitan': 'Good Service',\n",
       " 'northern': 'Good Service',\n",
       " 'piccadilly': 'Good Service',\n",
       " 'victoria': 'Good Service',\n",
       " 'waterloo-city': 'Good Service'}"
      ]
     },
     "execution_count": 17,
     "metadata": {},
     "output_type": "execute_result"
    }
   ],
   "source": [
    "line_statuses"
   ]
  },
  {
   "cell_type": "code",
   "execution_count": 19,
   "metadata": {
    "collapsed": false
   },
   "outputs": [
    {
     "data": {
      "text/plain": [
       "'Good Service'"
      ]
     },
     "execution_count": 19,
     "metadata": {},
     "output_type": "execute_result"
    }
   ],
   "source": [
    "# convenience function to get dict of statuses\n",
    "def tube_statuses(line_requested):\n",
    "    url = 'https://api.tfl.gov.uk/line/mode/tube/status'\n",
    "    r = requests.get(url)  # get the response object\n",
    "    lines = [line['id'] for line in r.json()]\n",
    "    statuses = [line['lineStatuses'][0]['statusSeverityDescription'] for line in r.json()]\n",
    "    status_dict = {key:value for key, value in zip(lines, statuses)}\n",
    "    return status_dict[line_requested]\n",
    "\n",
    "\n",
    "tube_statuses('bakerloo')"
   ]
  },
  {
   "cell_type": "code",
   "execution_count": 31,
   "metadata": {
    "collapsed": true
   },
   "outputs": [],
   "source": [
    "url = 'https://api.tfl.gov.uk/line/mode/tube/status'\n",
    "r = requests.get(url)  # get the response object"
   ]
  },
  {
   "cell_type": "code",
   "execution_count": 32,
   "metadata": {
    "collapsed": false
   },
   "outputs": [
    {
     "data": {
      "text/plain": [
       "<Response [200]>"
      ]
     },
     "execution_count": 32,
     "metadata": {},
     "output_type": "execute_result"
    }
   ],
   "source": [
    "r"
   ]
  },
  {
   "cell_type": "markdown",
   "metadata": {},
   "source": [
    "Wrap in a class with a method for updating and another for returning line of interest. Follow https://github.com/timcnicholls/home-assistant/blob/transport-api/homeassistant/components/sensor/uk_transport.py"
   ]
  },
  {
   "cell_type": "code",
   "execution_count": 46,
   "metadata": {
    "collapsed": true
   },
   "outputs": [],
   "source": [
    "class LondonTubeSensor():    # Entity\n",
    "    \"\"\"\n",
    "    Sensor that reads the status of a tube lines. \n",
    "    \"\"\"\n",
    "\n",
    "    TRANSPORT_API_URL_BASE = \"https://api.tfl.gov.uk/line/mode/tube/status\"\n",
    "    ICON = 'mdi:train'\n",
    "\n",
    "    def __init__(self, line):\n",
    "        \"\"\"Initialize the sensor.\"\"\"\n",
    "        self._data = {}\n",
    "        self._url = self.TRANSPORT_API_URL_BASE\n",
    "        self._line = line\n",
    "        self._state = None\n",
    "\n",
    "    @property\n",
    "    def line(self):\n",
    "        \"\"\"Return the name of the sensor.\"\"\"\n",
    "        return self._line\n",
    "\n",
    "    @property\n",
    "    def state(self):\n",
    "        \"\"\"Return the state of the sensor.\"\"\"\n",
    "        return self._state\n",
    "\n",
    "    @property\n",
    "    def icon(self):\n",
    "        \"\"\"Icon to use in the frontend, if any.\"\"\"\n",
    "        return self.ICON\n",
    "\n",
    "    def update(self):\n",
    "        \"\"\"Perform an API request.\"\"\"\n",
    "\n",
    "        try:\n",
    "            response = requests.get(self._url)\n",
    "            response.raise_for_status()\n",
    "            \n",
    "            lines = [line['id'] for line in response.json()]\n",
    "            statuses = [line['lineStatuses'][0]['statusSeverityDescription'] for line in response.json()]\n",
    "            status_dict = {key:value for key, value in zip(lines, statuses)} \n",
    "            \n",
    "            self._data = status_dict\n",
    "            self._state = status_dict[self.line]\n",
    "            \n",
    "        except requests.RequestException as req_exc:\n",
    "            print(\n",
    "                'Invalid response from transportapi.com: %s', req_exc\n",
    "            )"
   ]
  },
  {
   "cell_type": "code",
   "execution_count": 47,
   "metadata": {
    "collapsed": false
   },
   "outputs": [],
   "source": [
    "bakerloo_sensor = LondonTubeSensor('bakerloo')"
   ]
  },
  {
   "cell_type": "code",
   "execution_count": 48,
   "metadata": {
    "collapsed": false
   },
   "outputs": [
    {
     "name": "stdout",
     "output_type": "stream",
     "text": [
      "Good Service\n"
     ]
    }
   ],
   "source": [
    "bakerloo_sensor.update()\n",
    "print(bakerloo_sensor.state)"
   ]
  },
  {
   "cell_type": "code",
   "execution_count": null,
   "metadata": {
    "collapsed": true
   },
   "outputs": [],
   "source": []
  }
 ],
 "metadata": {
  "anaconda-cloud": {},
  "kernelspec": {
   "display_name": "Python [conda root]",
   "language": "python",
   "name": "conda-root-py"
  },
  "language_info": {
   "codemirror_mode": {
    "name": "ipython",
    "version": 3
   },
   "file_extension": ".py",
   "mimetype": "text/x-python",
   "name": "python",
   "nbconvert_exporter": "python",
   "pygments_lexer": "ipython3",
   "version": "3.5.2"
  }
 },
 "nbformat": 4,
 "nbformat_minor": 1
}
